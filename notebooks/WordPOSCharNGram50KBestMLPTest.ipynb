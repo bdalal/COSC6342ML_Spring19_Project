{
 "cells": [
  {
   "cell_type": "code",
   "execution_count": 9,
   "metadata": {},
   "outputs": [],
   "source": [
    "import pandas as pd\n",
    "import numpy as np\n",
    "from pickle import dump, load\n",
    "from joblib import dump as jdump\n",
    "from sklearn.model_selection import train_test_split, cross_val_score\n",
    "from sklearn.neural_network import MLPClassifier\n",
    "from sklearn.feature_selection import chi2, GenericUnivariateSelect\n",
    "from sklearn.metrics import f1_score, precision_score, recall_score, auc\n",
    "from sklearn.feature_extraction.text import CountVectorizer\n",
    "from scipy.sparse import hstack"
   ]
  },
  {
   "cell_type": "code",
   "execution_count": 2,
   "metadata": {},
   "outputs": [],
   "source": [
    "features = pd.read_pickle('../data/feature_dumps/scaled_features.pkl')"
   ]
  },
  {
   "cell_type": "code",
   "execution_count": 3,
   "metadata": {},
   "outputs": [],
   "source": [
    "with open('../data/feature_dumps/word_pos_binary_ngrams_50k_best', 'rb') as pkldump:\n",
    "    feature1 = load(pkldump)"
   ]
  },
  {
   "cell_type": "code",
   "execution_count": 5,
   "metadata": {},
   "outputs": [],
   "source": [
    "blogs = pd.read_csv('../data/blog-gender-dataset_csv.csv')"
   ]
  },
  {
   "cell_type": "code",
   "execution_count": 6,
   "metadata": {},
   "outputs": [],
   "source": [
    "cv = CountVectorizer(analyzer='char', binary=True, ngram_range=(2, 7))\n",
    "char_fit = cv.fit_transform(blogs.Blog.astype(str))"
   ]
  },
  {
   "cell_type": "code",
   "execution_count": 7,
   "metadata": {},
   "outputs": [],
   "source": [
    "new_features = hstack((feature1, char_fit), format='csr')"
   ]
  },
  {
   "cell_type": "code",
   "execution_count": 8,
   "metadata": {},
   "outputs": [
    {
     "name": "stdout",
     "output_type": "stream",
     "text": [
      "(3212, 295)\n",
      "(3212, 50000)\n",
      "(3212, 3261983)\n"
     ]
    }
   ],
   "source": [
    "print(features.shape)\n",
    "print(feature1.shape)\n",
    "print(new_features.shape)"
   ]
  },
  {
   "cell_type": "code",
   "execution_count": 10,
   "metadata": {},
   "outputs": [],
   "source": [
    "selector = GenericUnivariateSelect(chi2, 'k_best', param=50000)\n",
    "selected_features = selector.fit_transform(new_features, blogs.Gender)"
   ]
  },
  {
   "cell_type": "code",
   "execution_count": 11,
   "metadata": {},
   "outputs": [
    {
     "data": {
      "text/plain": [
       "(3212, 50000)"
      ]
     },
     "execution_count": 11,
     "metadata": {},
     "output_type": "execute_result"
    }
   ],
   "source": [
    "selected_features.shape"
   ]
  },
  {
   "cell_type": "code",
   "execution_count": 12,
   "metadata": {},
   "outputs": [],
   "source": [
    "mlp = MLPClassifier(hidden_layer_sizes=(75, 75), activation='identity', early_stopping=True, solver='adam', \n",
    "                    max_iter=2500, learning_rate='constant')"
   ]
  },
  {
   "cell_type": "code",
   "execution_count": 13,
   "metadata": {},
   "outputs": [
    {
     "name": "stdout",
     "output_type": "stream",
     "text": [
      "Score =  [0.92879257 0.90031153 0.86604361 0.87850467 0.90654206 0.86604361\n",
      " 0.90342679 0.91588785 0.90342679 0.87850467]\n",
      "Average score =  0.8947484158444491\n"
     ]
    }
   ],
   "source": [
    "score = cross_val_score(mlp, selected_features, blogs.Gender, cv=10, n_jobs=1)\n",
    "print(\"Score = \", score)\n",
    "print(\"Average score = \", np.mean(score))"
   ]
  },
  {
   "cell_type": "code",
   "execution_count": 14,
   "metadata": {},
   "outputs": [],
   "source": [
    "btr, bte, gtr, gte = train_test_split(selected_features, blogs.Gender, test_size=0.1, stratify=blogs.Gender, shuffle=True)\n",
    "btr2, bv, gtr2, gv = train_test_split(btr, gtr, test_size=0.18, stratify=gtr, shuffle=True)"
   ]
  },
  {
   "cell_type": "code",
   "execution_count": 15,
   "metadata": {},
   "outputs": [
    {
     "name": "stdout",
     "output_type": "stream",
     "text": [
      "0.8714011516314779\n",
      "0.8757763975155279\n"
     ]
    }
   ],
   "source": [
    "mlp = MLPClassifier(hidden_layer_sizes=(75, 75), activation='identity', early_stopping=True, solver='adam', \n",
    "                    max_iter=2500, learning_rate='constant')\n",
    "mlp.fit(btr2, gtr2)\n",
    "print(mlp.score(bv, gv))\n",
    "print(mlp.score(bte, gte))"
   ]
  },
  {
   "cell_type": "code",
   "execution_count": 16,
   "metadata": {},
   "outputs": [
    {
     "name": "stdout",
     "output_type": "stream",
     "text": [
      "Score =  [0.87586207 0.91034483 0.88275862 0.89273356 0.8615917  0.88581315\n",
      " 0.91695502 0.87152778 0.90972222 0.93402778]\n",
      "Average score =  0.8941336720624694\n"
     ]
    }
   ],
   "source": [
    "score = cross_val_score(mlp, btr, gtr, cv=10, n_jobs=1)\n",
    "print(\"Score = \", score)\n",
    "print(\"Average score = \", np.mean(score))"
   ]
  },
  {
   "cell_type": "code",
   "execution_count": null,
   "metadata": {},
   "outputs": [],
   "source": []
  }
 ],
 "metadata": {
  "kernelspec": {
   "display_name": "Python 3",
   "language": "python",
   "name": "python3"
  },
  "language_info": {
   "codemirror_mode": {
    "name": "ipython",
    "version": 3
   },
   "file_extension": ".py",
   "mimetype": "text/x-python",
   "name": "python",
   "nbconvert_exporter": "python",
   "pygments_lexer": "ipython3",
   "version": "3.6.7"
  }
 },
 "nbformat": 4,
 "nbformat_minor": 2
}
