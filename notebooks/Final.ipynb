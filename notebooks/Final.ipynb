{
 "cells": [
  {
   "cell_type": "code",
   "execution_count": 1,
   "metadata": {},
   "outputs": [],
   "source": [
    "import pandas as pd\n",
    "import numpy as np\n",
    "from sklearn.feature_extraction.text import CountVectorizer\n",
    "from sklearn.feature_selection import GenericUnivariateSelect, chi2, mutual_info_classif\n",
    "from sklearn.model_selection import train_test_split, cross_val_score\n",
    "from sklearn.neural_network import MLPClassifier\n",
    "from sklearn.svm import SVC\n",
    "from scipy.sparse import hstack, vstack\n",
    "from pickle import dump,load"
   ]
  },
  {
   "cell_type": "code",
   "execution_count": 2,
   "metadata": {},
   "outputs": [],
   "source": [
    "features = pd.read_pickle(\"/home/binoy/OneDrive/UH/COSC 6342 - Machine Learning/Project/GenderClassification/data/feature_dumps/scaled_features.pkl\")"
   ]
  },
  {
   "cell_type": "code",
   "execution_count": 3,
   "metadata": {},
   "outputs": [],
   "source": [
    "features = features.drop(columns=['NN', 'NNPS', 'VBD', 'VBZ', 'MD',\n",
    "       'EX', 'IN', 'VB', 'JJR', 'JJS', 'PRP', 'WDT', 'JJ', 'VBP', 'NNS',\n",
    "       'VBN', 'DT', 'RB', 'WP', 'VBG', 'NNP', 'RBR', 'PRP$', 'JJ NN',\n",
    "       'VBP VB', 'VBD PRP', 'IN IN', 'NNP VBZ', 'RB DT', 'NN VBG',\n",
    "       'IN JJ', 'NN NN', 'RB VBZ', 'VBG DT', 'NN NNS', 'VBZ JJ', 'IN RB',\n",
    "       'JJ JJ', 'NN VBZ', 'IN VBG', 'VBP DT', 'VB NN', 'NNS VBP',\n",
    "       'DT NNP', 'PRP VBZ', 'PRP VBD', 'PRP VB', 'NN PRP', 'NN DT',\n",
    "       'VBZ VB', 'PRP VBP', 'PRP$ JJ', 'VBD IN', 'VB JJ', 'NN JJ',\n",
    "       'RB VB', 'JJ NNP', 'RB VBG', 'VBZ PRP', 'VBD DT', 'RB RB', 'JJ VB',\n",
    "       'PRP RB', 'JJ IN', 'VBD VB', 'VB IN', 'VBP PRP', 'VBD RB',\n",
    "       'VBG IN', 'PRP IN', 'VB PRP', 'NN RB', 'NNP NN', 'VB VBN',\n",
    "       'NN NNP', 'IN NN', 'VBP VBN', 'NN WDT', 'RB IN', 'DT JJ', 'RB VBD',\n",
    "       'VBZ IN', 'NN MD', 'VB DT', 'NNS IN', 'NNP RB', 'VB PRP$',\n",
    "       'VBP IN', 'RB VBP', 'NNS RB', 'DT NN', 'VBZ VBN', 'MD RB',\n",
    "       'NNP IN', 'NN VBD', 'JJ NNS', 'NN VB', 'IN PRP$', 'MD VB',\n",
    "       'RB PRP', 'NNS VB', 'VBZ DT', 'VBG NN', 'VBN IN', 'PRP$ NNS',\n",
    "       'VB VB', 'VBP RB', 'NNP NNP', 'NN IN', 'VB RB', 'VBG PRP',\n",
    "       'PRP MD', 'IN DT', 'NNP VBD', 'IN NNS', 'IN NNP', 'RB JJ',\n",
    "       'IN PRP', 'VBD JJ', 'RB VBN', 'DT NNS', 'VBD VBN', 'PRP$ NN',\n",
    "       'VBZ RB', 'VBP JJ', 'DT NN VBZ', 'PRP VBD IN', 'JJ NNP NN',\n",
    "       'DT NNP NNP', 'RB IN PRP', 'IN JJ NN', 'JJ NN VB', 'IN NN IN',\n",
    "       'IN DT NNS', 'NNS IN PRP', 'NN IN NNS', 'VBN IN DT', 'PRP VBP JJ',\n",
    "       'DT NNP NN', 'VBZ DT NN', 'PRP VBP RB', 'IN DT JJ', 'MD RB VB',\n",
    "       'JJ NN IN', 'RB DT NN', 'VBG DT NN', 'NNP NN NN', 'DT NNS IN',\n",
    "       'DT NN IN', 'JJ NN NN', 'VB DT NN', 'DT JJ NNS', 'NN IN PRP$',\n",
    "       'IN JJ NNS', 'NNS IN NN', 'VBZ DT JJ', 'PRP VBP DT', 'NNP NNP NN',\n",
    "       'PRP VBP PRP', 'VB DT JJ', 'VB PRP$ NN', 'DT JJ JJ', 'IN PRP VBP',\n",
    "       'DT NN VB', 'IN NNP NNP', 'NNS IN DT', 'VB IN DT', 'IN DT NNP',\n",
    "       'NN IN NNP', 'IN PRP$ NN', 'DT JJ NN', 'NN NN IN', 'IN NN NN',\n",
    "       'VBP DT NN', 'PRP MD VB', 'PRP$ NN NN', 'RB JJ NN', 'DT NN NN',\n",
    "       'IN PRP$ JJ', 'VBD DT JJ', 'PRP VBP VB', 'NN NN NN', 'VBD DT NN',\n",
    "       'NNP NNP NNP', 'PRP VBD VB', 'JJ NNS IN', 'IN DT NN', 'NN IN NN',\n",
    "       'PRP VBP IN', 'PRP VBD DT', 'IN PRP VBD', 'NN IN JJ', 'DT NN RB',\n",
    "       'NN IN PRP', 'NN IN DT', 'RB IN DT', 'JJ JJ NN', 'PRP$ NN IN',\n",
    "       'RB PRP VBP', 'PRP$ JJ NN', 'IN DT JJ NN', 'NN IN DT NN',\n",
    "       'NN IN PRP$ NN', 'NN IN DT JJ', 'IN DT NN VB', 'DT JJ NN IN',\n",
    "       'IN DT NN NN', 'DT JJ NN NN', 'VB DT JJ NN', 'IN DT NNP NN',\n",
    "       'DT NN IN PRP', 'JJ NN IN DT', 'DT NN IN NN', 'NNS IN DT NN',\n",
    "       'VB DT NN IN', 'NN IN JJ NN', 'DT NN IN DT', 'JJ NN IN NN',\n",
    "       'IN DT NN IN', 'DT NN IN DT NN', 'NN IN DT JJ NN',\n",
    "       'DT JJ NN IN NN', 'JJ NN IN DT NN', 'DT VBZ', 'DT RB', 'VBD NN',\n",
    "       'NNP VB', 'IN NNP NN', 'JJ NNS VB', 'PRP$ NN VB', 'VBN IN NN',\n",
    "       'NN NN VB', 'PRP RB VB', 'VBZ NN', 'DT IN', 'DT VB', 'RB NN',\n",
    "       'WP VB', 'VBP NN', 'DT DT', 'VBN NN', 'IN VB', 'WDT VB',\n",
    "       'IN PRP VB', 'NNP NNP VB', 'NN IN VB', 'RB PRP VB', 'NN PRP VB'])"
   ]
  },
  {
   "cell_type": "code",
   "execution_count": 3,
   "metadata": {},
   "outputs": [],
   "source": [
    "gender = features.Gender\n",
    "features = features.drop(columns=['Gender'])"
   ]
  },
  {
   "cell_type": "code",
   "execution_count": 4,
   "metadata": {},
   "outputs": [],
   "source": [
    "train_data, test_data, gender_train, gender_test = train_test_split(features, gender, test_size=0.1, shuffle=True, stratify=gender, random_state=42)"
   ]
  },
  {
   "cell_type": "code",
   "execution_count": 5,
   "metadata": {},
   "outputs": [],
   "source": [
    "train_data, val_data, gender_train, gender_val = train_test_split(train_data, gender_train, test_size=0.22, shuffle=True, stratify=gender_train, random_state=42)"
   ]
  },
  {
   "cell_type": "code",
   "execution_count": 6,
   "metadata": {},
   "outputs": [],
   "source": [
    "train_blog = train_data.Blog\n",
    "train_pos = train_data.POS\n",
    "val_blog = val_data.Blog\n",
    "val_pos = val_data.POS\n",
    "test_blog = test_data.Blog\n",
    "test_pos = test_data.POS\n",
    "train_data = train_data.drop(columns=['Blog', 'POS'])\n",
    "val_data = val_data.drop(columns=['Blog', 'POS'])\n",
    "test_data = test_data.drop(columns=['Blog', 'POS'])"
   ]
  },
  {
   "cell_type": "code",
   "execution_count": 8,
   "metadata": {},
   "outputs": [],
   "source": [
    "nrange = (2, 8)\n",
    "cv_blog_word = CountVectorizer(binary=True, ngram_range=nrange)\n",
    "cv_blog_char = CountVectorizer(binary=True, ngram_range=nrange, analyzer='char')\n",
    "cv_pos = CountVectorizer(binary=True, ngram_range=nrange)"
   ]
  },
  {
   "cell_type": "code",
   "execution_count": 9,
   "metadata": {},
   "outputs": [],
   "source": [
    "train_blog_word_features = cv_blog_word.fit_transform(train_blog.astype(str))\n",
    "train_blog_char_features = cv_blog_char.fit_transform(train_blog.astype(str))\n",
    "train_pos_word_features = cv_pos.fit_transform(train_pos.astype(str))"
   ]
  },
  {
   "cell_type": "code",
   "execution_count": 10,
   "metadata": {},
   "outputs": [],
   "source": [
    "val_blog_word_features = cv_blog_word.transform(val_blog.astype(str))\n",
    "val_blog_char_features = cv_blog_char.transform(val_blog.astype(str))\n",
    "val_pos_word_features = cv_pos.transform(val_pos.astype(str))\n",
    "test_blog_word_features = cv_blog_word.transform(test_blog.astype(str))\n",
    "test_blog_char_features = cv_blog_char.transform(test_blog.astype(str))\n",
    "test_pos_word_features = cv_pos.transform(test_pos.astype(str))"
   ]
  },
  {
   "cell_type": "code",
   "execution_count": 11,
   "metadata": {},
   "outputs": [],
   "source": [
    "train_features = hstack((train_blog_word_features, train_blog_char_features, train_pos_word_features, train_data), format='csr')\n",
    "val_features = hstack((val_blog_word_features, val_blog_char_features, val_pos_word_features, val_data), format='csr')\n",
    "test_features = hstack((test_blog_word_features, test_blog_char_features, test_pos_word_features, test_data), format='csr')\n",
    "\n",
    "# train_features = hstack((train_blog_word_features, train_blog_char_features, train_data), format='csr')\n",
    "# val_features = hstack((val_blog_word_features, val_blog_char_features, val_data), format='csr')\n",
    "# test_features = hstack((test_blog_word_features, test_blog_char_features, test_data), format='csr')"
   ]
  },
  {
   "cell_type": "code",
   "execution_count": 12,
   "metadata": {},
   "outputs": [],
   "source": [
    "n_features = 50000\n",
    "transformer_chi = GenericUnivariateSelect(chi2, 'k_best', param=n_features)\n",
    "# transformer_mi = GenericUnivariateSelect(mutual_info_classif, 'k_best', param=n_features)"
   ]
  },
  {
   "cell_type": "code",
   "execution_count": 13,
   "metadata": {},
   "outputs": [],
   "source": [
    "train_features_chi = transformer_chi.fit_transform(train_features, gender_train)\n",
    "val_features_chi = transformer_chi.transform(val_features)\n",
    "test_features_chi = transformer_chi.transform(test_features)\n",
    "# train_features_mi = transformer_mi.fit_transform(train_features, gender_train)\n",
    "# val_features_mi = transformer_mi.transform(val_features)\n",
    "# test_features_mi = transformer_mi.transform(test_features)"
   ]
  },
  {
   "cell_type": "code",
   "execution_count": 14,
   "metadata": {},
   "outputs": [],
   "source": [
    "mlp_chi = MLPClassifier(hidden_layer_sizes=(75, 75), activation='identity', solver='adam', random_state=42, early_stopping=True, max_iter=2500)\n",
    "# mlp_mi = MLPClassifier(hidden_layer_sizes=(75, 75), activation='identity', solver='adam', random_state=42, early_stopping=True, max_iter=2500)"
   ]
  },
  {
   "cell_type": "code",
   "execution_count": 15,
   "metadata": {},
   "outputs": [
    {
     "data": {
      "text/plain": [
       "0.7232704402515723"
      ]
     },
     "execution_count": 15,
     "metadata": {},
     "output_type": "execute_result"
    }
   ],
   "source": [
    "mlp_chi.fit(train_features_chi, gender_train)\n",
    "mlp_chi.score(val_features_chi, gender_val)"
   ]
  },
  {
   "cell_type": "code",
   "execution_count": 16,
   "metadata": {},
   "outputs": [],
   "source": [
    "# mlp_mi.fit(train_features_mi, gender_train)\n",
    "# mlp_mi.score(val_features_mi, gender_val)"
   ]
  },
  {
   "cell_type": "code",
   "execution_count": 17,
   "metadata": {},
   "outputs": [],
   "source": [
    "tvfeatures = vstack((train_features_chi, val_features_chi), format='csr')\n",
    "tvgender = pd.concat([gender_train, gender_val], ignore_index=True)\n",
    "\n",
    "# print(type(gender_train), type(gender_val), gender_train.shape, gender_val.shape)"
   ]
  },
  {
   "cell_type": "code",
   "execution_count": 11,
   "metadata": {},
   "outputs": [],
   "source": [
    "mlp = MLPClassifier(hidden_layer_sizes=(75, 75), activation='identity', solver='adam', random_state=42, early_stopping=True, max_iter=2500)\n",
    "# score = cross_val_score(mlp, tvfeatures, tvgender, cv=10, scoring='accuracy', n_jobs=2, verbose=15)\n",
    "# print(score)\n",
    "# print(np.mean(score))"
   ]
  },
  {
   "cell_type": "code",
   "execution_count": 19,
   "metadata": {},
   "outputs": [
    {
     "data": {
      "text/plain": [
       "0.6645962732919255"
      ]
     },
     "execution_count": 19,
     "metadata": {},
     "output_type": "execute_result"
    }
   ],
   "source": [
    "mlp_chi.score(test_features_chi, gender_test)"
   ]
  },
  {
   "cell_type": "code",
   "execution_count": 7,
   "metadata": {},
   "outputs": [],
   "source": [
    "train_data, test_data, gender_train, gender_test = train_test_split(features, gender, test_size=0.1, shuffle=True, stratify=gender, random_state=42)"
   ]
  },
  {
   "cell_type": "code",
   "execution_count": 8,
   "metadata": {},
   "outputs": [],
   "source": [
    "cv = CountVectorizer(binary=True, ngram_range=(2, 8))\n",
    "td = cv.fit_transform(train_data.Blog.astype(str))"
   ]
  },
  {
   "cell_type": "code",
   "execution_count": null,
   "metadata": {},
   "outputs": [
    {
     "name": "stderr",
     "output_type": "stream",
     "text": [
      "[Parallel(n_jobs=2)]: Using backend LokyBackend with 2 concurrent workers.\n"
     ]
    }
   ],
   "source": [
    "score = cross_val_score(mlp, td, gender_train, cv=10, scoring='accuracy', n_jobs=2, verbose=15)"
   ]
  },
  {
   "cell_type": "code",
   "execution_count": null,
   "metadata": {},
   "outputs": [],
   "source": [
    "score"
   ]
  },
  {
   "cell_type": "code",
   "execution_count": null,
   "metadata": {},
   "outputs": [],
   "source": [
    "np.mean(score)"
   ]
  },
  {
   "cell_type": "code",
   "execution_count": null,
   "metadata": {},
   "outputs": [],
   "source": []
  }
 ],
 "metadata": {
  "kernelspec": {
   "display_name": "Python 3",
   "language": "python",
   "name": "python3"
  },
  "language_info": {
   "codemirror_mode": {
    "name": "ipython",
    "version": 3
   },
   "file_extension": ".py",
   "mimetype": "text/x-python",
   "name": "python",
   "nbconvert_exporter": "python",
   "pygments_lexer": "ipython3",
   "version": "3.6.7"
  }
 },
 "nbformat": 4,
 "nbformat_minor": 2
}
