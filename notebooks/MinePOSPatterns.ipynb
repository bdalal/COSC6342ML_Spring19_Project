{
 "cells": [
  {
   "cell_type": "code",
   "execution_count": 1,
   "metadata": {},
   "outputs": [],
   "source": [
    "import pandas as pd\n",
    "import numpy as np\n",
    "from pickle import dump, load\n",
    "from collections import Counter\n",
    "from itertools import tee, islice"
   ]
  },
  {
   "cell_type": "code",
   "execution_count": 6,
   "metadata": {},
   "outputs": [],
   "source": [
    "with open('../data/NGramCounts.pkl', 'rb') as pkldump:\n",
    "    ngram_counts = load(pkldump)\n",
    "with open('../data/POS_Tags.pkl', 'rb') as pkldump:\n",
    "    pos_tags = load(pkldump)"
   ]
  },
  {
   "cell_type": "code",
   "execution_count": 7,
   "metadata": {},
   "outputs": [],
   "source": [
    "def candidate_gen(fk, tagset):\n",
    "    ck = set()\n",
    "    for post_ngram in fk:\n",
    "        for tag in tagset:\n",
    "            suffixed_tag = post_ngram + ' ' + tag\n",
    "            ck.add(suffixed_tag)\n",
    "\n",
    "    return ck"
   ]
  },
  {
   "cell_type": "code",
   "execution_count": 117,
   "metadata": {},
   "outputs": [],
   "source": [
    "def fair_scp(seq, ngram_counter):\n",
    "    seq = tuple(seq.split())\n",
    "    numerator = (len(seq) - 1) * ngram_counter[seq] ** 2\n",
    "    denominator = 0\n",
    "    for i in range(1, len(seq)):\n",
    "        denominator += ngram_counter[seq[:i]] * ngram_counter[seq[i:]]\n",
    "#     if len(seq) > 3:\n",
    "#         print('Seq = ', seq)\n",
    "#         print('Numerator = ', numerator)\n",
    "#         print('Denominator = ', denominator)\n",
    "#         print()\n",
    "    return numerator / denominator"
   ]
  },
  {
   "cell_type": "code",
   "execution_count": 9,
   "metadata": {},
   "outputs": [],
   "source": [
    "tagset = {'CC', 'CD', 'DT', 'EX', 'FW', 'IN', 'JJ', 'JJR', 'JJS', 'LS', 'MD', 'NN', 'NNS', 'NNP', \n",
    "          'NNPS', 'PDT', 'POS', 'PRP', 'PRP$', 'RB', 'RBR', 'RBS', 'RP', 'SYM', 'TO', 'UH', 'VB', 'VBD', \n",
    "          'VBG', 'VBN', 'VBP', 'VBZ', 'WDT', 'WP', 'WP$', 'WRB'}"
   ]
  },
  {
   "cell_type": "code",
   "execution_count": 11,
   "metadata": {},
   "outputs": [],
   "source": [
    "tag_counter = Counter(dict.fromkeys(tagset, 0))\n",
    "for tags in pos_tags:\n",
    "    ts = set(tags)\n",
    "    tag_counter += Counter(dict.fromkeys(ts, 1))"
   ]
  },
  {
   "cell_type": "code",
   "execution_count": 13,
   "metadata": {},
   "outputs": [],
   "source": [
    "del tag_counter[':']\n",
    "del tag_counter['.']\n",
    "del tag_counter[',']\n",
    "del tag_counter[\"''\"]\n",
    "del tag_counter['``']\n",
    "del tag_counter['$']"
   ]
  },
  {
   "cell_type": "code",
   "execution_count": 118,
   "metadata": {},
   "outputs": [],
   "source": [
    "f1 = []\n",
    "minsup = 0.3\n",
    "minadh = 0\n",
    "\n",
    "for tag in tag_counter.keys():\n",
    "    support = tag_counter[tag] / len(pos_tags)\n",
    "    if support >= minsup:\n",
    "        f1.append(tag)"
   ]
  },
  {
   "cell_type": "code",
   "execution_count": 119,
   "metadata": {
    "scrolled": true
   },
   "outputs": [
    {
     "name": "stdout",
     "output_type": "stream",
     "text": [
      "[['VBN', 'CC', 'NNP', 'JJ', 'NN', 'RB', 'WRB', 'DT', 'TO', 'UH', 'VBG', 'IN', 'CD', 'VBP', 'RBR', 'WP', 'NNS', 'PRP', 'VB', 'VBD', 'VBZ', 'MD', 'PRP$', 'WDT', 'JJS', 'RP', 'EX', 'NFP', 'JJR']]\n"
     ]
    }
   ],
   "source": [
    "sp1 = [sp for sp in f1]\n",
    "f = [f1]\n",
    "spk = [] + sp1\n",
    "print(f)"
   ]
  },
  {
   "cell_type": "code",
   "execution_count": 120,
   "metadata": {},
   "outputs": [],
   "source": [
    "max_length = 7\n",
    "max_minadh = 0"
   ]
  },
  {
   "cell_type": "code",
   "execution_count": 121,
   "metadata": {
    "scrolled": true
   },
   "outputs": [
    {
     "name": "stdout",
     "output_type": "stream",
     "text": [
      "Working for length  2\n",
      "Working for length  3\n",
      "Working for length  4\n",
      "Working for length  5\n",
      "Working for length  6\n",
      "Working for length  7\n",
      "Working for length  8\n"
     ]
    }
   ],
   "source": [
    "for k in range(1, max_length + 1):\n",
    "    print(\"Working for length \", k)\n",
    "    ck = candidate_gen(f[k - 1], tagset)\n",
    "    ck_dict = dict.fromkeys(ck, 0)\n",
    "    \n",
    "    for tags in pos_tags:\n",
    "        joined_tags = ' '.join(tags)\n",
    "        for seq in ck:\n",
    "            if seq in joined_tags:\n",
    "                ck_dict[seq] += 1\n",
    "\n",
    "    fk = []\n",
    "    for seq in ck_dict.keys():\n",
    "        support = ck_dict[seq] / len(pos_tags)\n",
    "        if support >= minsup:\n",
    "            fk.append(seq)\n",
    "\n",
    "    f.append(fk)\n",
    "    \n",
    "    kmax_minadh = 0\n",
    "    for f12 in fk:\n",
    "        fscp = fair_scp(f12, ngram_counts)\n",
    "        if fscp > max_minadh:\n",
    "            max_minadh = fscp\n",
    "        if fscp > kmax_minadh:\n",
    "            kmax_minadh = fscp\n",
    "        if fscp >= minadh:\n",
    "            spk.append(f12)"
   ]
  },
  {
   "cell_type": "code",
   "execution_count": 123,
   "metadata": {},
   "outputs": [
    {
     "data": {
      "text/plain": [
       "3212"
      ]
     },
     "execution_count": 123,
     "metadata": {},
     "output_type": "execute_result"
    }
   ],
   "source": [
    "len(pos_tags)"
   ]
  },
  {
   "cell_type": "code",
   "execution_count": null,
   "metadata": {},
   "outputs": [],
   "source": []
  }
 ],
 "metadata": {
  "kernelspec": {
   "display_name": "Python 3",
   "language": "python",
   "name": "python3"
  },
  "language_info": {
   "codemirror_mode": {
    "name": "ipython",
    "version": 3
   },
   "file_extension": ".py",
   "mimetype": "text/x-python",
   "name": "python",
   "nbconvert_exporter": "python",
   "pygments_lexer": "ipython3",
   "version": "3.6.7"
  }
 },
 "nbformat": 4,
 "nbformat_minor": 2
}
