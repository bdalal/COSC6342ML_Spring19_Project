{
 "cells": [
  {
   "cell_type": "code",
   "execution_count": 26,
   "metadata": {},
   "outputs": [],
   "source": [
    "import pandas as pd\n",
    "from sklearn.feature_extraction.text import CountVectorizer\n",
    "from sklearn.feature_selection import GenericUnivariateSelect, chi2\n",
    "from sklearn.model_selection import train_test_split\n",
    "from keras.models import Sequential\n",
    "from keras.layers import Dense, Activation, Dropout\n",
    "from keras.optimizers import SGD\n",
    "from keras import backend as K\n",
    "from scipy.sparse import hstack"
   ]
  },
  {
   "cell_type": "code",
   "execution_count": 2,
   "metadata": {},
   "outputs": [],
   "source": [
    "data = pd.read_csv(\"/home/binoy/OneDrive/UH/COSC 6342 - Machine Learning/Project/GenderClassification/data/blog-gender-dataset_csv.csv\")"
   ]
  },
  {
   "cell_type": "code",
   "execution_count": 3,
   "metadata": {},
   "outputs": [],
   "source": [
    "male_count = len(data[data.Gender == 'M'].index)\n",
    "female_count = len(data[data.Gender == 'F'].index)\n",
    "frac = female_count / male_count\n",
    "\n",
    "data_new = data.copy()\n",
    "data_new = data_new.drop(data_new[data_new.Gender == 'M'].sample(frac=1 - frac).index)\n",
    "data_new['Blog'] = data_new['Blog'].values.astype(str)"
   ]
  },
  {
   "cell_type": "code",
   "execution_count": 4,
   "metadata": {},
   "outputs": [],
   "source": [
    "data_train, data_holdout, gender_train, gender_holdout = train_test_split(data_new.Blog.astype(str), data_new.Gender.astype(str), test_size=0.1, shuffle=True, stratify=data_new.Gender)"
   ]
  },
  {
   "cell_type": "code",
   "execution_count": 5,
   "metadata": {},
   "outputs": [],
   "source": [
    "data_train, data_val, gender_train, gender_val = train_test_split(data_train, gender_train, test_size=0.15, shuffle=True, stratify=gender_train)"
   ]
  },
  {
   "cell_type": "code",
   "execution_count": 6,
   "metadata": {},
   "outputs": [],
   "source": [
    "cv_char = CountVectorizer(binary=True, ngram_range=(2, 7), analyzer=\"char\", min_df=0.2)\n",
    "data_train_char = cv_char.fit_transform(data_train)\n",
    "data_val_char = cv_char.transform(data_val)\n",
    "data_holdout_char = cv_char.transform(data_holdout)"
   ]
  },
  {
   "cell_type": "code",
   "execution_count": 7,
   "metadata": {},
   "outputs": [],
   "source": [
    "cv_word = CountVectorizer(binary=True, ngram_range=(2, 7), min_df=0.2)\n",
    "data_train_word = cv_word.fit_transform(data_train)\n",
    "data_val_word = cv_word.transform(data_val)\n",
    "data_holdout_word = cv_word.transform(data_holdout)"
   ]
  },
  {
   "cell_type": "code",
   "execution_count": 8,
   "metadata": {},
   "outputs": [],
   "source": [
    "data_train = hstack((data_train_char, data_train_word), format='csr')\n",
    "data_val = hstack((data_val_char, data_val_word), format='csr')\n",
    "data_holdout = hstack((data_holdout_char, data_holdout_word), format='csr')"
   ]
  },
  {
   "cell_type": "code",
   "execution_count": 107,
   "metadata": {},
   "outputs": [
    {
     "ename": "ValueError",
     "evalue": "k should be >=0, <= n_features = 3632; got 50000. Use k='all' to return all features.",
     "output_type": "error",
     "traceback": [
      "\u001b[0;31m---------------------------------------------------------------------------\u001b[0m",
      "\u001b[0;31mValueError\u001b[0m                                Traceback (most recent call last)",
      "\u001b[0;32m<ipython-input-107-a4ace3581b68>\u001b[0m in \u001b[0;36m<module>\u001b[0;34m\u001b[0m\n\u001b[1;32m      1\u001b[0m \u001b[0mn_features\u001b[0m \u001b[0;34m=\u001b[0m \u001b[0;36m50000\u001b[0m\u001b[0;34m\u001b[0m\u001b[0;34m\u001b[0m\u001b[0m\n\u001b[1;32m      2\u001b[0m \u001b[0mtransformer\u001b[0m \u001b[0;34m=\u001b[0m \u001b[0mGenericUnivariateSelect\u001b[0m\u001b[0;34m(\u001b[0m\u001b[0mchi2\u001b[0m\u001b[0;34m,\u001b[0m \u001b[0;34m'k_best'\u001b[0m\u001b[0;34m,\u001b[0m \u001b[0mparam\u001b[0m\u001b[0;34m=\u001b[0m\u001b[0mn_features\u001b[0m\u001b[0;34m)\u001b[0m\u001b[0;34m\u001b[0m\u001b[0;34m\u001b[0m\u001b[0m\n\u001b[0;32m----> 3\u001b[0;31m \u001b[0mdata_train\u001b[0m \u001b[0;34m=\u001b[0m \u001b[0mtransformer\u001b[0m\u001b[0;34m.\u001b[0m\u001b[0mfit_transform\u001b[0m\u001b[0;34m(\u001b[0m\u001b[0mdata_train\u001b[0m\u001b[0;34m,\u001b[0m \u001b[0mgender_train\u001b[0m\u001b[0;34m)\u001b[0m\u001b[0;34m\u001b[0m\u001b[0;34m\u001b[0m\u001b[0m\n\u001b[0m\u001b[1;32m      4\u001b[0m \u001b[0mdata_val\u001b[0m \u001b[0;34m=\u001b[0m \u001b[0mtransformer\u001b[0m\u001b[0;34m.\u001b[0m\u001b[0mtransform\u001b[0m\u001b[0;34m(\u001b[0m\u001b[0mdata_val\u001b[0m\u001b[0;34m)\u001b[0m\u001b[0;34m\u001b[0m\u001b[0;34m\u001b[0m\u001b[0m\n\u001b[1;32m      5\u001b[0m \u001b[0mdata_holdout\u001b[0m \u001b[0;34m=\u001b[0m \u001b[0mtransformer\u001b[0m\u001b[0;34m.\u001b[0m\u001b[0mtransform\u001b[0m\u001b[0;34m(\u001b[0m\u001b[0mdata_holdout\u001b[0m\u001b[0;34m)\u001b[0m\u001b[0;34m\u001b[0m\u001b[0;34m\u001b[0m\u001b[0m\n",
      "\u001b[0;32m~/.local/lib/python3.6/site-packages/sklearn/base.py\u001b[0m in \u001b[0;36mfit_transform\u001b[0;34m(self, X, y, **fit_params)\u001b[0m\n\u001b[1;32m    465\u001b[0m         \u001b[0;32melse\u001b[0m\u001b[0;34m:\u001b[0m\u001b[0;34m\u001b[0m\u001b[0;34m\u001b[0m\u001b[0m\n\u001b[1;32m    466\u001b[0m             \u001b[0;31m# fit method of arity 2 (supervised transformation)\u001b[0m\u001b[0;34m\u001b[0m\u001b[0;34m\u001b[0m\u001b[0;34m\u001b[0m\u001b[0m\n\u001b[0;32m--> 467\u001b[0;31m             \u001b[0;32mreturn\u001b[0m \u001b[0mself\u001b[0m\u001b[0;34m.\u001b[0m\u001b[0mfit\u001b[0m\u001b[0;34m(\u001b[0m\u001b[0mX\u001b[0m\u001b[0;34m,\u001b[0m \u001b[0my\u001b[0m\u001b[0;34m,\u001b[0m \u001b[0;34m**\u001b[0m\u001b[0mfit_params\u001b[0m\u001b[0;34m)\u001b[0m\u001b[0;34m.\u001b[0m\u001b[0mtransform\u001b[0m\u001b[0;34m(\u001b[0m\u001b[0mX\u001b[0m\u001b[0;34m)\u001b[0m\u001b[0;34m\u001b[0m\u001b[0;34m\u001b[0m\u001b[0m\n\u001b[0m\u001b[1;32m    468\u001b[0m \u001b[0;34m\u001b[0m\u001b[0m\n\u001b[1;32m    469\u001b[0m \u001b[0;34m\u001b[0m\u001b[0m\n",
      "\u001b[0;32m~/.local/lib/python3.6/site-packages/sklearn/feature_selection/univariate_selection.py\u001b[0m in \u001b[0;36mfit\u001b[0;34m(self, X, y)\u001b[0m\n\u001b[1;32m    346\u001b[0m                             % (self.score_func, type(self.score_func)))\n\u001b[1;32m    347\u001b[0m \u001b[0;34m\u001b[0m\u001b[0m\n\u001b[0;32m--> 348\u001b[0;31m         \u001b[0mself\u001b[0m\u001b[0;34m.\u001b[0m\u001b[0m_check_params\u001b[0m\u001b[0;34m(\u001b[0m\u001b[0mX\u001b[0m\u001b[0;34m,\u001b[0m \u001b[0my\u001b[0m\u001b[0;34m)\u001b[0m\u001b[0;34m\u001b[0m\u001b[0;34m\u001b[0m\u001b[0m\n\u001b[0m\u001b[1;32m    349\u001b[0m         \u001b[0mscore_func_ret\u001b[0m \u001b[0;34m=\u001b[0m \u001b[0mself\u001b[0m\u001b[0;34m.\u001b[0m\u001b[0mscore_func\u001b[0m\u001b[0;34m(\u001b[0m\u001b[0mX\u001b[0m\u001b[0;34m,\u001b[0m \u001b[0my\u001b[0m\u001b[0;34m)\u001b[0m\u001b[0;34m\u001b[0m\u001b[0;34m\u001b[0m\u001b[0m\n\u001b[1;32m    350\u001b[0m         \u001b[0;32mif\u001b[0m \u001b[0misinstance\u001b[0m\u001b[0;34m(\u001b[0m\u001b[0mscore_func_ret\u001b[0m\u001b[0;34m,\u001b[0m \u001b[0;34m(\u001b[0m\u001b[0mlist\u001b[0m\u001b[0;34m,\u001b[0m \u001b[0mtuple\u001b[0m\u001b[0;34m)\u001b[0m\u001b[0;34m)\u001b[0m\u001b[0;34m:\u001b[0m\u001b[0;34m\u001b[0m\u001b[0;34m\u001b[0m\u001b[0m\n",
      "\u001b[0;32m~/.local/lib/python3.6/site-packages/sklearn/feature_selection/univariate_selection.py\u001b[0m in \u001b[0;36m_check_params\u001b[0;34m(self, X, y)\u001b[0m\n\u001b[1;32m    809\u001b[0m                                 type(self.mode)))\n\u001b[1;32m    810\u001b[0m \u001b[0;34m\u001b[0m\u001b[0m\n\u001b[0;32m--> 811\u001b[0;31m         \u001b[0mself\u001b[0m\u001b[0;34m.\u001b[0m\u001b[0m_make_selector\u001b[0m\u001b[0;34m(\u001b[0m\u001b[0;34m)\u001b[0m\u001b[0;34m.\u001b[0m\u001b[0m_check_params\u001b[0m\u001b[0;34m(\u001b[0m\u001b[0mX\u001b[0m\u001b[0;34m,\u001b[0m \u001b[0my\u001b[0m\u001b[0;34m)\u001b[0m\u001b[0;34m\u001b[0m\u001b[0;34m\u001b[0m\u001b[0m\n\u001b[0m\u001b[1;32m    812\u001b[0m \u001b[0;34m\u001b[0m\u001b[0m\n\u001b[1;32m    813\u001b[0m     \u001b[0;32mdef\u001b[0m \u001b[0m_get_support_mask\u001b[0m\u001b[0;34m(\u001b[0m\u001b[0mself\u001b[0m\u001b[0;34m)\u001b[0m\u001b[0;34m:\u001b[0m\u001b[0;34m\u001b[0m\u001b[0;34m\u001b[0m\u001b[0m\n",
      "\u001b[0;32m~/.local/lib/python3.6/site-packages/sklearn/feature_selection/univariate_selection.py\u001b[0m in \u001b[0;36m_check_params\u001b[0;34m(self, X, y)\u001b[0m\n\u001b[1;32m    512\u001b[0m             raise ValueError(\"k should be >=0, <= n_features = %d; got %r. \"\n\u001b[1;32m    513\u001b[0m                              \u001b[0;34m\"Use k='all' to return all features.\"\u001b[0m\u001b[0;34m\u001b[0m\u001b[0;34m\u001b[0m\u001b[0m\n\u001b[0;32m--> 514\u001b[0;31m                              % (X.shape[1], self.k))\n\u001b[0m\u001b[1;32m    515\u001b[0m \u001b[0;34m\u001b[0m\u001b[0m\n\u001b[1;32m    516\u001b[0m     \u001b[0;32mdef\u001b[0m \u001b[0m_get_support_mask\u001b[0m\u001b[0;34m(\u001b[0m\u001b[0mself\u001b[0m\u001b[0;34m)\u001b[0m\u001b[0;34m:\u001b[0m\u001b[0;34m\u001b[0m\u001b[0;34m\u001b[0m\u001b[0m\n",
      "\u001b[0;31mValueError\u001b[0m: k should be >=0, <= n_features = 3632; got 50000. Use k='all' to return all features."
     ]
    }
   ],
   "source": [
    "n_features = 50000\n",
    "transformer = GenericUnivariateSelect(chi2, 'k_best', param=n_features)\n",
    "data_train = transformer.fit_transform(data_train, gender_train)\n",
    "data_val = transformer.transform(data_val)\n",
    "data_holdout = transformer.transform(data_holdout)"
   ]
  },
  {
   "cell_type": "code",
   "execution_count": 9,
   "metadata": {},
   "outputs": [],
   "source": [
    "gender_train_coded = [1 if x == 'M' else 0 for x in gender_train]\n",
    "gender_val_coded = [1 if x == 'M' else 0 for x in gender_val]\n",
    "gender_holdout_coded = [1 if x == 'M' else 0 for x in gender_holdout]"
   ]
  },
  {
   "cell_type": "code",
   "execution_count": 21,
   "metadata": {},
   "outputs": [],
   "source": [
    "def gen_model(n_layers=10, n_units=45, dropout=0.1, activation='relu'):\n",
    "    K.get_session().graph.get_collection('variables')\n",
    "    K.clear_session()\n",
    "    model = Sequential([Dense(n_units, input_shape=(3701,)), Activation('relu')])\n",
    "    model.add(BiD)\n",
    "    while n_layers > 0:\n",
    "        model.add(Dense(n_units))\n",
    "        model.add(Dropout(dropout))\n",
    "        model.add(Activation(activation))\n",
    "        n_layers -= 1\n",
    "    \n",
    "    model.add(Dense(1))\n",
    "    model.add(Activation('sigmoid'))\n",
    "    model.compile(optimizer='rmsprop', loss='binary_crossentropy', metrics=['accuracy'])\n",
    "    return model"
   ]
  },
  {
   "cell_type": "code",
   "execution_count": 22,
   "metadata": {},
   "outputs": [],
   "source": [
    "def print_acc(model, threshold, p=False):\n",
    "    correct = 0.\n",
    "    total = 0.\n",
    "    incorrect = 0.\n",
    "    from math import exp\n",
    "    for f, g in zip(data_val, gender_val_coded):\n",
    "        total += 1\n",
    "        prediction = model.predict(f)\n",
    "        prediction = exp(prediction) / (1 + exp(prediction))\n",
    "        prediction = 1 if prediction > threshold else 0\n",
    "        if p:\n",
    "            print(prediction)\n",
    "        if prediction == g:\n",
    "            correct += 1\n",
    "        else: \n",
    "            incorrect += 1\n",
    "\n",
    "    print(correct / total)\n",
    "    print(incorrect / total)"
   ]
  },
  {
   "cell_type": "code",
   "execution_count": 27,
   "metadata": {},
   "outputs": [
    {
     "name": "stdout",
     "output_type": "stream",
     "text": [
      "Epoch 1/100\n",
      "2357/2357 [==============================] - 1s 251us/step - loss: 0.6925 - acc: 0.5303\n",
      "Epoch 2/100\n",
      "2357/2357 [==============================] - 0s 93us/step - loss: 0.6875 - acc: 0.5588\n",
      "Epoch 3/100\n",
      "2357/2357 [==============================] - 0s 89us/step - loss: 0.6804 - acc: 0.5677\n",
      "Epoch 4/100\n",
      "2357/2357 [==============================] - 0s 85us/step - loss: 0.6684 - acc: 0.6029\n",
      "Epoch 5/100\n",
      "2357/2357 [==============================] - 0s 82us/step - loss: 0.6507 - acc: 0.6351\n",
      "Epoch 6/100\n",
      "2357/2357 [==============================] - 0s 85us/step - loss: 0.6441 - acc: 0.6487\n",
      "Epoch 7/100\n",
      "2357/2357 [==============================] - 0s 84us/step - loss: 0.6332 - acc: 0.6729\n",
      "Epoch 8/100\n",
      "2357/2357 [==============================] - 0s 85us/step - loss: 0.6169 - acc: 0.6814\n",
      "Epoch 9/100\n",
      "2357/2357 [==============================] - 0s 85us/step - loss: 0.6021 - acc: 0.6988\n",
      "Epoch 10/100\n",
      "2357/2357 [==============================] - 0s 85us/step - loss: 0.5750 - acc: 0.7145\n",
      "Epoch 11/100\n",
      "2357/2357 [==============================] - 0s 85us/step - loss: 0.5691 - acc: 0.7157\n",
      "Epoch 12/100\n",
      "2357/2357 [==============================] - 0s 83us/step - loss: 0.5612 - acc: 0.7208\n",
      "Epoch 13/100\n",
      "2357/2357 [==============================] - 0s 82us/step - loss: 0.5295 - acc: 0.7518\n",
      "Epoch 14/100\n",
      "2357/2357 [==============================] - 0s 85us/step - loss: 0.5230 - acc: 0.7543\n",
      "Epoch 15/100\n",
      "2357/2357 [==============================] - 0s 87us/step - loss: 0.4996 - acc: 0.7739\n",
      "Epoch 16/100\n",
      "2357/2357 [==============================] - 0s 84us/step - loss: 0.4897 - acc: 0.7866\n",
      "Epoch 17/100\n",
      "2357/2357 [==============================] - 0s 88us/step - loss: 0.4599 - acc: 0.8053\n",
      "Epoch 18/100\n",
      "2357/2357 [==============================] - 0s 84us/step - loss: 0.4428 - acc: 0.8176\n",
      "Epoch 19/100\n",
      "2357/2357 [==============================] - 0s 87us/step - loss: 0.4428 - acc: 0.8261\n",
      "Epoch 20/100\n",
      "2357/2357 [==============================] - 0s 87us/step - loss: 0.4316 - acc: 0.8392\n",
      "Epoch 21/100\n",
      "2357/2357 [==============================] - 0s 87us/step - loss: 0.4113 - acc: 0.8371\n",
      "Epoch 22/100\n",
      "2357/2357 [==============================] - 0s 84us/step - loss: 0.4155 - acc: 0.8422\n",
      "Epoch 23/100\n",
      "2357/2357 [==============================] - 0s 89us/step - loss: 0.4101 - acc: 0.8443\n",
      "Epoch 24/100\n",
      "2357/2357 [==============================] - 0s 88us/step - loss: 0.4140 - acc: 0.8430\n",
      "Epoch 25/100\n",
      "2357/2357 [==============================] - 0s 88us/step - loss: 0.3966 - acc: 0.8532\n",
      "Epoch 26/100\n",
      "2357/2357 [==============================] - 0s 85us/step - loss: 0.3994 - acc: 0.8541\n",
      "Epoch 27/100\n",
      "2357/2357 [==============================] - 0s 87us/step - loss: 0.3867 - acc: 0.8562\n",
      "Epoch 28/100\n",
      "2357/2357 [==============================] - 0s 88us/step - loss: 0.3621 - acc: 0.8685\n",
      "Epoch 29/100\n",
      "2357/2357 [==============================] - 0s 87us/step - loss: 0.3697 - acc: 0.8630\n",
      "Epoch 30/100\n",
      "2357/2357 [==============================] - 0s 85us/step - loss: 0.3632 - acc: 0.8672\n",
      "Epoch 31/100\n",
      "2357/2357 [==============================] - 0s 87us/step - loss: 0.3781 - acc: 0.8685\n",
      "Epoch 32/100\n",
      "2357/2357 [==============================] - 0s 85us/step - loss: 0.3691 - acc: 0.8731\n",
      "Epoch 33/100\n",
      "2357/2357 [==============================] - 0s 87us/step - loss: 0.3460 - acc: 0.8761\n",
      "Epoch 34/100\n",
      "2357/2357 [==============================] - 0s 89us/step - loss: 0.3920 - acc: 0.8744\n",
      "Epoch 35/100\n",
      "2357/2357 [==============================] - 0s 85us/step - loss: 0.3073 - acc: 0.8901\n",
      "Epoch 36/100\n",
      "2357/2357 [==============================] - 0s 83us/step - loss: 0.3683 - acc: 0.8757\n",
      "Epoch 37/100\n",
      "2357/2357 [==============================] - 0s 87us/step - loss: 0.3452 - acc: 0.8850\n",
      "Epoch 38/100\n",
      "2357/2357 [==============================] - 0s 89us/step - loss: 0.3258 - acc: 0.8850\n",
      "Epoch 39/100\n",
      "2357/2357 [==============================] - 0s 87us/step - loss: 0.2982 - acc: 0.8973\n",
      "Epoch 40/100\n",
      "2357/2357 [==============================] - 0s 87us/step - loss: 0.3411 - acc: 0.8863\n",
      "Epoch 41/100\n",
      "2357/2357 [==============================] - 0s 87us/step - loss: 0.2928 - acc: 0.8956\n",
      "Epoch 42/100\n",
      "2357/2357 [==============================] - 0s 87us/step - loss: 0.3364 - acc: 0.8935\n",
      "Epoch 43/100\n",
      "2357/2357 [==============================] - 0s 87us/step - loss: 0.3014 - acc: 0.8982\n",
      "Epoch 44/100\n",
      "2357/2357 [==============================] - 0s 91us/step - loss: 0.3177 - acc: 0.8927\n",
      "Epoch 45/100\n",
      "2357/2357 [==============================] - 0s 87us/step - loss: 0.3197 - acc: 0.8944\n",
      "Epoch 46/100\n",
      "2357/2357 [==============================] - 0s 85us/step - loss: 0.3193 - acc: 0.8922\n",
      "Epoch 47/100\n",
      "2357/2357 [==============================] - 0s 92us/step - loss: 0.3977 - acc: 0.8791\n",
      "Epoch 48/100\n",
      "2357/2357 [==============================] - 0s 86us/step - loss: 0.2900 - acc: 0.9062\n",
      "Epoch 49/100\n",
      "2357/2357 [==============================] - 0s 86us/step - loss: 0.3230 - acc: 0.8914\n",
      "Epoch 50/100\n",
      "2357/2357 [==============================] - 0s 87us/step - loss: 0.3342 - acc: 0.8905\n",
      "Epoch 51/100\n",
      "2357/2357 [==============================] - 0s 88us/step - loss: 0.3022 - acc: 0.8905\n",
      "Epoch 52/100\n",
      "2357/2357 [==============================] - 0s 89us/step - loss: 0.3120 - acc: 0.8965\n",
      "Epoch 53/100\n",
      "2357/2357 [==============================] - 0s 88us/step - loss: 0.3425 - acc: 0.8829\n",
      "Epoch 54/100\n",
      "2357/2357 [==============================] - 0s 87us/step - loss: 0.3080 - acc: 0.8994\n",
      "Epoch 55/100\n",
      "2357/2357 [==============================] - 0s 89us/step - loss: 0.2897 - acc: 0.8999\n",
      "Epoch 56/100\n",
      "2357/2357 [==============================] - 0s 89us/step - loss: 0.2767 - acc: 0.9062\n",
      "Epoch 57/100\n",
      "2357/2357 [==============================] - 0s 85us/step - loss: 0.2744 - acc: 0.9045\n",
      "Epoch 58/100\n",
      "2357/2357 [==============================] - 0s 91us/step - loss: 0.3451 - acc: 0.9062\n",
      "Epoch 59/100\n",
      "2357/2357 [==============================] - 0s 93us/step - loss: 0.3638 - acc: 0.8850\n",
      "Epoch 60/100\n",
      "2357/2357 [==============================] - 0s 88us/step - loss: 0.3121 - acc: 0.9028\n",
      "Epoch 61/100\n",
      "2357/2357 [==============================] - 0s 85us/step - loss: 0.3333 - acc: 0.8825\n",
      "Epoch 62/100\n",
      "2357/2357 [==============================] - 0s 94us/step - loss: 0.2906 - acc: 0.8994\n",
      "Epoch 63/100\n",
      "2357/2357 [==============================] - 0s 87us/step - loss: 0.3076 - acc: 0.9024\n",
      "Epoch 64/100\n",
      "2357/2357 [==============================] - 0s 91us/step - loss: 0.2720 - acc: 0.9037\n",
      "Epoch 65/100\n",
      "2357/2357 [==============================] - 0s 93us/step - loss: 0.2639 - acc: 0.9126\n",
      "Epoch 66/100\n",
      "2357/2357 [==============================] - 0s 90us/step - loss: 0.2924 - acc: 0.8994\n",
      "Epoch 67/100\n",
      "2357/2357 [==============================] - 0s 90us/step - loss: 0.2812 - acc: 0.9067\n",
      "Epoch 68/100\n",
      "2357/2357 [==============================] - 0s 92us/step - loss: 0.3359 - acc: 0.9007\n",
      "Epoch 69/100\n",
      "2357/2357 [==============================] - 0s 89us/step - loss: 0.2704 - acc: 0.9113\n",
      "Epoch 70/100\n",
      "2357/2357 [==============================] - 0s 85us/step - loss: 0.3200 - acc: 0.8948\n",
      "Epoch 71/100\n",
      "2357/2357 [==============================] - 0s 90us/step - loss: 0.3263 - acc: 0.8956\n",
      "Epoch 72/100\n",
      "2357/2357 [==============================] - 0s 101us/step - loss: 0.3016 - acc: 0.9028\n",
      "Epoch 73/100\n",
      "2357/2357 [==============================] - 0s 87us/step - loss: 0.2852 - acc: 0.9062\n",
      "Epoch 74/100\n",
      "2357/2357 [==============================] - 0s 91us/step - loss: 0.2991 - acc: 0.8994\n",
      "Epoch 75/100\n",
      "2357/2357 [==============================] - 0s 94us/step - loss: 0.2853 - acc: 0.9011\n",
      "Epoch 76/100\n",
      "2357/2357 [==============================] - 0s 95us/step - loss: 0.3161 - acc: 0.9054\n",
      "Epoch 77/100\n",
      "2357/2357 [==============================] - 0s 92us/step - loss: 0.3071 - acc: 0.9033\n",
      "Epoch 78/100\n",
      "2357/2357 [==============================] - 0s 93us/step - loss: 0.2420 - acc: 0.9173\n",
      "Epoch 79/100\n",
      "2357/2357 [==============================] - 0s 92us/step - loss: 0.3163 - acc: 0.8910\n",
      "Epoch 80/100\n",
      "2357/2357 [==============================] - 0s 94us/step - loss: 0.2864 - acc: 0.9101\n",
      "Epoch 81/100\n",
      "2357/2357 [==============================] - 0s 92us/step - loss: 0.3027 - acc: 0.9067\n",
      "Epoch 82/100\n",
      "2357/2357 [==============================] - 0s 90us/step - loss: 0.3104 - acc: 0.8961\n"
     ]
    },
    {
     "name": "stdout",
     "output_type": "stream",
     "text": [
      "Epoch 83/100\n",
      "2357/2357 [==============================] - 0s 83us/step - loss: 0.3336 - acc: 0.9071\n",
      "Epoch 84/100\n",
      "2357/2357 [==============================] - 0s 81us/step - loss: 0.2933 - acc: 0.9045\n",
      "Epoch 85/100\n",
      "2357/2357 [==============================] - 0s 83us/step - loss: 0.2711 - acc: 0.9109\n",
      "Epoch 86/100\n",
      "2357/2357 [==============================] - 0s 79us/step - loss: 0.3078 - acc: 0.9058\n",
      "Epoch 87/100\n",
      "2357/2357 [==============================] - 0s 85us/step - loss: 0.2944 - acc: 0.9071\n",
      "Epoch 88/100\n",
      "2357/2357 [==============================] - 0s 82us/step - loss: 0.2966 - acc: 0.9126\n",
      "Epoch 89/100\n",
      "2357/2357 [==============================] - 0s 79us/step - loss: 0.2717 - acc: 0.9130\n",
      "Epoch 90/100\n",
      "2357/2357 [==============================] - 0s 81us/step - loss: 0.2550 - acc: 0.9147\n",
      "Epoch 91/100\n",
      "2357/2357 [==============================] - 0s 80us/step - loss: 0.2795 - acc: 0.9045\n",
      "Epoch 92/100\n",
      "2357/2357 [==============================] - 0s 86us/step - loss: 0.2451 - acc: 0.9177\n",
      "Epoch 93/100\n",
      "2357/2357 [==============================] - 0s 81us/step - loss: 0.3082 - acc: 0.9088\n",
      "Epoch 94/100\n",
      "2357/2357 [==============================] - 0s 84us/step - loss: 0.2752 - acc: 0.9050\n",
      "Epoch 95/100\n",
      "2357/2357 [==============================] - 0s 87us/step - loss: 0.2453 - acc: 0.9181\n",
      "Epoch 96/100\n",
      "2357/2357 [==============================] - 0s 82us/step - loss: 0.2863 - acc: 0.9033\n",
      "Epoch 97/100\n",
      "2357/2357 [==============================] - 0s 83us/step - loss: 0.2576 - acc: 0.9181\n",
      "Epoch 98/100\n",
      "2357/2357 [==============================] - 0s 81us/step - loss: 0.2783 - acc: 0.9028\n",
      "Epoch 99/100\n",
      "2357/2357 [==============================] - 0s 81us/step - loss: 0.2633 - acc: 0.9130\n",
      "Epoch 100/100\n",
      "2357/2357 [==============================] - 0s 80us/step - loss: 0.2751 - acc: 0.9113\n",
      "0.5096153846153846\n",
      "0.49038461538461536\n"
     ]
    }
   ],
   "source": [
    "model = gen_model(5, 5, 0.1)\n",
    "model.fit(data_train, gender_train_coded, epochs=100, batch_size=32)\n",
    "print_acc(model, 0.5)"
   ]
  },
  {
   "cell_type": "code",
   "execution_count": 49,
   "metadata": {},
   "outputs": [
    {
     "name": "stdout",
     "output_type": "stream",
     "text": [
      "0.49838187702265374\n",
      "0.5016181229773463\n"
     ]
    }
   ],
   "source": [
    "correct = 0.\n",
    "total = 0.\n",
    "incorrect = 0.\n",
    "from math import exp\n",
    "for f, g in zip(data_holdout, gender_holdout_coded):\n",
    "    total += 1\n",
    "    prediction = model.predict(f)\n",
    "    prediction = exp(prediction) / (1 + exp(prediction))\n",
    "    prediction = 1 if prediction > 0.5 else 0\n",
    "    if prediction == g:\n",
    "        correct += 1\n",
    "    else: \n",
    "        incorrect += 1\n",
    "\n",
    "print(correct / total)\n",
    "print(incorrect / total)"
   ]
  },
  {
   "cell_type": "code",
   "execution_count": 197,
   "metadata": {},
   "outputs": [],
   "source": [
    "model.save('../models/keras_model_char_ngrams_2_7.h5')"
   ]
  },
  {
   "cell_type": "code",
   "execution_count": 61,
   "metadata": {},
   "outputs": [],
   "source": [
    "from sklearn.svm import SVC\n",
    "from sklearn.neural_network import MLPClassifier"
   ]
  },
  {
   "cell_type": "code",
   "execution_count": 117,
   "metadata": {},
   "outputs": [],
   "source": [
    "svc = SVC(C=100, gamma='auto')\n",
    "mlp = MLPClassifier(hidden_layer_sizes=(65, 45), activation='identity', early_stopping=True, max_iter=2500, random_state=50)"
   ]
  },
  {
   "cell_type": "code",
   "execution_count": 118,
   "metadata": {},
   "outputs": [
    {
     "data": {
      "text/plain": [
       "0.6274038461538461"
      ]
     },
     "execution_count": 118,
     "metadata": {},
     "output_type": "execute_result"
    }
   ],
   "source": [
    "svc.fit(data_train, gender_train)\n",
    "svc.score(data_val, gender_val)"
   ]
  },
  {
   "cell_type": "code",
   "execution_count": 119,
   "metadata": {},
   "outputs": [
    {
     "data": {
      "text/plain": [
       "0.6418269230769231"
      ]
     },
     "execution_count": 119,
     "metadata": {},
     "output_type": "execute_result"
    }
   ],
   "source": [
    "mlp.fit(data_train, gender_train)\n",
    "mlp.score(data_val, gender_val)"
   ]
  },
  {
   "cell_type": "code",
   "execution_count": 120,
   "metadata": {},
   "outputs": [],
   "source": [
    "mlp2 = MLPClassifier(hidden_layer_sizes=(55, 45), activation='identity', early_stopping=True, max_iter=2500, random_state=65)\n",
    "mlp3 = MLPClassifier(hidden_layer_sizes=(45, 65), activation='identity', early_stopping=True, max_iter=2500, random_state=75)\n",
    "mlp4 = MLPClassifier(hidden_layer_sizes=(25, 45), activation='identity', early_stopping=True, max_iter=2500, random_state=40)\n",
    "mlp5 = MLPClassifier(hidden_layer_sizes=(45, 25), activation='identity', early_stopping=True, max_iter=2500, random_state=51)"
   ]
  },
  {
   "cell_type": "code",
   "execution_count": 121,
   "metadata": {},
   "outputs": [
    {
     "data": {
      "text/plain": [
       "MLPClassifier(activation='identity', alpha=0.0001, batch_size='auto',\n",
       "       beta_1=0.9, beta_2=0.999, early_stopping=True, epsilon=1e-08,\n",
       "       hidden_layer_sizes=(45, 25), learning_rate='constant',\n",
       "       learning_rate_init=0.001, max_iter=2500, momentum=0.9,\n",
       "       n_iter_no_change=10, nesterovs_momentum=True, power_t=0.5,\n",
       "       random_state=51, shuffle=True, solver='adam', tol=0.0001,\n",
       "       validation_fraction=0.1, verbose=False, warm_start=False)"
      ]
     },
     "execution_count": 121,
     "metadata": {},
     "output_type": "execute_result"
    }
   ],
   "source": [
    "mlp2.fit(data_train, gender_train)\n",
    "mlp3.fit(data_train, gender_train)\n",
    "mlp4.fit(data_train, gender_train)\n",
    "mlp5.fit(data_train, gender_train)"
   ]
  },
  {
   "cell_type": "code",
   "execution_count": 122,
   "metadata": {},
   "outputs": [
    {
     "name": "stdout",
     "output_type": "stream",
     "text": [
      "Voting accuracy =  0.6440129449838188\n"
     ]
    }
   ],
   "source": [
    "correct = 0.\n",
    "total = 0.\n",
    "for f, g in zip(data_holdout, gender_holdout):\n",
    "    total += 1\n",
    "    cm = 0\n",
    "    cf = 0\n",
    "    predictions = [mlp.predict(f), mlp2.predict(f), mlp3.predict(f), mlp4.predict(f), mlp5.predict(f)]\n",
    "    for pred in predictions:\n",
    "        if pred == 'M':\n",
    "            cm += 1\n",
    "        else:\n",
    "            cf += 1\n",
    "    \n",
    "    if cm > cf:\n",
    "        prediction = 'M'\n",
    "    else:\n",
    "        prediction = 'F'\n",
    "        \n",
    "    if prediction == g:\n",
    "        correct += 1\n",
    "        \n",
    "print(\"Voting accuracy = \", correct/total)"
   ]
  },
  {
   "cell_type": "code",
   "execution_count": 99,
   "metadata": {},
   "outputs": [],
   "source": [
    "from keras.models import load_model"
   ]
  },
  {
   "cell_type": "code",
   "execution_count": 100,
   "metadata": {},
   "outputs": [],
   "source": [
    "msaved = load_model(\"/home/binoy/OneDrive/UH/COSC 6342 - Machine Learning/Project/GenderClassification/models/keras/keras_model_char_ngrams_2_7.h5\")"
   ]
  },
  {
   "cell_type": "code",
   "execution_count": 123,
   "metadata": {},
   "outputs": [
    {
     "ename": "ValueError",
     "evalue": "Error when checking input: expected dense_76_input to have shape (50000,) but got array with shape (3632,)",
     "output_type": "error",
     "traceback": [
      "\u001b[0;31m---------------------------------------------------------------------------\u001b[0m",
      "\u001b[0;31mValueError\u001b[0m                                Traceback (most recent call last)",
      "\u001b[0;32m<ipython-input-123-a579e0819e8e>\u001b[0m in \u001b[0;36m<module>\u001b[0;34m\u001b[0m\n\u001b[1;32m      5\u001b[0m \u001b[0;32mfor\u001b[0m \u001b[0mf\u001b[0m\u001b[0;34m,\u001b[0m \u001b[0mg\u001b[0m \u001b[0;32min\u001b[0m \u001b[0mzip\u001b[0m\u001b[0;34m(\u001b[0m\u001b[0mdata_holdout\u001b[0m\u001b[0;34m,\u001b[0m \u001b[0mgender_holdout_coded\u001b[0m\u001b[0;34m)\u001b[0m\u001b[0;34m:\u001b[0m\u001b[0;34m\u001b[0m\u001b[0;34m\u001b[0m\u001b[0m\n\u001b[1;32m      6\u001b[0m     \u001b[0mtotal\u001b[0m \u001b[0;34m+=\u001b[0m \u001b[0;36m1\u001b[0m\u001b[0;34m\u001b[0m\u001b[0;34m\u001b[0m\u001b[0m\n\u001b[0;32m----> 7\u001b[0;31m     \u001b[0mprediction\u001b[0m \u001b[0;34m=\u001b[0m \u001b[0mmsaved\u001b[0m\u001b[0;34m.\u001b[0m\u001b[0mpredict\u001b[0m\u001b[0;34m(\u001b[0m\u001b[0mf\u001b[0m\u001b[0;34m)\u001b[0m\u001b[0;34m\u001b[0m\u001b[0;34m\u001b[0m\u001b[0m\n\u001b[0m\u001b[1;32m      8\u001b[0m     \u001b[0mprediction\u001b[0m \u001b[0;34m=\u001b[0m \u001b[0mexp\u001b[0m\u001b[0;34m(\u001b[0m\u001b[0mprediction\u001b[0m\u001b[0;34m)\u001b[0m \u001b[0;34m/\u001b[0m \u001b[0;34m(\u001b[0m\u001b[0;36m1\u001b[0m \u001b[0;34m+\u001b[0m \u001b[0mexp\u001b[0m\u001b[0;34m(\u001b[0m\u001b[0mprediction\u001b[0m\u001b[0;34m)\u001b[0m\u001b[0;34m)\u001b[0m\u001b[0;34m\u001b[0m\u001b[0;34m\u001b[0m\u001b[0m\n\u001b[1;32m      9\u001b[0m     \u001b[0mprediction\u001b[0m \u001b[0;34m=\u001b[0m \u001b[0;36m1\u001b[0m \u001b[0;32mif\u001b[0m \u001b[0mprediction\u001b[0m \u001b[0;34m>\u001b[0m \u001b[0;36m0.5\u001b[0m \u001b[0;32melse\u001b[0m \u001b[0;36m0\u001b[0m\u001b[0;34m\u001b[0m\u001b[0;34m\u001b[0m\u001b[0m\n",
      "\u001b[0;32m~/.local/lib/python3.6/site-packages/keras/engine/training.py\u001b[0m in \u001b[0;36mpredict\u001b[0;34m(self, x, batch_size, verbose, steps)\u001b[0m\n\u001b[1;32m   1147\u001b[0m                              'argument.')\n\u001b[1;32m   1148\u001b[0m         \u001b[0;31m# Validate user data.\u001b[0m\u001b[0;34m\u001b[0m\u001b[0;34m\u001b[0m\u001b[0;34m\u001b[0m\u001b[0m\n\u001b[0;32m-> 1149\u001b[0;31m         \u001b[0mx\u001b[0m\u001b[0;34m,\u001b[0m \u001b[0m_\u001b[0m\u001b[0;34m,\u001b[0m \u001b[0m_\u001b[0m \u001b[0;34m=\u001b[0m \u001b[0mself\u001b[0m\u001b[0;34m.\u001b[0m\u001b[0m_standardize_user_data\u001b[0m\u001b[0;34m(\u001b[0m\u001b[0mx\u001b[0m\u001b[0;34m)\u001b[0m\u001b[0;34m\u001b[0m\u001b[0;34m\u001b[0m\u001b[0m\n\u001b[0m\u001b[1;32m   1150\u001b[0m         \u001b[0;32mif\u001b[0m \u001b[0mself\u001b[0m\u001b[0;34m.\u001b[0m\u001b[0mstateful\u001b[0m\u001b[0;34m:\u001b[0m\u001b[0;34m\u001b[0m\u001b[0;34m\u001b[0m\u001b[0m\n\u001b[1;32m   1151\u001b[0m             \u001b[0;32mif\u001b[0m \u001b[0mx\u001b[0m\u001b[0;34m[\u001b[0m\u001b[0;36m0\u001b[0m\u001b[0;34m]\u001b[0m\u001b[0;34m.\u001b[0m\u001b[0mshape\u001b[0m\u001b[0;34m[\u001b[0m\u001b[0;36m0\u001b[0m\u001b[0;34m]\u001b[0m \u001b[0;34m>\u001b[0m \u001b[0mbatch_size\u001b[0m \u001b[0;32mand\u001b[0m \u001b[0mx\u001b[0m\u001b[0;34m[\u001b[0m\u001b[0;36m0\u001b[0m\u001b[0;34m]\u001b[0m\u001b[0;34m.\u001b[0m\u001b[0mshape\u001b[0m\u001b[0;34m[\u001b[0m\u001b[0;36m0\u001b[0m\u001b[0;34m]\u001b[0m \u001b[0;34m%\u001b[0m \u001b[0mbatch_size\u001b[0m \u001b[0;34m!=\u001b[0m \u001b[0;36m0\u001b[0m\u001b[0;34m:\u001b[0m\u001b[0;34m\u001b[0m\u001b[0;34m\u001b[0m\u001b[0m\n",
      "\u001b[0;32m~/.local/lib/python3.6/site-packages/keras/engine/training.py\u001b[0m in \u001b[0;36m_standardize_user_data\u001b[0;34m(self, x, y, sample_weight, class_weight, check_array_lengths, batch_size)\u001b[0m\n\u001b[1;32m    749\u001b[0m             \u001b[0mfeed_input_shapes\u001b[0m\u001b[0;34m,\u001b[0m\u001b[0;34m\u001b[0m\u001b[0;34m\u001b[0m\u001b[0m\n\u001b[1;32m    750\u001b[0m             \u001b[0mcheck_batch_axis\u001b[0m\u001b[0;34m=\u001b[0m\u001b[0;32mFalse\u001b[0m\u001b[0;34m,\u001b[0m  \u001b[0;31m# Don't enforce the batch size.\u001b[0m\u001b[0;34m\u001b[0m\u001b[0;34m\u001b[0m\u001b[0m\n\u001b[0;32m--> 751\u001b[0;31m             exception_prefix='input')\n\u001b[0m\u001b[1;32m    752\u001b[0m \u001b[0;34m\u001b[0m\u001b[0m\n\u001b[1;32m    753\u001b[0m         \u001b[0;32mif\u001b[0m \u001b[0my\u001b[0m \u001b[0;32mis\u001b[0m \u001b[0;32mnot\u001b[0m \u001b[0;32mNone\u001b[0m\u001b[0;34m:\u001b[0m\u001b[0;34m\u001b[0m\u001b[0;34m\u001b[0m\u001b[0m\n",
      "\u001b[0;32m~/.local/lib/python3.6/site-packages/keras/engine/training_utils.py\u001b[0m in \u001b[0;36mstandardize_input_data\u001b[0;34m(data, names, shapes, check_batch_axis, exception_prefix)\u001b[0m\n\u001b[1;32m    136\u001b[0m                             \u001b[0;34m': expected '\u001b[0m \u001b[0;34m+\u001b[0m \u001b[0mnames\u001b[0m\u001b[0;34m[\u001b[0m\u001b[0mi\u001b[0m\u001b[0;34m]\u001b[0m \u001b[0;34m+\u001b[0m \u001b[0;34m' to have shape '\u001b[0m \u001b[0;34m+\u001b[0m\u001b[0;34m\u001b[0m\u001b[0;34m\u001b[0m\u001b[0m\n\u001b[1;32m    137\u001b[0m                             \u001b[0mstr\u001b[0m\u001b[0;34m(\u001b[0m\u001b[0mshape\u001b[0m\u001b[0;34m)\u001b[0m \u001b[0;34m+\u001b[0m \u001b[0;34m' but got array with shape '\u001b[0m \u001b[0;34m+\u001b[0m\u001b[0;34m\u001b[0m\u001b[0;34m\u001b[0m\u001b[0m\n\u001b[0;32m--> 138\u001b[0;31m                             str(data_shape))\n\u001b[0m\u001b[1;32m    139\u001b[0m     \u001b[0;32mreturn\u001b[0m \u001b[0mdata\u001b[0m\u001b[0;34m\u001b[0m\u001b[0;34m\u001b[0m\u001b[0m\n\u001b[1;32m    140\u001b[0m \u001b[0;34m\u001b[0m\u001b[0m\n",
      "\u001b[0;31mValueError\u001b[0m: Error when checking input: expected dense_76_input to have shape (50000,) but got array with shape (3632,)"
     ]
    }
   ],
   "source": [
    "correct = 0.\n",
    "total = 0.\n",
    "incorrect = 0.\n",
    "from math import exp\n",
    "for f, g in zip(data_holdout, gender_holdout_coded):\n",
    "    total += 1\n",
    "    prediction = msaved.predict(f)\n",
    "    prediction = exp(prediction) / (1 + exp(prediction))\n",
    "    prediction = 1 if prediction > 0.5 else 0\n",
    "    if prediction == g:\n",
    "        correct += 1\n",
    "    else: \n",
    "        incorrect += 1\n",
    "\n",
    "print(correct / total)\n",
    "print(incorrect / total)"
   ]
  },
  {
   "cell_type": "code",
   "execution_count": null,
   "metadata": {},
   "outputs": [],
   "source": []
  }
 ],
 "metadata": {
  "kernelspec": {
   "display_name": "Python 3",
   "language": "python",
   "name": "python3"
  },
  "language_info": {
   "codemirror_mode": {
    "name": "ipython",
    "version": 3
   },
   "file_extension": ".py",
   "mimetype": "text/x-python",
   "name": "python",
   "nbconvert_exporter": "python",
   "pygments_lexer": "ipython3",
   "version": "3.6.7"
  }
 },
 "nbformat": 4,
 "nbformat_minor": 2
}
