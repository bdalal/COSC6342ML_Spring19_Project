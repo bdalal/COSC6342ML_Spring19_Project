{
 "cells": [
  {
   "cell_type": "code",
   "execution_count": 1,
   "metadata": {},
   "outputs": [],
   "source": [
    "from sklearn.feature_extraction.text import CountVectorizer, TfidfVectorizer"
   ]
  },
  {
   "cell_type": "code",
   "execution_count": 30,
   "metadata": {},
   "outputs": [],
   "source": [
    "s = [\"My name is Binoy Dalal and I'm a boy. Binoy is my first name.\",\n",
    "    \"My dad's name is Robin Dalal and he's batman\"]"
   ]
  },
  {
   "cell_type": "code",
   "execution_count": 31,
   "metadata": {},
   "outputs": [],
   "source": [
    "cv = CountVectorizer()\n",
    "tf = TfidfVectorizer(use_idf=False, norm=None)"
   ]
  },
  {
   "cell_type": "code",
   "execution_count": 32,
   "metadata": {},
   "outputs": [],
   "source": [
    "tcv = cv.fit_transform(s)"
   ]
  },
  {
   "cell_type": "code",
   "execution_count": 33,
   "metadata": {},
   "outputs": [
    {
     "data": {
      "text/plain": [
       "{'my': 9,\n",
       " 'name': 10,\n",
       " 'is': 8,\n",
       " 'binoy': 2,\n",
       " 'dalal': 5,\n",
       " 'and': 0,\n",
       " 'boy': 3,\n",
       " 'first': 6,\n",
       " 'dad': 4,\n",
       " 'robin': 11,\n",
       " 'he': 7,\n",
       " 'batman': 1}"
      ]
     },
     "execution_count": 33,
     "metadata": {},
     "output_type": "execute_result"
    }
   ],
   "source": [
    "cv.vocabulary_"
   ]
  },
  {
   "cell_type": "code",
   "execution_count": 34,
   "metadata": {},
   "outputs": [
    {
     "data": {
      "text/plain": [
       "['and',\n",
       " 'batman',\n",
       " 'binoy',\n",
       " 'boy',\n",
       " 'dad',\n",
       " 'dalal',\n",
       " 'first',\n",
       " 'he',\n",
       " 'is',\n",
       " 'my',\n",
       " 'name',\n",
       " 'robin']"
      ]
     },
     "execution_count": 34,
     "metadata": {},
     "output_type": "execute_result"
    }
   ],
   "source": [
    "cv.get_feature_names()"
   ]
  },
  {
   "cell_type": "code",
   "execution_count": 35,
   "metadata": {},
   "outputs": [
    {
     "data": {
      "text/plain": [
       "array([[1, 0, 2, 1, 0, 1, 1, 0, 2, 2, 2, 0],\n",
       "       [1, 1, 0, 0, 1, 1, 0, 1, 1, 1, 1, 1]], dtype=int64)"
      ]
     },
     "execution_count": 35,
     "metadata": {},
     "output_type": "execute_result"
    }
   ],
   "source": [
    "tcv.toarray()"
   ]
  },
  {
   "cell_type": "code",
   "execution_count": 36,
   "metadata": {},
   "outputs": [
    {
     "data": {
      "text/plain": [
       "set()"
      ]
     },
     "execution_count": 36,
     "metadata": {},
     "output_type": "execute_result"
    }
   ],
   "source": [
    "cv.stop_words_"
   ]
  },
  {
   "cell_type": "code",
   "execution_count": 37,
   "metadata": {},
   "outputs": [],
   "source": [
    "ttf = tf.fit_transform(s)"
   ]
  },
  {
   "cell_type": "code",
   "execution_count": 38,
   "metadata": {},
   "outputs": [
    {
     "data": {
      "text/plain": [
       "{'my': 9,\n",
       " 'name': 10,\n",
       " 'is': 8,\n",
       " 'binoy': 2,\n",
       " 'dalal': 5,\n",
       " 'and': 0,\n",
       " 'boy': 3,\n",
       " 'first': 6,\n",
       " 'dad': 4,\n",
       " 'robin': 11,\n",
       " 'he': 7,\n",
       " 'batman': 1}"
      ]
     },
     "execution_count": 38,
     "metadata": {},
     "output_type": "execute_result"
    }
   ],
   "source": [
    "tf.vocabulary_"
   ]
  },
  {
   "cell_type": "code",
   "execution_count": 39,
   "metadata": {},
   "outputs": [
    {
     "data": {
      "text/plain": [
       "array([[1., 0., 2., 1., 0., 1., 1., 0., 2., 2., 2., 0.],\n",
       "       [1., 1., 0., 0., 1., 1., 0., 1., 1., 1., 1., 1.]])"
      ]
     },
     "execution_count": 39,
     "metadata": {},
     "output_type": "execute_result"
    }
   ],
   "source": [
    "ttf.toarray()"
   ]
  },
  {
   "cell_type": "code",
   "execution_count": 25,
   "metadata": {},
   "outputs": [
    {
     "data": {
      "text/plain": [
       "['and',\n",
       " 'batman',\n",
       " 'binoy',\n",
       " 'boy',\n",
       " 'dad',\n",
       " 'dalal',\n",
       " 'he',\n",
       " 'is',\n",
       " 'my',\n",
       " 'name',\n",
       " 'robin']"
      ]
     },
     "execution_count": 25,
     "metadata": {},
     "output_type": "execute_result"
    }
   ],
   "source": [
    "tf.get_feature_names()"
   ]
  },
  {
   "cell_type": "code",
   "execution_count": null,
   "metadata": {},
   "outputs": [],
   "source": []
  }
 ],
 "metadata": {
  "kernelspec": {
   "display_name": "Python 3",
   "language": "python",
   "name": "python3"
  },
  "language_info": {
   "codemirror_mode": {
    "name": "ipython",
    "version": 3
   },
   "file_extension": ".py",
   "mimetype": "text/x-python",
   "name": "python",
   "nbconvert_exporter": "python",
   "pygments_lexer": "ipython3",
   "version": "3.6.7"
  }
 },
 "nbformat": 4,
 "nbformat_minor": 2
}
