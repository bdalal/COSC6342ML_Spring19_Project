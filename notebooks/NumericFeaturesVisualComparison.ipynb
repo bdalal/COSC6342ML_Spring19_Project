{
 "cells": [
  {
   "cell_type": "code",
   "execution_count": 1,
   "metadata": {},
   "outputs": [],
   "source": [
    "import pandas as pd"
   ]
  },
  {
   "cell_type": "code",
   "execution_count": 290,
   "metadata": {},
   "outputs": [],
   "source": [
    "df = pd.read_pickle('../data/feature_dumps/features.pkl')"
   ]
  },
  {
   "cell_type": "code",
   "execution_count": 247,
   "metadata": {},
   "outputs": [],
   "source": [
    "pd.set_option('display.max_rows', 5000)\n",
    "pd.set_option('display.max_columns', 5000)\n",
    "pd.set_option('display.width', 10000)"
   ]
  },
  {
   "cell_type": "code",
   "execution_count": 248,
   "metadata": {},
   "outputs": [
    {
     "data": {
      "text/plain": [
       "array(['Blog', 'Gender', 'FMeasure', 'CharLength', 'TFPunctuation',\n",
       "       'TFStopWords', 'f1', 'f2', 'f3', 'f4', 'f5', 'f6', 'f7', 'f8',\n",
       "       'f9', 'f10', 'f11', 'ConversationCount', 'AtHomeCount',\n",
       "       'FamilyCount', 'TimeCount', 'WorkCount', 'PastActionsCount',\n",
       "       'GamesCount', 'InternetCount', 'LocationCount', 'FunCount',\n",
       "       'Food/ClothesCount', 'PoeticCount', 'Books/MoviesCount',\n",
       "       'ReligionCount', 'RomanceCount', 'SwearingCount', 'PoliticsCount',\n",
       "       'MusicCount', 'SchoolCount', 'BusinessCount', 'PositiveCount',\n",
       "       'NegativeCount', 'EmotionCount', 'ProperNounCount',\n",
       "       'SentenceCount', 'AvgSentLength', 'NN', 'NNPS', 'VBD', 'VBZ', 'MD',\n",
       "       'EX', 'IN', 'VB', 'JJR', 'JJS', 'PRP', 'WDT', 'JJ', 'VBP', 'NNS',\n",
       "       'VBN', 'DT', 'RB', 'WP', 'VBG', 'NNP', 'RBR', 'PRP$', 'JJ NN',\n",
       "       'VBP VB', 'VBD PRP', 'IN IN', 'NNP VBZ', 'RB DT', 'NN VBG',\n",
       "       'IN JJ', 'NN NN', 'RB VBZ', 'VBG DT', 'NN NNS', 'VBZ JJ', 'IN RB',\n",
       "       'JJ JJ', 'NN VBZ', 'IN VBG', 'VBP DT', 'VB NN', 'NNS VBP',\n",
       "       'DT NNP', 'PRP VBZ', 'PRP VBD', 'PRP VB', 'NN PRP', 'NN DT',\n",
       "       'VBZ VB', 'PRP VBP', 'PRP$ JJ', 'VBD IN', 'VB JJ', 'NN JJ',\n",
       "       'RB VB', 'JJ NNP', 'RB VBG', 'VBZ PRP', 'VBD DT', 'RB RB', 'JJ VB',\n",
       "       'PRP RB', 'JJ IN', 'VBD VB', 'VB IN', 'VBP PRP', 'VBD RB',\n",
       "       'VBG IN', 'PRP IN', 'VB PRP', 'NN RB', 'NNP NN', 'VB VBN',\n",
       "       'NN NNP', 'IN NN', 'VBP VBN', 'NN WDT', 'RB IN', 'DT JJ', 'RB VBD',\n",
       "       'VBZ IN', 'NN MD', 'VB DT', 'NNS IN', 'NNP RB', 'VB PRP$',\n",
       "       'VBP IN', 'RB VBP', 'NNS RB', 'DT NN', 'VBZ VBN', 'MD RB',\n",
       "       'NNP IN', 'NN VBD', 'JJ NNS', 'NN VB', 'IN PRP$', 'MD VB',\n",
       "       'RB PRP', 'NNS VB', 'VBZ DT', 'VBG NN', 'VBN IN', 'PRP$ NNS',\n",
       "       'VB VB', 'VBP RB', 'NNP NNP', 'NN IN', 'VB RB', 'VBG PRP',\n",
       "       'PRP MD', 'IN DT', 'NNP VBD', 'IN NNS', 'IN NNP', 'RB JJ',\n",
       "       'IN PRP', 'VBD JJ', 'RB VBN', 'DT NNS', 'VBD VBN', 'PRP$ NN',\n",
       "       'VBZ RB', 'VBP JJ', 'DT NN VBZ', 'PRP VBD IN', 'JJ NNP NN',\n",
       "       'DT NNP NNP', 'RB IN PRP', 'IN JJ NN', 'JJ NN VB', 'IN NN IN',\n",
       "       'IN DT NNS', 'NNS IN PRP', 'NN IN NNS', 'VBN IN DT', 'PRP VBP JJ',\n",
       "       'DT NNP NN', 'VBZ DT NN', 'PRP VBP RB', 'IN DT JJ', 'MD RB VB',\n",
       "       'JJ NN IN', 'RB DT NN', 'VBG DT NN', 'NNP NN NN', 'DT NNS IN',\n",
       "       'DT NN IN', 'JJ NN NN', 'VB DT NN', 'DT JJ NNS', 'NN IN PRP$',\n",
       "       'IN JJ NNS', 'NNS IN NN', 'VBZ DT JJ', 'PRP VBP DT', 'NNP NNP NN',\n",
       "       'PRP VBP PRP', 'VB DT JJ', 'VB PRP$ NN', 'DT JJ JJ', 'IN PRP VBP',\n",
       "       'DT NN VB', 'IN NNP NNP', 'NNS IN DT', 'VB IN DT', 'IN DT NNP',\n",
       "       'NN IN NNP', 'IN PRP$ NN', 'DT JJ NN', 'NN NN IN', 'IN NN NN',\n",
       "       'VBP DT NN', 'PRP MD VB', 'PRP$ NN NN', 'RB JJ NN', 'DT NN NN',\n",
       "       'IN PRP$ JJ', 'VBD DT JJ', 'PRP VBP VB', 'NN NN NN', 'VBD DT NN',\n",
       "       'NNP NNP NNP', 'PRP VBD VB', 'JJ NNS IN', 'IN DT NN', 'NN IN NN',\n",
       "       'PRP VBP IN', 'PRP VBD DT', 'IN PRP VBD', 'NN IN JJ', 'DT NN RB',\n",
       "       'NN IN PRP', 'NN IN DT', 'RB IN DT', 'JJ JJ NN', 'PRP$ NN IN',\n",
       "       'RB PRP VBP', 'PRP$ JJ NN', 'IN DT JJ NN', 'NN IN DT NN',\n",
       "       'NN IN PRP$ NN', 'NN IN DT JJ', 'IN DT NN VB', 'DT JJ NN IN',\n",
       "       'IN DT NN NN', 'DT JJ NN NN', 'VB DT JJ NN', 'IN DT NNP NN',\n",
       "       'DT NN IN PRP', 'JJ NN IN DT', 'DT NN IN NN', 'NNS IN DT NN',\n",
       "       'VB DT NN IN', 'NN IN JJ NN', 'DT NN IN DT', 'JJ NN IN NN',\n",
       "       'IN DT NN IN', 'DT NN IN DT NN', 'NN IN DT JJ NN',\n",
       "       'DT JJ NN IN NN', 'JJ NN IN DT NN', 'UpperCaseChars',\n",
       "       'UpperCaseWords', 'TitleCaseWords', 'DT VBZ', 'DT RB', 'VBD NN',\n",
       "       'NNP VB', 'IN NNP NN', 'JJ NNS VB', 'PRP$ NN VB', 'VBN IN NN',\n",
       "       'NN NN VB', 'PRP RB VB', 'VBZ NN', 'DT IN', 'DT VB', 'RB NN',\n",
       "       'WP VB', 'VBP NN', 'DT DT', 'VBN NN', 'IN VB', 'WDT VB',\n",
       "       'IN PRP VB', 'NNP NNP VB', 'NN IN VB', 'RB PRP VB', 'NN PRP VB'],\n",
       "      dtype=object)"
      ]
     },
     "execution_count": 248,
     "metadata": {},
     "output_type": "execute_result"
    }
   ],
   "source": [
    "df.columns.values"
   ]
  },
  {
   "cell_type": "code",
   "execution_count": 129,
   "metadata": {},
   "outputs": [
    {
     "name": "stdout",
     "output_type": "stream",
     "text": [
      "Male upper chars =  73.96469180131658\n",
      "Female upper chars =  66.46982478909798\n",
      "\n",
      "Male upper words =  11.381807301017355\n",
      "Female upper words =  14.085009733939001\n",
      "\n",
      "Male title words =  53.4524236983842\n",
      "Female title words =  48.850746268656714\n"
     ]
    }
   ],
   "source": [
    "print(\"Male upper chars = \", df[df.Gender=='M'].UpperCaseChars.values.mean())\n",
    "print(\"Female upper chars = \", df[df.Gender=='F'].UpperCaseChars.values.mean())\n",
    "print()\n",
    "print(\"Male upper words = \", df[df.Gender=='M'].UpperCaseWords.values.mean())\n",
    "print(\"Female upper words = \", df[df.Gender=='F'].UpperCaseWords.values.mean())\n",
    "print()\n",
    "print(\"Male title words = \", df[df.Gender=='M'].TitleCaseWords.values.mean())\n",
    "print(\"Female title words = \", df[df.Gender=='F'].TitleCaseWords.values.mean())"
   ]
  },
  {
   "cell_type": "code",
   "execution_count": 130,
   "metadata": {},
   "outputs": [
    {
     "name": "stdout",
     "output_type": "stream",
     "text": [
      "Male upper chars =  28.0\n",
      "Female upper chars =  26.0\n",
      "\n",
      "Male upper words =  4.0\n",
      "Female upper words =  6.0\n",
      "\n",
      "Male title words =  21.0\n",
      "Female title words =  19.0\n"
     ]
    }
   ],
   "source": [
    "import numpy as np\n",
    "print(\"Male upper chars = \", np.median(df[df.Gender=='M'].UpperCaseChars.values))\n",
    "print(\"Female upper chars = \", np.median(df[df.Gender=='F'].UpperCaseChars.values))\n",
    "print()\n",
    "print(\"Male upper words = \", np.median(df[df.Gender=='M'].UpperCaseWords.values))\n",
    "print(\"Female upper words = \", np.median(df[df.Gender=='F'].UpperCaseWords.values))\n",
    "print()\n",
    "print(\"Male title words = \", np.median(df[df.Gender=='M'].TitleCaseWords.values))\n",
    "print(\"Female title words = \", np.median(df[df.Gender=='F'].TitleCaseWords.values))"
   ]
  },
  {
   "cell_type": "code",
   "execution_count": 24,
   "metadata": {},
   "outputs": [],
   "source": [
    "from sklearn.model_selection import train_test_split"
   ]
  },
  {
   "cell_type": "code",
   "execution_count": 146,
   "metadata": {},
   "outputs": [
    {
     "name": "stdout",
     "output_type": "stream",
     "text": [
      "1671 1541 0.9219773674806433\n",
      "1541\n",
      "Males in training =  1155\n",
      "Females in training =  1156\n",
      "\n",
      "Males in test =  386\n",
      "Females in test =  385\n",
      "\n",
      "Total males =  1541\n",
      "Total Females =  1541\n"
     ]
    }
   ],
   "source": [
    "male_count = len(df[df.Gender == 'M'].index)\n",
    "female_count = len(df[df.Gender == 'F'].index)\n",
    "fraction = female_count / male_count\n",
    "print(male_count, female_count, frac)\n",
    "df2 = df.copy()\n",
    "df2 = df2.drop(df2[df2.Gender == 'M'].sample(frac=1 - fraction).index)\n",
    "print(len(df2[df2.Gender=='M'].index))\n",
    "df2['Blog'] = df2['Blog'].values.astype(str)\n",
    "blogs = df2.Blog.values\n",
    "genders = df2.Gender.values\n",
    "\n",
    "btr, bte, gtr, gte = train_test_split(blogs, genders, test_size=0.25, shuffle=True, stratify=genders)\n",
    "btr = pd.Series(btr, name='Blog')\n",
    "gtr = pd.Series(gtr, name='Gender')\n",
    "traindf = pd.concat([btr, gtr], axis=1)\n",
    "bte = pd.Series(bte, name='Blog')\n",
    "gte = pd.Series(gte, name='Gender')\n",
    "testdf = pd.concat([bte, gte], axis=1)\n",
    "\n",
    "print(\"Males in training = \", traindf[traindf.Gender == 'M'].values.shape[0])\n",
    "print(\"Females in training = \", traindf[traindf.Gender == 'F'].values.shape[0])\n",
    "print()\n",
    "print(\"Males in test = \", testdf[testdf.Gender == 'M'].values.shape[0])\n",
    "print(\"Females in test = \", testdf[testdf.Gender == 'F'].values.shape[0])\n",
    "print()\n",
    "print(\"Total males = \", traindf[traindf.Gender == 'M'].values.shape[0] + testdf[testdf.Gender == 'M'].values.shape[0])\n",
    "print(\"Total Females = \", traindf[traindf.Gender == 'F'].values.shape[0] + testdf[testdf.Gender == 'F'].values.shape[0])"
   ]
  },
  {
   "cell_type": "code",
   "execution_count": 149,
   "metadata": {},
   "outputs": [],
   "source": [
    "from sklearn.feature_selection import VarianceThreshold"
   ]
  },
  {
   "cell_type": "code",
   "execution_count": 249,
   "metadata": {},
   "outputs": [],
   "source": [
    "posdf = df[['NN', 'NNPS', 'VBD', 'VBZ', 'MD',\n",
    "       'EX', 'IN', 'VB', 'JJR', 'JJS', 'PRP', 'WDT', 'JJ', 'VBP', 'NNS',\n",
    "       'VBN', 'DT', 'RB', 'WP', 'VBG', 'NNP', 'RBR', 'PRP$', 'JJ NN',\n",
    "       'VBP VB', 'VBD PRP', 'IN IN', 'NNP VBZ', 'RB DT', 'NN VBG',\n",
    "       'IN JJ', 'NN NN', 'RB VBZ', 'VBG DT', 'NN NNS', 'VBZ JJ', 'IN RB',\n",
    "       'JJ JJ', 'NN VBZ', 'IN VBG', 'VBP DT', 'VB NN', 'NNS VBP',\n",
    "       'DT NNP', 'PRP VBZ', 'PRP VBD', 'PRP VB', 'NN PRP', 'NN DT',\n",
    "       'VBZ VB', 'PRP VBP', 'PRP$ JJ', 'VBD IN', 'VB JJ', 'NN JJ',\n",
    "       'RB VB', 'JJ NNP', 'RB VBG', 'VBZ PRP', 'VBD DT', 'RB RB', 'JJ VB',\n",
    "       'PRP RB', 'JJ IN', 'VBD VB', 'VB IN', 'VBP PRP', 'VBD RB',\n",
    "       'VBG IN', 'PRP IN', 'VB PRP', 'NN RB', 'NNP NN', 'VB VBN',\n",
    "       'NN NNP', 'IN NN', 'VBP VBN', 'NN WDT', 'RB IN', 'DT JJ', 'RB VBD',\n",
    "       'VBZ IN', 'NN MD', 'VB DT', 'NNS IN', 'NNP RB', 'VB PRP$',\n",
    "       'VBP IN', 'RB VBP', 'NNS RB', 'DT NN', 'VBZ VBN', 'MD RB',\n",
    "       'NNP IN', 'NN VBD', 'JJ NNS', 'NN VB', 'IN PRP$', 'MD VB',\n",
    "       'RB PRP', 'NNS VB', 'VBZ DT', 'VBG NN', 'VBN IN', 'PRP$ NNS',\n",
    "       'VB VB', 'VBP RB', 'NNP NNP', 'NN IN', 'VB RB', 'VBG PRP',\n",
    "       'PRP MD', 'IN DT', 'NNP VBD', 'IN NNS', 'IN NNP', 'RB JJ',\n",
    "       'IN PRP', 'VBD JJ', 'RB VBN', 'DT NNS', 'VBD VBN', 'PRP$ NN',\n",
    "       'VBZ RB', 'VBP JJ', 'DT NN VBZ', 'PRP VBD IN', 'JJ NNP NN',\n",
    "       'DT NNP NNP', 'RB IN PRP', 'IN JJ NN', 'JJ NN VB', 'IN NN IN',\n",
    "       'IN DT NNS', 'NNS IN PRP', 'NN IN NNS', 'VBN IN DT', 'PRP VBP JJ',\n",
    "       'DT NNP NN', 'VBZ DT NN', 'PRP VBP RB', 'IN DT JJ', 'MD RB VB',\n",
    "       'JJ NN IN', 'RB DT NN', 'VBG DT NN', 'NNP NN NN', 'DT NNS IN',\n",
    "       'DT NN IN', 'JJ NN NN', 'VB DT NN', 'DT JJ NNS', 'NN IN PRP$',\n",
    "       'IN JJ NNS', 'NNS IN NN', 'VBZ DT JJ', 'PRP VBP DT', 'NNP NNP NN',\n",
    "       'PRP VBP PRP', 'VB DT JJ', 'VB PRP$ NN', 'DT JJ JJ', 'IN PRP VBP',\n",
    "       'DT NN VB', 'IN NNP NNP', 'NNS IN DT', 'VB IN DT', 'IN DT NNP',\n",
    "       'NN IN NNP', 'IN PRP$ NN', 'DT JJ NN', 'NN NN IN', 'IN NN NN',\n",
    "       'VBP DT NN', 'PRP MD VB', 'PRP$ NN NN', 'RB JJ NN', 'DT NN NN',\n",
    "       'IN PRP$ JJ', 'VBD DT JJ', 'PRP VBP VB', 'NN NN NN', 'VBD DT NN',\n",
    "       'NNP NNP NNP', 'PRP VBD VB', 'JJ NNS IN', 'IN DT NN', 'NN IN NN',\n",
    "       'PRP VBP IN', 'PRP VBD DT', 'IN PRP VBD', 'NN IN JJ', 'DT NN RB',\n",
    "       'NN IN PRP', 'NN IN DT', 'RB IN DT', 'JJ JJ NN', 'PRP$ NN IN',\n",
    "       'RB PRP VBP', 'PRP$ JJ NN', 'IN DT JJ NN', 'NN IN DT NN',\n",
    "       'NN IN PRP$ NN', 'NN IN DT JJ', 'IN DT NN VB', 'DT JJ NN IN',\n",
    "       'IN DT NN NN', 'DT JJ NN NN', 'VB DT JJ NN', 'IN DT NNP NN',\n",
    "       'DT NN IN PRP', 'JJ NN IN DT', 'DT NN IN NN', 'NNS IN DT NN',\n",
    "       'VB DT NN IN', 'NN IN JJ NN', 'DT NN IN DT', 'JJ NN IN NN',\n",
    "       'IN DT NN IN', 'DT NN IN DT NN', 'NN IN DT JJ NN',\n",
    "       'DT JJ NN IN NN', 'JJ NN IN DT NN', 'DT VBZ', 'DT RB', 'VBD NN',\n",
    "       'NNP VB', 'IN NNP NN', 'JJ NNS VB', 'PRP$ NN VB', 'VBN IN NN',\n",
    "       'NN NN VB', 'PRP RB VB', 'VBZ NN', 'DT IN', 'DT VB', 'RB NN',\n",
    "       'WP VB', 'VBP NN', 'DT DT', 'VBN NN', 'IN VB', 'WDT VB',\n",
    "       'IN PRP VB', 'NNP NNP VB', 'NN IN VB', 'RB PRP VB', 'NN PRP VB']]"
   ]
  },
  {
   "cell_type": "code",
   "execution_count": 250,
   "metadata": {},
   "outputs": [],
   "source": [
    "vt = VarianceThreshold(threshold=(.55 * (1 - .55)))"
   ]
  },
  {
   "cell_type": "code",
   "execution_count": 251,
   "metadata": {},
   "outputs": [],
   "source": [
    "posdfc = vt.fit_transform(posdf)"
   ]
  },
  {
   "cell_type": "code",
   "execution_count": 252,
   "metadata": {},
   "outputs": [
    {
     "data": {
      "text/plain": [
       "(3212, 45)"
      ]
     },
     "execution_count": 252,
     "metadata": {},
     "output_type": "execute_result"
    }
   ],
   "source": [
    "posdfc.shape"
   ]
  },
  {
   "cell_type": "code",
   "execution_count": 253,
   "metadata": {},
   "outputs": [
    {
     "data": {
      "text/plain": [
       "(3212, 248)"
      ]
     },
     "execution_count": 253,
     "metadata": {},
     "output_type": "execute_result"
    }
   ],
   "source": [
    "posdf.shape"
   ]
  },
  {
   "cell_type": "code",
   "execution_count": 254,
   "metadata": {},
   "outputs": [],
   "source": [
    "support = vt.get_support()"
   ]
  },
  {
   "cell_type": "code",
   "execution_count": 255,
   "metadata": {},
   "outputs": [
    {
     "data": {
      "text/plain": [
       "{'threshold': 0.2475}"
      ]
     },
     "execution_count": 255,
     "metadata": {},
     "output_type": "execute_result"
    }
   ],
   "source": [
    "vt.get_params()"
   ]
  },
  {
   "cell_type": "code",
   "execution_count": 256,
   "metadata": {},
   "outputs": [
    {
     "name": "stdout",
     "output_type": "stream",
     "text": [
      "[  8  25  26  28  33  39  40  49  52  53  56  64  66  67  68  69  74  87\n",
      "  93 102 104 105 106 113 119 123 124 154 157 162 174 180 182 196 199 205\n",
      " 212 216 218 223 232 236 242 246 247]\n"
     ]
    }
   ],
   "source": [
    "support_loc = np.where(support == True)\n",
    "print(support_loc[0])"
   ]
  },
  {
   "cell_type": "code",
   "execution_count": 257,
   "metadata": {},
   "outputs": [
    {
     "name": "stdout",
     "output_type": "stream",
     "text": [
      "Column and Index =  NN 0\n",
      "Dropping column =  NN\n",
      "Column and Index =  NNPS 1\n",
      "Dropping column =  NNPS\n",
      "Column and Index =  VBD 2\n",
      "Dropping column =  VBD\n",
      "Column and Index =  VBZ 3\n",
      "Dropping column =  VBZ\n",
      "Column and Index =  MD 4\n",
      "Dropping column =  MD\n",
      "Column and Index =  EX 5\n",
      "Dropping column =  EX\n",
      "Column and Index =  IN 6\n",
      "Dropping column =  IN\n",
      "Column and Index =  VB 7\n",
      "Dropping column =  VB\n",
      "Column and Index =  JJR 8\n",
      "Column and Index =  JJS 9\n",
      "Dropping column =  JJS\n",
      "Column and Index =  PRP 10\n",
      "Dropping column =  PRP\n",
      "Column and Index =  WDT 11\n",
      "Dropping column =  WDT\n",
      "Column and Index =  JJ 12\n",
      "Dropping column =  JJ\n",
      "Column and Index =  VBP 13\n",
      "Dropping column =  VBP\n",
      "Column and Index =  NNS 14\n",
      "Dropping column =  NNS\n",
      "Column and Index =  VBN 15\n",
      "Dropping column =  VBN\n",
      "Column and Index =  DT 16\n",
      "Dropping column =  DT\n",
      "Column and Index =  RB 17\n",
      "Dropping column =  RB\n",
      "Column and Index =  WP 18\n",
      "Dropping column =  WP\n",
      "Column and Index =  VBG 19\n",
      "Dropping column =  VBG\n",
      "Column and Index =  NNP 20\n",
      "Dropping column =  NNP\n",
      "Column and Index =  RBR 21\n",
      "Dropping column =  RBR\n",
      "Column and Index =  PRP$ 22\n",
      "Dropping column =  PRP$\n",
      "Column and Index =  JJ NN 23\n",
      "Dropping column =  JJ NN\n",
      "Column and Index =  VBP VB 24\n",
      "Dropping column =  VBP VB\n",
      "Column and Index =  VBD PRP 25\n",
      "Column and Index =  IN IN 26\n",
      "Column and Index =  NNP VBZ 27\n",
      "Dropping column =  NNP VBZ\n",
      "Column and Index =  RB DT 28\n",
      "Column and Index =  NN VBG 29\n",
      "Dropping column =  NN VBG\n",
      "Column and Index =  IN JJ 30\n",
      "Dropping column =  IN JJ\n",
      "Column and Index =  NN NN 31\n",
      "Dropping column =  NN NN\n",
      "Column and Index =  RB VBZ 32\n",
      "Dropping column =  RB VBZ\n",
      "Column and Index =  VBG DT 33\n",
      "Column and Index =  NN NNS 34\n",
      "Dropping column =  NN NNS\n",
      "Column and Index =  VBZ JJ 35\n",
      "Dropping column =  VBZ JJ\n",
      "Column and Index =  IN RB 36\n",
      "Dropping column =  IN RB\n",
      "Column and Index =  JJ JJ 37\n",
      "Dropping column =  JJ JJ\n",
      "Column and Index =  NN VBZ 38\n",
      "Dropping column =  NN VBZ\n",
      "Column and Index =  IN VBG 39\n",
      "Column and Index =  VBP DT 40\n",
      "Column and Index =  VB NN 41\n",
      "Dropping column =  VB NN\n",
      "Column and Index =  NNS VBP 42\n",
      "Dropping column =  NNS VBP\n",
      "Column and Index =  DT NNP 43\n",
      "Dropping column =  DT NNP\n",
      "Column and Index =  PRP VBZ 44\n",
      "Dropping column =  PRP VBZ\n",
      "Column and Index =  PRP VBD 45\n",
      "Dropping column =  PRP VBD\n",
      "Column and Index =  PRP VB 46\n",
      "Dropping column =  PRP VB\n",
      "Column and Index =  NN PRP 47\n",
      "Dropping column =  NN PRP\n",
      "Column and Index =  NN DT 48\n",
      "Dropping column =  NN DT\n",
      "Column and Index =  VBZ VB 49\n",
      "Column and Index =  PRP VBP 50\n",
      "Dropping column =  PRP VBP\n",
      "Column and Index =  PRP$ JJ 51\n",
      "Dropping column =  PRP$ JJ\n",
      "Column and Index =  VBD IN 52\n",
      "Column and Index =  VB JJ 53\n",
      "Column and Index =  NN JJ 54\n",
      "Dropping column =  NN JJ\n",
      "Column and Index =  RB VB 55\n",
      "Dropping column =  RB VB\n",
      "Column and Index =  JJ NNP 56\n",
      "Column and Index =  RB VBG 57\n",
      "Dropping column =  RB VBG\n",
      "Column and Index =  VBZ PRP 58\n",
      "Dropping column =  VBZ PRP\n",
      "Column and Index =  VBD DT 59\n",
      "Dropping column =  VBD DT\n",
      "Column and Index =  RB RB 60\n",
      "Dropping column =  RB RB\n",
      "Column and Index =  JJ VB 61\n",
      "Dropping column =  JJ VB\n",
      "Column and Index =  PRP RB 62\n",
      "Dropping column =  PRP RB\n",
      "Column and Index =  JJ IN 63\n",
      "Dropping column =  JJ IN\n",
      "Column and Index =  VBD VB 64\n",
      "Column and Index =  VB IN 65\n",
      "Dropping column =  VB IN\n",
      "Column and Index =  VBP PRP 66\n",
      "Column and Index =  VBD RB 67\n",
      "Column and Index =  VBG IN 68\n",
      "Column and Index =  PRP IN 69\n",
      "Column and Index =  VB PRP 70\n",
      "Dropping column =  VB PRP\n",
      "Column and Index =  NN RB 71\n",
      "Dropping column =  NN RB\n",
      "Column and Index =  NNP NN 72\n",
      "Dropping column =  NNP NN\n",
      "Column and Index =  VB VBN 73\n",
      "Dropping column =  VB VBN\n",
      "Column and Index =  NN NNP 74\n",
      "Column and Index =  IN NN 75\n",
      "Dropping column =  IN NN\n",
      "Column and Index =  VBP VBN 76\n",
      "Dropping column =  VBP VBN\n",
      "Column and Index =  NN WDT 77\n",
      "Dropping column =  NN WDT\n",
      "Column and Index =  RB IN 78\n",
      "Dropping column =  RB IN\n",
      "Column and Index =  DT JJ 79\n",
      "Dropping column =  DT JJ\n",
      "Column and Index =  RB VBD 80\n",
      "Dropping column =  RB VBD\n",
      "Column and Index =  VBZ IN 81\n",
      "Dropping column =  VBZ IN\n",
      "Column and Index =  NN MD 82\n",
      "Dropping column =  NN MD\n",
      "Column and Index =  VB DT 83\n",
      "Dropping column =  VB DT\n",
      "Column and Index =  NNS IN 84\n",
      "Dropping column =  NNS IN\n",
      "Column and Index =  NNP RB 85\n",
      "Dropping column =  NNP RB\n",
      "Column and Index =  VB PRP$ 86\n",
      "Dropping column =  VB PRP$\n",
      "Column and Index =  VBP IN 87\n",
      "Column and Index =  RB VBP 88\n",
      "Dropping column =  RB VBP\n",
      "Column and Index =  NNS RB 89\n",
      "Dropping column =  NNS RB\n",
      "Column and Index =  DT NN 90\n",
      "Dropping column =  DT NN\n",
      "Column and Index =  VBZ VBN 91\n",
      "Dropping column =  VBZ VBN\n",
      "Column and Index =  MD RB 92\n",
      "Dropping column =  MD RB\n",
      "Column and Index =  NNP IN 93\n",
      "Column and Index =  NN VBD 94\n",
      "Dropping column =  NN VBD\n",
      "Column and Index =  JJ NNS 95\n",
      "Dropping column =  JJ NNS\n",
      "Column and Index =  NN VB 96\n",
      "Dropping column =  NN VB\n",
      "Column and Index =  IN PRP$ 97\n",
      "Dropping column =  IN PRP$\n",
      "Column and Index =  MD VB 98\n",
      "Dropping column =  MD VB\n",
      "Column and Index =  RB PRP 99\n",
      "Dropping column =  RB PRP\n",
      "Column and Index =  NNS VB 100\n",
      "Dropping column =  NNS VB\n",
      "Column and Index =  VBZ DT 101\n",
      "Dropping column =  VBZ DT\n",
      "Column and Index =  VBG NN 102\n",
      "Column and Index =  VBN IN 103\n",
      "Dropping column =  VBN IN\n",
      "Column and Index =  PRP$ NNS 104\n",
      "Column and Index =  VB VB 105\n",
      "Column and Index =  VBP RB 106\n",
      "Column and Index =  NNP NNP 107\n",
      "Dropping column =  NNP NNP\n",
      "Column and Index =  NN IN 108\n",
      "Dropping column =  NN IN\n",
      "Column and Index =  VB RB 109\n",
      "Dropping column =  VB RB\n",
      "Column and Index =  VBG PRP 110\n",
      "Dropping column =  VBG PRP\n",
      "Column and Index =  PRP MD 111\n",
      "Dropping column =  PRP MD\n",
      "Column and Index =  IN DT 112\n",
      "Dropping column =  IN DT\n",
      "Column and Index =  NNP VBD 113\n",
      "Column and Index =  IN NNS 114\n",
      "Dropping column =  IN NNS\n",
      "Column and Index =  IN NNP 115\n",
      "Dropping column =  IN NNP\n",
      "Column and Index =  RB JJ 116\n",
      "Dropping column =  RB JJ\n",
      "Column and Index =  IN PRP 117\n",
      "Dropping column =  IN PRP\n",
      "Column and Index =  VBD JJ 118\n",
      "Dropping column =  VBD JJ\n",
      "Column and Index =  RB VBN 119\n",
      "Column and Index =  DT NNS 120\n",
      "Dropping column =  DT NNS\n",
      "Column and Index =  VBD VBN 121\n",
      "Dropping column =  VBD VBN\n",
      "Column and Index =  PRP$ NN 122\n",
      "Dropping column =  PRP$ NN\n",
      "Column and Index =  VBZ RB 123\n",
      "Column and Index =  VBP JJ 124\n",
      "Column and Index =  DT NN VBZ 125\n",
      "Dropping column =  DT NN VBZ\n",
      "Column and Index =  PRP VBD IN 126\n",
      "Dropping column =  PRP VBD IN\n",
      "Column and Index =  JJ NNP NN 127\n",
      "Dropping column =  JJ NNP NN\n",
      "Column and Index =  DT NNP NNP 128\n",
      "Dropping column =  DT NNP NNP\n",
      "Column and Index =  RB IN PRP 129\n",
      "Dropping column =  RB IN PRP\n",
      "Column and Index =  IN JJ NN 130\n",
      "Dropping column =  IN JJ NN\n",
      "Column and Index =  JJ NN VB 131\n",
      "Dropping column =  JJ NN VB\n",
      "Column and Index =  IN NN IN 132\n",
      "Dropping column =  IN NN IN\n",
      "Column and Index =  IN DT NNS 133\n",
      "Dropping column =  IN DT NNS\n",
      "Column and Index =  NNS IN PRP 134\n",
      "Dropping column =  NNS IN PRP\n",
      "Column and Index =  NN IN NNS 135\n",
      "Dropping column =  NN IN NNS\n",
      "Column and Index =  VBN IN DT 136\n",
      "Dropping column =  VBN IN DT\n",
      "Column and Index =  PRP VBP JJ 137\n",
      "Dropping column =  PRP VBP JJ\n",
      "Column and Index =  DT NNP NN 138\n",
      "Dropping column =  DT NNP NN\n",
      "Column and Index =  VBZ DT NN 139\n",
      "Dropping column =  VBZ DT NN\n",
      "Column and Index =  PRP VBP RB 140\n",
      "Dropping column =  PRP VBP RB\n",
      "Column and Index =  IN DT JJ 141\n",
      "Dropping column =  IN DT JJ\n",
      "Column and Index =  MD RB VB 142\n",
      "Dropping column =  MD RB VB\n",
      "Column and Index =  JJ NN IN 143\n",
      "Dropping column =  JJ NN IN\n",
      "Column and Index =  RB DT NN 144\n",
      "Dropping column =  RB DT NN\n",
      "Column and Index =  VBG DT NN 145\n",
      "Dropping column =  VBG DT NN\n",
      "Column and Index =  NNP NN NN 146\n",
      "Dropping column =  NNP NN NN\n",
      "Column and Index =  DT NNS IN 147\n",
      "Dropping column =  DT NNS IN\n",
      "Column and Index =  DT NN IN 148\n",
      "Dropping column =  DT NN IN\n",
      "Column and Index =  JJ NN NN 149\n",
      "Dropping column =  JJ NN NN\n",
      "Column and Index =  VB DT NN 150\n",
      "Dropping column =  VB DT NN\n",
      "Column and Index =  DT JJ NNS 151\n",
      "Dropping column =  DT JJ NNS\n",
      "Column and Index =  NN IN PRP$ 152\n",
      "Dropping column =  NN IN PRP$\n",
      "Column and Index =  IN JJ NNS 153\n",
      "Dropping column =  IN JJ NNS\n",
      "Column and Index =  NNS IN NN 154\n",
      "Column and Index =  VBZ DT JJ 155\n",
      "Dropping column =  VBZ DT JJ\n",
      "Column and Index =  PRP VBP DT 156\n",
      "Dropping column =  PRP VBP DT\n",
      "Column and Index =  NNP NNP NN 157\n",
      "Column and Index =  PRP VBP PRP 158\n",
      "Dropping column =  PRP VBP PRP\n",
      "Column and Index =  VB DT JJ 159\n",
      "Dropping column =  VB DT JJ\n",
      "Column and Index =  VB PRP$ NN 160\n",
      "Dropping column =  VB PRP$ NN\n",
      "Column and Index =  DT JJ JJ 161\n",
      "Dropping column =  DT JJ JJ\n",
      "Column and Index =  IN PRP VBP 162\n",
      "Column and Index =  DT NN VB 163\n",
      "Dropping column =  DT NN VB\n",
      "Column and Index =  IN NNP NNP 164\n",
      "Dropping column =  IN NNP NNP\n",
      "Column and Index =  NNS IN DT 165\n",
      "Dropping column =  NNS IN DT\n",
      "Column and Index =  VB IN DT 166\n",
      "Dropping column =  VB IN DT\n",
      "Column and Index =  IN DT NNP 167\n",
      "Dropping column =  IN DT NNP\n",
      "Column and Index =  NN IN NNP 168\n",
      "Dropping column =  NN IN NNP\n",
      "Column and Index =  IN PRP$ NN 169\n",
      "Dropping column =  IN PRP$ NN\n",
      "Column and Index =  DT JJ NN 170\n",
      "Dropping column =  DT JJ NN\n",
      "Column and Index =  NN NN IN 171\n",
      "Dropping column =  NN NN IN\n",
      "Column and Index =  IN NN NN 172\n",
      "Dropping column =  IN NN NN\n",
      "Column and Index =  VBP DT NN 173\n",
      "Dropping column =  VBP DT NN\n",
      "Column and Index =  PRP MD VB 174\n",
      "Column and Index =  PRP$ NN NN 175\n",
      "Dropping column =  PRP$ NN NN\n",
      "Column and Index =  RB JJ NN 176\n",
      "Dropping column =  RB JJ NN\n",
      "Column and Index =  DT NN NN 177\n",
      "Dropping column =  DT NN NN\n",
      "Column and Index =  IN PRP$ JJ 178\n",
      "Dropping column =  IN PRP$ JJ\n",
      "Column and Index =  VBD DT JJ 179\n",
      "Dropping column =  VBD DT JJ\n",
      "Column and Index =  PRP VBP VB 180\n",
      "Column and Index =  NN NN NN 181\n",
      "Dropping column =  NN NN NN\n",
      "Column and Index =  VBD DT NN 182\n",
      "Column and Index =  NNP NNP NNP 183\n",
      "Dropping column =  NNP NNP NNP\n",
      "Column and Index =  PRP VBD VB 184\n",
      "Dropping column =  PRP VBD VB\n",
      "Column and Index =  JJ NNS IN 185\n",
      "Dropping column =  JJ NNS IN\n",
      "Column and Index =  IN DT NN 186\n",
      "Dropping column =  IN DT NN\n",
      "Column and Index =  NN IN NN 187\n",
      "Dropping column =  NN IN NN\n",
      "Column and Index =  PRP VBP IN 188\n",
      "Dropping column =  PRP VBP IN\n",
      "Column and Index =  PRP VBD DT 189\n",
      "Dropping column =  PRP VBD DT\n",
      "Column and Index =  IN PRP VBD 190\n",
      "Dropping column =  IN PRP VBD\n",
      "Column and Index =  NN IN JJ 191\n",
      "Dropping column =  NN IN JJ\n",
      "Column and Index =  DT NN RB 192\n",
      "Dropping column =  DT NN RB\n",
      "Column and Index =  NN IN PRP 193\n",
      "Dropping column =  NN IN PRP\n",
      "Column and Index =  NN IN DT 194\n",
      "Dropping column =  NN IN DT\n",
      "Column and Index =  RB IN DT 195\n",
      "Dropping column =  RB IN DT\n",
      "Column and Index =  JJ JJ NN 196\n",
      "Column and Index =  PRP$ NN IN 197\n",
      "Dropping column =  PRP$ NN IN\n",
      "Column and Index =  RB PRP VBP 198\n",
      "Dropping column =  RB PRP VBP\n",
      "Column and Index =  PRP$ JJ NN 199\n",
      "Column and Index =  IN DT JJ NN 200\n",
      "Dropping column =  IN DT JJ NN\n",
      "Column and Index =  NN IN DT NN 201\n",
      "Dropping column =  NN IN DT NN\n",
      "Column and Index =  NN IN PRP$ NN 202\n",
      "Dropping column =  NN IN PRP$ NN\n",
      "Column and Index =  NN IN DT JJ 203\n",
      "Dropping column =  NN IN DT JJ\n",
      "Column and Index =  IN DT NN VB 204\n",
      "Dropping column =  IN DT NN VB\n",
      "Column and Index =  DT JJ NN IN 205\n",
      "Column and Index =  IN DT NN NN 206\n",
      "Dropping column =  IN DT NN NN\n",
      "Column and Index =  DT JJ NN NN 207\n",
      "Dropping column =  DT JJ NN NN\n",
      "Column and Index =  VB DT JJ NN 208\n",
      "Dropping column =  VB DT JJ NN\n",
      "Column and Index =  IN DT NNP NN 209\n",
      "Dropping column =  IN DT NNP NN\n",
      "Column and Index =  DT NN IN PRP 210\n",
      "Dropping column =  DT NN IN PRP\n",
      "Column and Index =  JJ NN IN DT 211\n",
      "Dropping column =  JJ NN IN DT\n",
      "Column and Index =  DT NN IN NN 212\n",
      "Column and Index =  NNS IN DT NN 213\n",
      "Dropping column =  NNS IN DT NN\n",
      "Column and Index =  VB DT NN IN 214\n",
      "Dropping column =  VB DT NN IN\n",
      "Column and Index =  NN IN JJ NN 215\n",
      "Dropping column =  NN IN JJ NN\n",
      "Column and Index =  DT NN IN DT 216\n",
      "Column and Index =  JJ NN IN NN 217\n",
      "Dropping column =  JJ NN IN NN\n",
      "Column and Index =  IN DT NN IN 218\n",
      "Column and Index =  DT NN IN DT NN 219\n",
      "Dropping column =  DT NN IN DT NN\n",
      "Column and Index =  NN IN DT JJ NN 220\n",
      "Dropping column =  NN IN DT JJ NN\n",
      "Column and Index =  DT JJ NN IN NN 221\n",
      "Dropping column =  DT JJ NN IN NN\n",
      "Column and Index =  JJ NN IN DT NN 222\n",
      "Dropping column =  JJ NN IN DT NN\n",
      "Column and Index =  DT VBZ 223\n",
      "Column and Index =  DT RB 224\n",
      "Dropping column =  DT RB\n",
      "Column and Index =  VBD NN 225\n",
      "Dropping column =  VBD NN\n",
      "Column and Index =  NNP VB 226\n",
      "Dropping column =  NNP VB\n",
      "Column and Index =  IN NNP NN 227\n",
      "Dropping column =  IN NNP NN\n",
      "Column and Index =  JJ NNS VB 228\n",
      "Dropping column =  JJ NNS VB\n",
      "Column and Index =  PRP$ NN VB 229\n",
      "Dropping column =  PRP$ NN VB\n",
      "Column and Index =  VBN IN NN 230\n",
      "Dropping column =  VBN IN NN\n",
      "Column and Index =  NN NN VB 231\n",
      "Dropping column =  NN NN VB\n",
      "Column and Index =  PRP RB VB 232\n",
      "Column and Index =  VBZ NN 233\n",
      "Dropping column =  VBZ NN\n",
      "Column and Index =  DT IN 234\n",
      "Dropping column =  DT IN\n",
      "Column and Index =  DT VB 235\n",
      "Dropping column =  DT VB\n",
      "Column and Index =  RB NN 236\n",
      "Column and Index =  WP VB 237\n",
      "Dropping column =  WP VB\n",
      "Column and Index =  VBP NN 238\n",
      "Dropping column =  VBP NN\n",
      "Column and Index =  DT DT 239\n",
      "Dropping column =  DT DT\n",
      "Column and Index =  VBN NN 240\n",
      "Dropping column =  VBN NN\n",
      "Column and Index =  IN VB 241\n",
      "Dropping column =  IN VB\n",
      "Column and Index =  WDT VB 242\n",
      "Column and Index =  IN PRP VB 243\n",
      "Dropping column =  IN PRP VB\n",
      "Column and Index =  NNP NNP VB 244\n",
      "Dropping column =  NNP NNP VB\n",
      "Column and Index =  NN IN VB 245\n",
      "Dropping column =  NN IN VB\n",
      "Column and Index =  RB PRP VB 246\n",
      "Column and Index =  NN PRP VB 247\n"
     ]
    }
   ],
   "source": [
    "posdfc = posdf.copy()\n",
    "for column in posdfc.columns.values:\n",
    "    index = posdfc.columns.get_loc(column)\n",
    "    print(\"Column and Index = \", column, index)\n",
    "    if index not in support_loc[0]:\n",
    "        print(\"Dropping column = \", column)\n",
    "        posdf = posdf.drop(columns=[column])"
   ]
  },
  {
   "cell_type": "code",
   "execution_count": 258,
   "metadata": {},
   "outputs": [
    {
     "data": {
      "text/plain": [
       "array(['JJR', 'VBD PRP', 'IN IN', 'RB DT', 'VBG DT', 'IN VBG', 'VBP DT',\n",
       "       'VBZ VB', 'VBD IN', 'VB JJ', 'JJ NNP', 'VBD VB', 'VBP PRP',\n",
       "       'VBD RB', 'VBG IN', 'PRP IN', 'NN NNP', 'VBP IN', 'NNP IN',\n",
       "       'VBG NN', 'PRP$ NNS', 'VB VB', 'VBP RB', 'NNP VBD', 'RB VBN',\n",
       "       'VBZ RB', 'VBP JJ', 'NNS IN NN', 'NNP NNP NN', 'IN PRP VBP',\n",
       "       'PRP MD VB', 'PRP VBP VB', 'VBD DT NN', 'JJ JJ NN', 'PRP$ JJ NN',\n",
       "       'DT JJ NN IN', 'DT NN IN NN', 'DT NN IN DT', 'IN DT NN IN',\n",
       "       'DT VBZ', 'PRP RB VB', 'RB NN', 'WDT VB', 'RB PRP VB', 'NN PRP VB'],\n",
       "      dtype=object)"
      ]
     },
     "execution_count": 258,
     "metadata": {},
     "output_type": "execute_result"
    }
   ],
   "source": [
    "posdf.columns.values"
   ]
  },
  {
   "cell_type": "code",
   "execution_count": 260,
   "metadata": {},
   "outputs": [],
   "source": [
    "l = []\n",
    "for c in posdfc.columns.values:\n",
    "    if c not in posdf.columns.values:\n",
    "        l.append(c)"
   ]
  },
  {
   "cell_type": "code",
   "execution_count": 291,
   "metadata": {},
   "outputs": [],
   "source": [
    "cdf = df[['Gender', 'FMeasure', 'CharLength', 'TFPunctuation',\n",
    "       'TFStopWords', 'f1', 'f2', 'f3', 'f4', 'f5', 'f6', 'f7', 'f8',\n",
    "       'f9', 'f10', 'f11', 'ConversationCount', 'AtHomeCount',\n",
    "       'FamilyCount', 'TimeCount', 'WorkCount', 'PastActionsCount',\n",
    "       'GamesCount', 'InternetCount', 'LocationCount', 'FunCount',\n",
    "       'Food/ClothesCount', 'PoeticCount', 'Books/MoviesCount',\n",
    "       'ReligionCount', 'RomanceCount', 'SwearingCount', 'PoliticsCount',\n",
    "       'MusicCount', 'SchoolCount', 'BusinessCount', 'PositiveCount',\n",
    "       'NegativeCount', 'EmotionCount', 'ProperNounCount',\n",
    "       'SentenceCount', 'AvgSentLength', 'UpperCaseChars',\n",
    "       'UpperCaseWords', 'TitleCaseWords']]"
   ]
  },
  {
   "cell_type": "code",
   "execution_count": 292,
   "metadata": {
    "scrolled": true
   },
   "outputs": [
    {
     "name": "stdout",
     "output_type": "stream",
     "text": [
      "COLUMN =  FMeasure\n",
      "Male average  112.6918013165769\n",
      "Female average  97.91758598312784\n",
      "Absolute difference  14.774215333449064\n",
      "Male avg. / Female avg.  1.1508841867894375\n",
      "\n",
      "COLUMN =  CharLength\n",
      "Male average  2406.1149012567325\n",
      "Female average  2259.6164828033743\n",
      "Absolute difference  146.49841845335823\n",
      "Male avg. / Female avg.  1.0648333111252606\n",
      "\n",
      "COLUMN =  TFPunctuation\n",
      "Male average  78.20406941950928\n",
      "Female average  78.75989617131732\n",
      "Absolute difference  0.5558267518080413\n",
      "Male avg. / Female avg.  0.9929427693683215\n",
      "\n",
      "COLUMN =  TFStopWords\n",
      "Male average  168.12627169359664\n",
      "Female average  163.09863724853992\n",
      "Absolute difference  5.027634445056719\n",
      "Male avg. / Female avg.  1.0308257293247356\n",
      "\n",
      "COLUMN =  f1\n",
      "Male average  0.6935966487133453\n",
      "Female average  0.5418559377027904\n",
      "Absolute difference  0.15174071101055486\n",
      "Male avg. / Female avg.  1.2800388451104971\n",
      "\n",
      "COLUMN =  f2\n",
      "Male average  3.41771394374626\n",
      "Female average  2.3776768332251783\n",
      "Absolute difference  1.0400371105210815\n",
      "Male avg. / Female avg.  1.4374173546159899\n",
      "\n",
      "COLUMN =  f3\n",
      "Male average  0.34889287851585876\n",
      "Female average  0.44776119402985076\n",
      "Absolute difference  0.098868315513992\n",
      "Male avg. / Female avg.  0.7791940953520845\n",
      "\n",
      "COLUMN =  f4\n",
      "Male average  0.23937761819269898\n",
      "Female average  0.16937053861129137\n",
      "Absolute difference  0.07000707958140762\n",
      "Male avg. / Female avg.  1.4133368185247093\n",
      "\n",
      "COLUMN =  f5\n",
      "Male average  1.234590065828845\n",
      "Female average  0.9240752757949383\n",
      "Absolute difference  0.3105147900339066\n",
      "Male avg. / Female avg.  1.336027592304951\n",
      "\n",
      "COLUMN =  f6\n",
      "Male average  1.1891083183722322\n",
      "Female average  0.9954574951330305\n",
      "Absolute difference  0.19365082323920169\n",
      "Male avg. / Female avg.  1.1945344971392502\n",
      "\n",
      "COLUMN =  f7\n",
      "Male average  0.3393177737881508\n",
      "Female average  0.25243348475016225\n",
      "Absolute difference  0.08688428903798856\n",
      "Male avg. / Female avg.  1.344186862230181\n",
      "\n",
      "COLUMN =  f8\n",
      "Male average  5.60622381807301\n",
      "Female average  5.603504218040234\n",
      "Absolute difference  0.0027196000327762704\n",
      "Male avg. / Female avg.  1.0004853391604527\n",
      "\n",
      "COLUMN =  f9\n",
      "Male average  0.6223818073010173\n",
      "Female average  0.6099935107073329\n",
      "Absolute difference  0.012388296593684456\n",
      "Male avg. / Female avg.  1.0203088989902849\n",
      "\n",
      "COLUMN =  f10\n",
      "Male average  0.05146618791143028\n",
      "Female average  0.06748864373783257\n",
      "Absolute difference  0.016022455826402292\n",
      "Male avg. / Female avg.  0.7625903420337891\n",
      "\n",
      "COLUMN =  f11\n",
      "Male average  0.02872531418312388\n",
      "Female average  0.025957170668397145\n",
      "Absolute difference  0.002768143514726734\n",
      "Male avg. / Female avg.  1.1066427289048475\n",
      "\n",
      "COLUMN =  ConversationCount\n",
      "Male average  3.8539796529024537\n",
      "Female average  4.1914341336794285\n",
      "Absolute difference  0.3374544807769748\n",
      "Male avg. / Female avg.  0.919489494522787\n",
      "\n",
      "COLUMN =  AtHomeCount\n",
      "Male average  1.1400359066427288\n",
      "Female average  1.5859831278390655\n",
      "Absolute difference  0.4459472211963367\n",
      "Male avg. / Female avg.  0.7188196940001822\n",
      "\n",
      "COLUMN =  FamilyCount\n",
      "Male average  2.116098144823459\n",
      "Female average  2.582738481505516\n",
      "Absolute difference  0.46664033668205684\n",
      "Male avg. / Female avg.  0.8193234274303896\n",
      "\n",
      "COLUMN =  TimeCount\n",
      "Male average  0.9245960502692998\n",
      "Female average  1.282284231018819\n",
      "Absolute difference  0.35768818074951914\n",
      "Male avg. / Female avg.  0.7210539035754003\n",
      "\n",
      "COLUMN =  WorkCount\n",
      "Male average  1.8426092160383005\n",
      "Female average  1.954574951330305\n",
      "Absolute difference  0.11196573529200449\n",
      "Male avg. / Female avg.  0.9427160696929021\n",
      "\n",
      "COLUMN =  PastActionsCount\n",
      "Male average  1.9060442848593657\n",
      "Female average  2.397793640493186\n",
      "Absolute difference  0.4917493556338204\n",
      "Male avg. / Female avg.  0.7949158979616462\n",
      "\n",
      "COLUMN =  GamesCount\n",
      "Male average  2.6098144823459006\n",
      "Female average  1.9935107073329008\n",
      "Absolute difference  0.6163037750129998\n",
      "Male avg. / Female avg.  1.3091549860986436\n",
      "\n",
      "COLUMN =  InternetCount\n",
      "Male average  2.004787552363854\n",
      "Female average  1.5976638546398443\n",
      "Absolute difference  0.4071236977240098\n",
      "Male avg. / Female avg.  1.2548243778199428\n",
      "\n",
      "COLUMN =  LocationCount\n",
      "Male average  1.6217833632555356\n",
      "Female average  1.8831927319922128\n",
      "Absolute difference  0.2614093687366772\n",
      "Male avg. / Female avg.  0.8611882021973744\n",
      "\n",
      "COLUMN =  FunCount\n",
      "Male average  0.542788749251945\n",
      "Female average  0.7151200519143414\n",
      "Absolute difference  0.17233130266239638\n",
      "Male avg. / Female avg.  0.7590176611590265\n",
      "\n",
      "COLUMN =  Food/ClothesCount\n",
      "Male average  1.165769000598444\n",
      "Female average  1.7397793640493187\n",
      "Absolute difference  0.5740103634508746\n",
      "Male avg. / Female avg.  0.6700671502880277\n",
      "\n",
      "COLUMN =  PoeticCount\n",
      "Male average  1.1903052064631956\n",
      "Female average  1.4503569110966905\n",
      "Absolute difference  0.2600517046334949\n",
      "Male avg. / Female avg.  0.8206981311676887\n",
      "\n",
      "COLUMN =  Books/MoviesCount\n",
      "Male average  1.8228605625374028\n",
      "Female average  1.7618429591174563\n",
      "Absolute difference  0.06101760341994655\n",
      "Male avg. / Female avg.  1.034632827576478\n",
      "\n",
      "COLUMN =  ReligionCount\n",
      "Male average  1.208258527827648\n",
      "Female average  1.1745619727449708\n",
      "Absolute difference  0.033696555082677326\n",
      "Male avg. / Female avg.  1.0286886140234286\n",
      "\n",
      "COLUMN =  RomanceCount\n",
      "Male average  0.8527827648114902\n",
      "Female average  1.2569759896171318\n",
      "Absolute difference  0.40419322480564157\n",
      "Male avg. / Female avg.  0.6784399796461055\n",
      "\n",
      "COLUMN =  SwearingCount\n",
      "Male average  0.4350688210652304\n",
      "Female average  0.3854639844256976\n",
      "Absolute difference  0.0496048366395328\n",
      "Male avg. / Female avg.  1.1286886418544109\n",
      "\n",
      "COLUMN =  PoliticsCount\n",
      "Male average  1.1549970077797727\n",
      "Female average  0.7131732641142116\n",
      "Absolute difference  0.4418237436655611\n",
      "Male avg. / Female avg.  1.6195180973508914\n",
      "\n",
      "COLUMN =  MusicCount\n",
      "Male average  0.8964691801316577\n",
      "Female average  0.8351719662556781\n",
      "Absolute difference  0.06129721387597953\n",
      "Male avg. / Female avg.  1.0733947215096227\n",
      "\n",
      "COLUMN =  SchoolCount\n",
      "Male average  0.49730700179533216\n",
      "Female average  0.5658663205710578\n",
      "Absolute difference  0.06855931877572563\n",
      "Male avg. / Female avg.  0.8788418460626225\n",
      "\n",
      "COLUMN =  BusinessCount\n",
      "Male average  0.6523040095751047\n",
      "Female average  0.3744321868916288\n",
      "Absolute difference  0.2778718226834759\n",
      "Male avg. / Female avg.  1.7421152144804788\n",
      "\n",
      "COLUMN =  PositiveCount\n",
      "Male average  1.4739676840215439\n",
      "Female average  1.6307592472420507\n",
      "Absolute difference  0.1567915632205068\n",
      "Male avg. / Female avg.  0.903853641495105\n",
      "\n",
      "COLUMN =  NegativeCount\n",
      "Male average  0.4554159186116098\n",
      "Female average  0.4406229720960415\n",
      "Absolute difference  0.014792946515568284\n",
      "Male avg. / Female avg.  1.0335727990876151\n",
      "\n",
      "COLUMN =  EmotionCount\n",
      "Male average  0.39257929383602636\n",
      "Female average  0.48215444516547695\n",
      "Absolute difference  0.0895751513294506\n",
      "Male avg. / Female avg.  0.8142189660852175\n",
      "\n",
      "COLUMN =  ProperNounCount\n",
      "Male average  40.53381208856972\n",
      "Female average  32.8105126541207\n",
      "Absolute difference  7.723299434449018\n",
      "Male avg. / Female avg.  1.2353910015325238\n",
      "\n",
      "COLUMN =  SentenceCount\n",
      "Male average  23.090963494913225\n",
      "Female average  24.506164828033743\n",
      "Absolute difference  1.4152013331205175\n",
      "Male avg. / Female avg.  0.9422512113563521\n",
      "\n",
      "COLUMN =  AvgSentLength\n",
      "Male average  132.57209678128837\n",
      "Female average  113.19032653097008\n",
      "Absolute difference  19.381770250318283\n",
      "Male avg. / Female avg.  1.17123168422891\n",
      "\n",
      "COLUMN =  UpperCaseChars\n",
      "Male average  73.96469180131658\n",
      "Female average  66.46982478909798\n",
      "Absolute difference  7.494867012218592\n",
      "Male avg. / Female avg.  1.1127559315222968\n",
      "\n",
      "COLUMN =  UpperCaseWords\n",
      "Male average  11.381807301017355\n",
      "Female average  14.085009733939001\n",
      "Absolute difference  2.703202432921646\n",
      "Male avg. / Female avg.  0.808079477118993\n",
      "\n",
      "COLUMN =  TitleCaseWords\n",
      "Male average  53.4524236983842\n",
      "Female average  48.850746268656714\n",
      "Absolute difference  4.601677429727488\n",
      "Male avg. / Female avg.  1.094198713043612\n",
      "\n"
     ]
    }
   ],
   "source": [
    "from math import fabs\n",
    "for column in cdf.columns.values:\n",
    "    if column != 'Gender':\n",
    "        mval = df[df.Gender == 'M'][column].values.mean()\n",
    "        fval = df[df.Gender == 'F'][column].values.mean()\n",
    "        print(\"COLUMN = \", column)\n",
    "        print(\"Male average \", mval)\n",
    "        print(\"Female average \", fval)\n",
    "        print(\"Absolute difference \", fabs(mval-fval))\n",
    "        print(\"Male avg. / Female avg. \", mval / fval)\n",
    "        print()"
   ]
  },
  {
   "cell_type": "code",
   "execution_count": 294,
   "metadata": {
    "scrolled": true
   },
   "outputs": [
    {
     "name": "stdout",
     "output_type": "stream",
     "text": [
      "COLUMN =  FMeasure\n",
      "Male Median  FMeasure 74.5\n",
      "Female Median  FMeasure 68.0\n",
      "Absolute difference  6.5\n",
      "Male median. / Female median.  1.0955882352941178\n",
      "\n",
      "COLUMN =  CharLength\n",
      "Male Median  CharLength 1086.0\n",
      "Female Median  CharLength 1025.0\n",
      "Absolute difference  61.0\n",
      "Male median. / Female median.  1.0595121951219513\n",
      "\n",
      "COLUMN =  TFPunctuation\n",
      "Male Median  TFPunctuation 33.0\n",
      "Female Median  TFPunctuation 34.0\n",
      "Absolute difference  1.0\n",
      "Male median. / Female median.  0.9705882352941176\n",
      "\n",
      "COLUMN =  TFStopWords\n",
      "Male Median  TFStopWords 79.0\n",
      "Female Median  TFStopWords 78.0\n",
      "Absolute difference  1.0\n",
      "Male median. / Female median.  1.0128205128205128\n",
      "\n",
      "COLUMN =  f1\n",
      "Male Median  f1 0.0\n",
      "Female Median  f1 0.0\n",
      "Absolute difference  0.0\n",
      "Male median. / Female median.  nan\n",
      "\n",
      "COLUMN =  f2\n",
      "Male Median  f2 1.0\n",
      "Female Median  f2 1.0\n",
      "Absolute difference  0.0\n",
      "Male median. / Female median.  1.0\n",
      "\n",
      "COLUMN =  f3\n",
      "Male Median  f3 0.0\n",
      "Female Median  f3 0.0\n",
      "Absolute difference  0.0\n",
      "Male median. / Female median.  nan\n",
      "\n",
      "COLUMN =  f4\n",
      "Male Median  f4 0.0\n",
      "Female Median  f4 0.0\n",
      "Absolute difference  0.0\n",
      "Male median. / Female median.  nan\n",
      "\n",
      "COLUMN =  f5\n",
      "Male Median  f5 0.0\n",
      "Female Median  f5 0.0\n",
      "Absolute difference  0.0\n",
      "Male median. / Female median.  nan\n",
      "\n",
      "COLUMN =  f6\n",
      "Male Median  f6 0.0\n",
      "Female Median  f6 0.0\n",
      "Absolute difference  0.0\n",
      "Male median. / Female median.  nan\n",
      "\n",
      "COLUMN =  f7\n",
      "Male Median  f7 0.0\n",
      "Female Median  f7 0.0\n",
      "Absolute difference  0.0\n",
      "Male median. / Female median.  nan\n",
      "\n",
      "COLUMN =  f8\n",
      "Male Median  f8 2.0\n",
      "Female Median  f8 3.0\n",
      "Absolute difference  1.0\n",
      "Male median. / Female median.  0.6666666666666666\n",
      "\n",
      "COLUMN =  f9\n",
      "Male Median  f9 0.0\n",
      "Female Median  f9 0.0\n",
      "Absolute difference  0.0\n",
      "Male median. / Female median.  nan\n",
      "\n",
      "COLUMN =  f10\n",
      "Male Median  f10 0.0\n",
      "Female Median  f10 0.0\n",
      "Absolute difference  0.0\n",
      "Male median. / Female median.  nan\n",
      "\n",
      "COLUMN =  f11\n",
      "Male Median  f11 0.0\n",
      "Female Median  f11 0.0\n",
      "Absolute difference  0.0\n",
      "Male median. / Female median.  nan\n",
      "\n",
      "COLUMN =  ConversationCount\n",
      "Male Median  ConversationCount 2.0\n",
      "Female Median  ConversationCount 2.0\n",
      "Absolute difference  0.0\n",
      "Male median. / Female median.  1.0\n",
      "\n",
      "COLUMN =  AtHomeCount\n",
      "Male Median  AtHomeCount 0.0\n",
      "Female Median  AtHomeCount 0.0\n",
      "Absolute difference  0.0\n",
      "Male median. / Female median.  nan\n",
      "\n",
      "COLUMN =  FamilyCount\n",
      "Male Median  FamilyCount 1.0\n",
      "Female Median  FamilyCount 1.0\n",
      "Absolute difference  0.0\n",
      "Male median. / Female median.  1.0\n",
      "\n",
      "COLUMN =  TimeCount\n",
      "Male Median  TimeCount 0.0\n",
      "Female Median  TimeCount 0.0\n",
      "Absolute difference  0.0\n",
      "Male median. / Female median.  nan\n",
      "\n",
      "COLUMN =  WorkCount\n",
      "Male Median  WorkCount 1.0\n",
      "Female Median  WorkCount 1.0\n",
      "Absolute difference  0.0\n",
      "Male median. / Female median.  1.0\n",
      "\n",
      "COLUMN =  PastActionsCount\n",
      "Male Median  PastActionsCount 1.0\n",
      "Female Median  PastActionsCount 1.0\n",
      "Absolute difference  0.0\n",
      "Male median. / Female median.  1.0\n",
      "\n",
      "COLUMN =  GamesCount\n",
      "Male Median  GamesCount 1.0\n",
      "Female Median  GamesCount 1.0\n",
      "Absolute difference  0.0\n",
      "Male median. / Female median.  1.0\n",
      "\n",
      "COLUMN =  InternetCount\n",
      "Male Median  InternetCount 0.0\n",
      "Female Median  InternetCount 0.0\n",
      "Absolute difference  0.0\n",
      "Male median. / Female median.  nan\n",
      "\n",
      "COLUMN =  LocationCount\n",
      "Male Median  LocationCount 0.0\n",
      "Female Median  LocationCount 1.0\n",
      "Absolute difference  1.0\n",
      "Male median. / Female median.  0.0\n",
      "\n",
      "COLUMN =  FunCount\n",
      "Male Median  FunCount 0.0\n",
      "Female Median  FunCount 0.0\n",
      "Absolute difference  0.0\n",
      "Male median. / Female median.  nan\n",
      "\n",
      "COLUMN =  Food/ClothesCount\n",
      "Male Median  Food/ClothesCount 0.0\n",
      "Female Median  Food/ClothesCount 0.0\n",
      "Absolute difference  0.0\n",
      "Male median. / Female median.  nan\n",
      "\n",
      "COLUMN =  PoeticCount\n",
      "Male Median  PoeticCount 0.0\n",
      "Female Median  PoeticCount 0.0\n",
      "Absolute difference  0.0\n",
      "Male median. / Female median.  nan\n",
      "\n",
      "COLUMN =  Books/MoviesCount\n",
      "Male Median  Books/MoviesCount 0.0\n",
      "Female Median  Books/MoviesCount 0.0\n",
      "Absolute difference  0.0\n",
      "Male median. / Female median.  nan\n",
      "\n",
      "COLUMN =  ReligionCount\n",
      "Male Median  ReligionCount 0.0\n",
      "Female Median  ReligionCount 0.0\n",
      "Absolute difference  0.0\n",
      "Male median. / Female median.  nan\n",
      "\n",
      "COLUMN =  RomanceCount\n",
      "Male Median  RomanceCount 0.0\n",
      "Female Median  RomanceCount 0.0\n",
      "Absolute difference  0.0\n",
      "Male median. / Female median.  nan\n",
      "\n",
      "COLUMN =  SwearingCount\n",
      "Male Median  SwearingCount 0.0\n",
      "Female Median  SwearingCount 0.0\n",
      "Absolute difference  0.0\n",
      "Male median. / Female median.  nan\n",
      "\n",
      "COLUMN =  PoliticsCount\n",
      "Male Median  PoliticsCount 0.0\n",
      "Female Median  PoliticsCount 0.0\n",
      "Absolute difference  0.0\n",
      "Male median. / Female median.  nan\n",
      "\n",
      "COLUMN =  MusicCount\n",
      "Male Median  MusicCount 0.0\n",
      "Female Median  MusicCount 0.0\n",
      "Absolute difference  0.0\n",
      "Male median. / Female median.  nan\n",
      "\n",
      "COLUMN =  SchoolCount\n",
      "Male Median  SchoolCount 0.0\n",
      "Female Median  SchoolCount 0.0\n",
      "Absolute difference  0.0\n",
      "Male median. / Female median.  nan\n",
      "\n",
      "COLUMN =  BusinessCount\n",
      "Male Median  BusinessCount 0.0\n",
      "Female Median  BusinessCount 0.0\n",
      "Absolute difference  0.0\n",
      "Male median. / Female median.  nan\n",
      "\n",
      "COLUMN =  PositiveCount\n",
      "Male Median  PositiveCount 1.0\n",
      "Female Median  PositiveCount 1.0\n",
      "Absolute difference  0.0\n",
      "Male median. / Female median.  1.0\n",
      "\n",
      "COLUMN =  NegativeCount\n",
      "Male Median  NegativeCount 0.0\n",
      "Female Median  NegativeCount 0.0\n",
      "Absolute difference  0.0\n",
      "Male median. / Female median.  nan\n",
      "\n",
      "COLUMN =  EmotionCount\n",
      "Male Median  EmotionCount 0.0\n",
      "Female Median  EmotionCount 0.0\n",
      "Absolute difference  0.0\n",
      "Male median. / Female median.  nan\n",
      "\n",
      "COLUMN =  ProperNounCount\n",
      "Male Median  ProperNounCount 14.0\n",
      "Female Median  ProperNounCount 10.0\n",
      "Absolute difference  4.0\n",
      "Male median. / Female median.  1.4\n",
      "\n",
      "COLUMN =  SentenceCount\n",
      "Male Median  SentenceCount 10.0\n",
      "Female Median  SentenceCount 11.0\n",
      "Absolute difference  1.0\n",
      "Male median. / Female median.  0.9090909090909091\n",
      "\n",
      "COLUMN =  AvgSentLength\n",
      "Male Median  AvgSentLength 106.5909090909091\n",
      "Female Median  AvgSentLength 91.61576354679804\n",
      "Absolute difference  14.975145544111058\n",
      "Male median. / Female median.  1.1634559923354417\n",
      "\n",
      "COLUMN =  UpperCaseChars\n",
      "Male Median  UpperCaseChars 28.0\n",
      "Female Median  UpperCaseChars 26.0\n",
      "Absolute difference  2.0\n",
      "Male median. / Female median.  1.0769230769230769\n",
      "\n",
      "COLUMN =  UpperCaseWords\n",
      "Male Median  UpperCaseWords 4.0\n",
      "Female Median  UpperCaseWords 6.0\n",
      "Absolute difference  2.0\n",
      "Male median. / Female median.  0.6666666666666666\n",
      "\n",
      "COLUMN =  TitleCaseWords\n",
      "Male Median  TitleCaseWords 21.0\n",
      "Female Median  TitleCaseWords 19.0\n",
      "Absolute difference  2.0\n",
      "Male median. / Female median.  1.105263157894737\n",
      "\n"
     ]
    },
    {
     "name": "stderr",
     "output_type": "stream",
     "text": [
      "/home/binoy/.local/lib/python3.6/site-packages/ipykernel_launcher.py:9: RuntimeWarning: invalid value encountered in double_scalars\n",
      "  if __name__ == '__main__':\n"
     ]
    }
   ],
   "source": [
    "for column in cdf.columns.values:\n",
    "    if column != 'Gender':\n",
    "        mval = np.median(df[df.Gender == 'M'][column].values)\n",
    "        fval = np.median(df[df.Gender == 'F'][column].values)\n",
    "        print(\"COLUMN = \", column)\n",
    "        print(\"Male Median \", column, mval)\n",
    "        print(\"Female Median \", column, fval)\n",
    "        print(\"Absolute difference \", fabs(mval-fval))\n",
    "        print(\"Male median. / Female median. \", mval / fval)\n",
    "        print()"
   ]
  },
  {
   "cell_type": "code",
   "execution_count": 271,
   "metadata": {},
   "outputs": [],
   "source": [
    "from matplotlib import pyplot as plt\n",
    "import seaborn as sns"
   ]
  },
  {
   "cell_type": "code",
   "execution_count": 295,
   "metadata": {},
   "outputs": [
    {
     "data": {
      "text/plain": [
       "(45,)"
      ]
     },
     "execution_count": 295,
     "metadata": {},
     "output_type": "execute_result"
    }
   ],
   "source": [
    "cdf.columns.values.shape"
   ]
  },
  {
   "cell_type": "code",
   "execution_count": 289,
   "metadata": {},
   "outputs": [
    {
     "ename": "KeyboardInterrupt",
     "evalue": "",
     "output_type": "error",
     "traceback": [
      "\u001b[0;31m---------------------------------------------------------------------------\u001b[0m",
      "\u001b[0;31mKeyboardInterrupt\u001b[0m                         Traceback (most recent call last)",
      "\u001b[0;32m<ipython-input-289-2ef84d5af09f>\u001b[0m in \u001b[0;36m<module>\u001b[0;34m\u001b[0m\n\u001b[0;32m----> 1\u001b[0;31m \u001b[0msnsplot\u001b[0m \u001b[0;34m=\u001b[0m \u001b[0msns\u001b[0m\u001b[0;34m.\u001b[0m\u001b[0mpairplot\u001b[0m\u001b[0;34m(\u001b[0m\u001b[0mcdf\u001b[0m\u001b[0;34m,\u001b[0m \u001b[0mhue\u001b[0m\u001b[0;34m=\u001b[0m\u001b[0;34m'Gender'\u001b[0m\u001b[0;34m)\u001b[0m\u001b[0;34m\u001b[0m\u001b[0;34m\u001b[0m\u001b[0m\n\u001b[0m\u001b[1;32m      2\u001b[0m \u001b[0mfig\u001b[0m \u001b[0;34m=\u001b[0m \u001b[0msnsplot\u001b[0m\u001b[0;34m.\u001b[0m\u001b[0mget_figure\u001b[0m\u001b[0;34m(\u001b[0m\u001b[0;34m)\u001b[0m\u001b[0;34m\u001b[0m\u001b[0;34m\u001b[0m\u001b[0m\n\u001b[1;32m      3\u001b[0m \u001b[0mfig\u001b[0m\u001b[0;34m.\u001b[0m\u001b[0msaveFig\u001b[0m\u001b[0;34m(\u001b[0m\u001b[0;34m'../data/PairPlots.png'\u001b[0m\u001b[0;34m)\u001b[0m\u001b[0;34m\u001b[0m\u001b[0;34m\u001b[0m\u001b[0m\n",
      "\u001b[0;32m~/.local/lib/python3.6/site-packages/seaborn/axisgrid.py\u001b[0m in \u001b[0;36mpairplot\u001b[0;34m(data, hue, hue_order, palette, vars, x_vars, y_vars, kind, diag_kind, markers, height, aspect, dropna, plot_kws, diag_kws, grid_kws, size)\u001b[0m\n\u001b[1;32m   2119\u001b[0m     \u001b[0;32mif\u001b[0m \u001b[0mkind\u001b[0m \u001b[0;34m==\u001b[0m \u001b[0;34m\"scatter\"\u001b[0m\u001b[0;34m:\u001b[0m\u001b[0;34m\u001b[0m\u001b[0;34m\u001b[0m\u001b[0m\n\u001b[1;32m   2120\u001b[0m         \u001b[0;32mfrom\u001b[0m \u001b[0;34m.\u001b[0m\u001b[0mrelational\u001b[0m \u001b[0;32mimport\u001b[0m \u001b[0mscatterplot\u001b[0m  \u001b[0;31m# Avoid circular import\u001b[0m\u001b[0;34m\u001b[0m\u001b[0;34m\u001b[0m\u001b[0m\n\u001b[0;32m-> 2121\u001b[0;31m         \u001b[0mplotter\u001b[0m\u001b[0;34m(\u001b[0m\u001b[0mscatterplot\u001b[0m\u001b[0;34m,\u001b[0m \u001b[0;34m**\u001b[0m\u001b[0mplot_kws\u001b[0m\u001b[0;34m)\u001b[0m\u001b[0;34m\u001b[0m\u001b[0;34m\u001b[0m\u001b[0m\n\u001b[0m\u001b[1;32m   2122\u001b[0m     \u001b[0;32melif\u001b[0m \u001b[0mkind\u001b[0m \u001b[0;34m==\u001b[0m \u001b[0;34m\"reg\"\u001b[0m\u001b[0;34m:\u001b[0m\u001b[0;34m\u001b[0m\u001b[0;34m\u001b[0m\u001b[0m\n\u001b[1;32m   2123\u001b[0m         \u001b[0;32mfrom\u001b[0m \u001b[0;34m.\u001b[0m\u001b[0mregression\u001b[0m \u001b[0;32mimport\u001b[0m \u001b[0mregplot\u001b[0m  \u001b[0;31m# Avoid circular import\u001b[0m\u001b[0;34m\u001b[0m\u001b[0;34m\u001b[0m\u001b[0m\n",
      "\u001b[0;32m~/.local/lib/python3.6/site-packages/seaborn/axisgrid.py\u001b[0m in \u001b[0;36mmap_offdiag\u001b[0;34m(self, func, **kwargs)\u001b[0m\n\u001b[1;32m   1511\u001b[0m \u001b[0;34m\u001b[0m\u001b[0m\n\u001b[1;32m   1512\u001b[0m         \u001b[0mself\u001b[0m\u001b[0;34m.\u001b[0m\u001b[0mmap_lower\u001b[0m\u001b[0;34m(\u001b[0m\u001b[0mfunc\u001b[0m\u001b[0;34m,\u001b[0m \u001b[0;34m**\u001b[0m\u001b[0mkwargs\u001b[0m\u001b[0;34m)\u001b[0m\u001b[0;34m\u001b[0m\u001b[0;34m\u001b[0m\u001b[0m\n\u001b[0;32m-> 1513\u001b[0;31m         \u001b[0mself\u001b[0m\u001b[0;34m.\u001b[0m\u001b[0mmap_upper\u001b[0m\u001b[0;34m(\u001b[0m\u001b[0mfunc\u001b[0m\u001b[0;34m,\u001b[0m \u001b[0;34m**\u001b[0m\u001b[0mkwargs\u001b[0m\u001b[0;34m)\u001b[0m\u001b[0;34m\u001b[0m\u001b[0;34m\u001b[0m\u001b[0m\n\u001b[0m\u001b[1;32m   1514\u001b[0m         \u001b[0;32mreturn\u001b[0m \u001b[0mself\u001b[0m\u001b[0;34m\u001b[0m\u001b[0;34m\u001b[0m\u001b[0m\n\u001b[1;32m   1515\u001b[0m \u001b[0;34m\u001b[0m\u001b[0m\n",
      "\u001b[0;32m~/.local/lib/python3.6/site-packages/seaborn/axisgrid.py\u001b[0m in \u001b[0;36mmap_upper\u001b[0;34m(self, func, **kwargs)\u001b[0m\n\u001b[1;32m   1477\u001b[0m \u001b[0;34m\u001b[0m\u001b[0m\n\u001b[1;32m   1478\u001b[0m                 \u001b[0max\u001b[0m \u001b[0;34m=\u001b[0m \u001b[0mself\u001b[0m\u001b[0;34m.\u001b[0m\u001b[0maxes\u001b[0m\u001b[0;34m[\u001b[0m\u001b[0mi\u001b[0m\u001b[0;34m,\u001b[0m \u001b[0mj\u001b[0m\u001b[0;34m]\u001b[0m\u001b[0;34m\u001b[0m\u001b[0;34m\u001b[0m\u001b[0m\n\u001b[0;32m-> 1479\u001b[0;31m                 \u001b[0mplt\u001b[0m\u001b[0;34m.\u001b[0m\u001b[0msca\u001b[0m\u001b[0;34m(\u001b[0m\u001b[0max\u001b[0m\u001b[0;34m)\u001b[0m\u001b[0;34m\u001b[0m\u001b[0;34m\u001b[0m\u001b[0m\n\u001b[0m\u001b[1;32m   1480\u001b[0m \u001b[0;34m\u001b[0m\u001b[0m\n\u001b[1;32m   1481\u001b[0m                 \u001b[0mx_var\u001b[0m \u001b[0;34m=\u001b[0m \u001b[0mself\u001b[0m\u001b[0;34m.\u001b[0m\u001b[0mx_vars\u001b[0m\u001b[0;34m[\u001b[0m\u001b[0mj\u001b[0m\u001b[0;34m]\u001b[0m\u001b[0;34m\u001b[0m\u001b[0;34m\u001b[0m\u001b[0m\n",
      "\u001b[0;32m~/.local/lib/python3.6/site-packages/matplotlib/pyplot.py\u001b[0m in \u001b[0;36msca\u001b[0;34m(ax)\u001b[0m\n\u001b[1;32m    910\u001b[0m         \u001b[0;32mif\u001b[0m \u001b[0max\u001b[0m \u001b[0;32min\u001b[0m \u001b[0mm\u001b[0m\u001b[0;34m.\u001b[0m\u001b[0mcanvas\u001b[0m\u001b[0;34m.\u001b[0m\u001b[0mfigure\u001b[0m\u001b[0;34m.\u001b[0m\u001b[0maxes\u001b[0m\u001b[0;34m:\u001b[0m\u001b[0;34m\u001b[0m\u001b[0;34m\u001b[0m\u001b[0m\n\u001b[1;32m    911\u001b[0m             \u001b[0m_pylab_helpers\u001b[0m\u001b[0;34m.\u001b[0m\u001b[0mGcf\u001b[0m\u001b[0;34m.\u001b[0m\u001b[0mset_active\u001b[0m\u001b[0;34m(\u001b[0m\u001b[0mm\u001b[0m\u001b[0;34m)\u001b[0m\u001b[0;34m\u001b[0m\u001b[0;34m\u001b[0m\u001b[0m\n\u001b[0;32m--> 912\u001b[0;31m             \u001b[0mm\u001b[0m\u001b[0;34m.\u001b[0m\u001b[0mcanvas\u001b[0m\u001b[0;34m.\u001b[0m\u001b[0mfigure\u001b[0m\u001b[0;34m.\u001b[0m\u001b[0msca\u001b[0m\u001b[0;34m(\u001b[0m\u001b[0max\u001b[0m\u001b[0;34m)\u001b[0m\u001b[0;34m\u001b[0m\u001b[0;34m\u001b[0m\u001b[0m\n\u001b[0m\u001b[1;32m    913\u001b[0m             \u001b[0;32mreturn\u001b[0m\u001b[0;34m\u001b[0m\u001b[0;34m\u001b[0m\u001b[0m\n\u001b[1;32m    914\u001b[0m     \u001b[0;32mraise\u001b[0m \u001b[0mValueError\u001b[0m\u001b[0;34m(\u001b[0m\u001b[0;34m\"Axes instance argument was not found in a figure\"\u001b[0m\u001b[0;34m)\u001b[0m\u001b[0;34m\u001b[0m\u001b[0;34m\u001b[0m\u001b[0m\n",
      "\u001b[0;32m~/.local/lib/python3.6/site-packages/matplotlib/figure.py\u001b[0m in \u001b[0;36msca\u001b[0;34m(self, a)\u001b[0m\n\u001b[1;32m   1865\u001b[0m     \u001b[0;32mdef\u001b[0m \u001b[0msca\u001b[0m\u001b[0;34m(\u001b[0m\u001b[0mself\u001b[0m\u001b[0;34m,\u001b[0m \u001b[0ma\u001b[0m\u001b[0;34m)\u001b[0m\u001b[0;34m:\u001b[0m\u001b[0;34m\u001b[0m\u001b[0;34m\u001b[0m\u001b[0m\n\u001b[1;32m   1866\u001b[0m         \u001b[0;34m\"\"\"Set the current axes to be a and return a.\"\"\"\u001b[0m\u001b[0;34m\u001b[0m\u001b[0;34m\u001b[0m\u001b[0m\n\u001b[0;32m-> 1867\u001b[0;31m         \u001b[0mself\u001b[0m\u001b[0;34m.\u001b[0m\u001b[0m_axstack\u001b[0m\u001b[0;34m.\u001b[0m\u001b[0mbubble\u001b[0m\u001b[0;34m(\u001b[0m\u001b[0ma\u001b[0m\u001b[0;34m)\u001b[0m\u001b[0;34m\u001b[0m\u001b[0;34m\u001b[0m\u001b[0m\n\u001b[0m\u001b[1;32m   1868\u001b[0m         \u001b[0;32mfor\u001b[0m \u001b[0mfunc\u001b[0m \u001b[0;32min\u001b[0m \u001b[0mself\u001b[0m\u001b[0;34m.\u001b[0m\u001b[0m_axobservers\u001b[0m\u001b[0;34m:\u001b[0m\u001b[0;34m\u001b[0m\u001b[0;34m\u001b[0m\u001b[0m\n\u001b[1;32m   1869\u001b[0m             \u001b[0mfunc\u001b[0m\u001b[0;34m(\u001b[0m\u001b[0mself\u001b[0m\u001b[0;34m)\u001b[0m\u001b[0;34m\u001b[0m\u001b[0;34m\u001b[0m\u001b[0m\n",
      "\u001b[0;32m~/.local/lib/python3.6/site-packages/matplotlib/figure.py\u001b[0m in \u001b[0;36mbubble\u001b[0;34m(self, a)\u001b[0m\n\u001b[1;32m    116\u001b[0m         \u001b[0mstack\u001b[0m\u001b[0;34m,\u001b[0m \u001b[0mto\u001b[0m \u001b[0mthe\u001b[0m \u001b[0mtop\u001b[0m\u001b[0;34m.\u001b[0m\u001b[0;34m\u001b[0m\u001b[0;34m\u001b[0m\u001b[0m\n\u001b[1;32m    117\u001b[0m         \"\"\"\n\u001b[0;32m--> 118\u001b[0;31m         \u001b[0;32mreturn\u001b[0m \u001b[0mStack\u001b[0m\u001b[0;34m.\u001b[0m\u001b[0mbubble\u001b[0m\u001b[0;34m(\u001b[0m\u001b[0mself\u001b[0m\u001b[0;34m,\u001b[0m \u001b[0mself\u001b[0m\u001b[0;34m.\u001b[0m\u001b[0m_entry_from_axes\u001b[0m\u001b[0;34m(\u001b[0m\u001b[0ma\u001b[0m\u001b[0;34m)\u001b[0m\u001b[0;34m)\u001b[0m\u001b[0;34m\u001b[0m\u001b[0;34m\u001b[0m\u001b[0m\n\u001b[0m\u001b[1;32m    119\u001b[0m \u001b[0;34m\u001b[0m\u001b[0m\n\u001b[1;32m    120\u001b[0m     \u001b[0;32mdef\u001b[0m \u001b[0madd\u001b[0m\u001b[0;34m(\u001b[0m\u001b[0mself\u001b[0m\u001b[0;34m,\u001b[0m \u001b[0mkey\u001b[0m\u001b[0;34m,\u001b[0m \u001b[0ma\u001b[0m\u001b[0;34m)\u001b[0m\u001b[0;34m:\u001b[0m\u001b[0;34m\u001b[0m\u001b[0;34m\u001b[0m\u001b[0m\n",
      "\u001b[0;32m~/.local/lib/python3.6/site-packages/matplotlib/cbook/__init__.py\u001b[0m in \u001b[0;36mbubble\u001b[0;34m(self, o)\u001b[0m\n\u001b[1;32m    707\u001b[0m                 \u001b[0mbubbles\u001b[0m\u001b[0;34m.\u001b[0m\u001b[0mappend\u001b[0m\u001b[0;34m(\u001b[0m\u001b[0mthiso\u001b[0m\u001b[0;34m)\u001b[0m\u001b[0;34m\u001b[0m\u001b[0;34m\u001b[0m\u001b[0m\n\u001b[1;32m    708\u001b[0m             \u001b[0;32melse\u001b[0m\u001b[0;34m:\u001b[0m\u001b[0;34m\u001b[0m\u001b[0;34m\u001b[0m\u001b[0m\n\u001b[0;32m--> 709\u001b[0;31m                 \u001b[0mself\u001b[0m\u001b[0;34m.\u001b[0m\u001b[0mpush\u001b[0m\u001b[0;34m(\u001b[0m\u001b[0mthiso\u001b[0m\u001b[0;34m)\u001b[0m\u001b[0;34m\u001b[0m\u001b[0;34m\u001b[0m\u001b[0m\n\u001b[0m\u001b[1;32m    710\u001b[0m         \u001b[0;32mfor\u001b[0m \u001b[0mthiso\u001b[0m \u001b[0;32min\u001b[0m \u001b[0mbubbles\u001b[0m\u001b[0;34m:\u001b[0m\u001b[0;34m\u001b[0m\u001b[0;34m\u001b[0m\u001b[0m\n\u001b[1;32m    711\u001b[0m             \u001b[0mself\u001b[0m\u001b[0;34m.\u001b[0m\u001b[0mpush\u001b[0m\u001b[0;34m(\u001b[0m\u001b[0mo\u001b[0m\u001b[0;34m)\u001b[0m\u001b[0;34m\u001b[0m\u001b[0;34m\u001b[0m\u001b[0m\n",
      "\u001b[0;32m~/.local/lib/python3.6/site-packages/matplotlib/cbook/__init__.py\u001b[0m in \u001b[0;36mpush\u001b[0;34m(self, o)\u001b[0m\n\u001b[1;32m    670\u001b[0m         \u001b[0mself\u001b[0m\u001b[0;34m.\u001b[0m\u001b[0m_elements\u001b[0m \u001b[0;34m=\u001b[0m \u001b[0mself\u001b[0m\u001b[0;34m.\u001b[0m\u001b[0m_elements\u001b[0m\u001b[0;34m[\u001b[0m\u001b[0;34m:\u001b[0m\u001b[0mself\u001b[0m\u001b[0;34m.\u001b[0m\u001b[0m_pos\u001b[0m \u001b[0;34m+\u001b[0m \u001b[0;36m1\u001b[0m\u001b[0;34m]\u001b[0m \u001b[0;34m+\u001b[0m \u001b[0;34m[\u001b[0m\u001b[0mo\u001b[0m\u001b[0;34m]\u001b[0m\u001b[0;34m\u001b[0m\u001b[0;34m\u001b[0m\u001b[0m\n\u001b[1;32m    671\u001b[0m         \u001b[0mself\u001b[0m\u001b[0;34m.\u001b[0m\u001b[0m_pos\u001b[0m \u001b[0;34m=\u001b[0m \u001b[0mlen\u001b[0m\u001b[0;34m(\u001b[0m\u001b[0mself\u001b[0m\u001b[0;34m.\u001b[0m\u001b[0m_elements\u001b[0m\u001b[0;34m)\u001b[0m \u001b[0;34m-\u001b[0m \u001b[0;36m1\u001b[0m\u001b[0;34m\u001b[0m\u001b[0;34m\u001b[0m\u001b[0m\n\u001b[0;32m--> 672\u001b[0;31m         \u001b[0;32mreturn\u001b[0m \u001b[0mself\u001b[0m\u001b[0;34m(\u001b[0m\u001b[0;34m)\u001b[0m\u001b[0;34m\u001b[0m\u001b[0;34m\u001b[0m\u001b[0m\n\u001b[0m\u001b[1;32m    673\u001b[0m \u001b[0;34m\u001b[0m\u001b[0m\n\u001b[1;32m    674\u001b[0m     \u001b[0;32mdef\u001b[0m \u001b[0mhome\u001b[0m\u001b[0;34m(\u001b[0m\u001b[0mself\u001b[0m\u001b[0;34m)\u001b[0m\u001b[0;34m:\u001b[0m\u001b[0;34m\u001b[0m\u001b[0;34m\u001b[0m\u001b[0m\n",
      "\u001b[0;31mKeyboardInterrupt\u001b[0m: "
     ]
    },
    {
     "name": "stdout",
     "output_type": "stream",
     "text": [
      "Error in callback <function install_repl_displayhook.<locals>.post_execute at 0x7f70437dc510> (for post_execute):\n"
     ]
    },
    {
     "ename": "KeyboardInterrupt",
     "evalue": "",
     "output_type": "error",
     "traceback": [
      "\u001b[0;31m---------------------------------------------------------------------------\u001b[0m",
      "\u001b[0;31mKeyboardInterrupt\u001b[0m                         Traceback (most recent call last)",
      "\u001b[0;32m~/.local/lib/python3.6/site-packages/matplotlib/pyplot.py\u001b[0m in \u001b[0;36mpost_execute\u001b[0;34m()\u001b[0m\n\u001b[1;32m    107\u001b[0m             \u001b[0;32mdef\u001b[0m \u001b[0mpost_execute\u001b[0m\u001b[0;34m(\u001b[0m\u001b[0;34m)\u001b[0m\u001b[0;34m:\u001b[0m\u001b[0;34m\u001b[0m\u001b[0;34m\u001b[0m\u001b[0m\n\u001b[1;32m    108\u001b[0m                 \u001b[0;32mif\u001b[0m \u001b[0mmatplotlib\u001b[0m\u001b[0;34m.\u001b[0m\u001b[0mis_interactive\u001b[0m\u001b[0;34m(\u001b[0m\u001b[0;34m)\u001b[0m\u001b[0;34m:\u001b[0m\u001b[0;34m\u001b[0m\u001b[0;34m\u001b[0m\u001b[0m\n\u001b[0;32m--> 109\u001b[0;31m                     \u001b[0mdraw_all\u001b[0m\u001b[0;34m(\u001b[0m\u001b[0;34m)\u001b[0m\u001b[0;34m\u001b[0m\u001b[0;34m\u001b[0m\u001b[0m\n\u001b[0m\u001b[1;32m    110\u001b[0m \u001b[0;34m\u001b[0m\u001b[0m\n\u001b[1;32m    111\u001b[0m             \u001b[0;31m# IPython >= 2\u001b[0m\u001b[0;34m\u001b[0m\u001b[0;34m\u001b[0m\u001b[0;34m\u001b[0m\u001b[0m\n",
      "\u001b[0;32m~/.local/lib/python3.6/site-packages/matplotlib/_pylab_helpers.py\u001b[0m in \u001b[0;36mdraw_all\u001b[0;34m(cls, force)\u001b[0m\n\u001b[1;32m    130\u001b[0m         \u001b[0;32mfor\u001b[0m \u001b[0mf_mgr\u001b[0m \u001b[0;32min\u001b[0m \u001b[0mcls\u001b[0m\u001b[0;34m.\u001b[0m\u001b[0mget_all_fig_managers\u001b[0m\u001b[0;34m(\u001b[0m\u001b[0;34m)\u001b[0m\u001b[0;34m:\u001b[0m\u001b[0;34m\u001b[0m\u001b[0;34m\u001b[0m\u001b[0m\n\u001b[1;32m    131\u001b[0m             \u001b[0;32mif\u001b[0m \u001b[0mforce\u001b[0m \u001b[0;32mor\u001b[0m \u001b[0mf_mgr\u001b[0m\u001b[0;34m.\u001b[0m\u001b[0mcanvas\u001b[0m\u001b[0;34m.\u001b[0m\u001b[0mfigure\u001b[0m\u001b[0;34m.\u001b[0m\u001b[0mstale\u001b[0m\u001b[0;34m:\u001b[0m\u001b[0;34m\u001b[0m\u001b[0;34m\u001b[0m\u001b[0m\n\u001b[0;32m--> 132\u001b[0;31m                 \u001b[0mf_mgr\u001b[0m\u001b[0;34m.\u001b[0m\u001b[0mcanvas\u001b[0m\u001b[0;34m.\u001b[0m\u001b[0mdraw_idle\u001b[0m\u001b[0;34m(\u001b[0m\u001b[0;34m)\u001b[0m\u001b[0;34m\u001b[0m\u001b[0;34m\u001b[0m\u001b[0m\n\u001b[0m\u001b[1;32m    133\u001b[0m \u001b[0;34m\u001b[0m\u001b[0m\n\u001b[1;32m    134\u001b[0m \u001b[0matexit\u001b[0m\u001b[0;34m.\u001b[0m\u001b[0mregister\u001b[0m\u001b[0;34m(\u001b[0m\u001b[0mGcf\u001b[0m\u001b[0;34m.\u001b[0m\u001b[0mdestroy_all\u001b[0m\u001b[0;34m)\u001b[0m\u001b[0;34m\u001b[0m\u001b[0;34m\u001b[0m\u001b[0m\n",
      "\u001b[0;32m~/.local/lib/python3.6/site-packages/matplotlib/backend_bases.py\u001b[0m in \u001b[0;36mdraw_idle\u001b[0;34m(self, *args, **kwargs)\u001b[0m\n\u001b[1;32m   1897\u001b[0m         \u001b[0;32mif\u001b[0m \u001b[0;32mnot\u001b[0m \u001b[0mself\u001b[0m\u001b[0;34m.\u001b[0m\u001b[0m_is_idle_drawing\u001b[0m\u001b[0;34m:\u001b[0m\u001b[0;34m\u001b[0m\u001b[0;34m\u001b[0m\u001b[0m\n\u001b[1;32m   1898\u001b[0m             \u001b[0;32mwith\u001b[0m \u001b[0mself\u001b[0m\u001b[0;34m.\u001b[0m\u001b[0m_idle_draw_cntx\u001b[0m\u001b[0;34m(\u001b[0m\u001b[0;34m)\u001b[0m\u001b[0;34m:\u001b[0m\u001b[0;34m\u001b[0m\u001b[0;34m\u001b[0m\u001b[0m\n\u001b[0;32m-> 1899\u001b[0;31m                 \u001b[0mself\u001b[0m\u001b[0;34m.\u001b[0m\u001b[0mdraw\u001b[0m\u001b[0;34m(\u001b[0m\u001b[0;34m*\u001b[0m\u001b[0margs\u001b[0m\u001b[0;34m,\u001b[0m \u001b[0;34m**\u001b[0m\u001b[0mkwargs\u001b[0m\u001b[0;34m)\u001b[0m\u001b[0;34m\u001b[0m\u001b[0;34m\u001b[0m\u001b[0m\n\u001b[0m\u001b[1;32m   1900\u001b[0m \u001b[0;34m\u001b[0m\u001b[0m\n\u001b[1;32m   1901\u001b[0m     \u001b[0;32mdef\u001b[0m \u001b[0mdraw_cursor\u001b[0m\u001b[0;34m(\u001b[0m\u001b[0mself\u001b[0m\u001b[0;34m,\u001b[0m \u001b[0mevent\u001b[0m\u001b[0;34m)\u001b[0m\u001b[0;34m:\u001b[0m\u001b[0;34m\u001b[0m\u001b[0;34m\u001b[0m\u001b[0m\n",
      "\u001b[0;32m~/.local/lib/python3.6/site-packages/matplotlib/backends/backend_agg.py\u001b[0m in \u001b[0;36mdraw\u001b[0;34m(self)\u001b[0m\n\u001b[1;32m    400\u001b[0m         \u001b[0mtoolbar\u001b[0m \u001b[0;34m=\u001b[0m \u001b[0mself\u001b[0m\u001b[0;34m.\u001b[0m\u001b[0mtoolbar\u001b[0m\u001b[0;34m\u001b[0m\u001b[0;34m\u001b[0m\u001b[0m\n\u001b[1;32m    401\u001b[0m         \u001b[0;32mtry\u001b[0m\u001b[0;34m:\u001b[0m\u001b[0;34m\u001b[0m\u001b[0;34m\u001b[0m\u001b[0m\n\u001b[0;32m--> 402\u001b[0;31m             \u001b[0mself\u001b[0m\u001b[0;34m.\u001b[0m\u001b[0mfigure\u001b[0m\u001b[0;34m.\u001b[0m\u001b[0mdraw\u001b[0m\u001b[0;34m(\u001b[0m\u001b[0mself\u001b[0m\u001b[0;34m.\u001b[0m\u001b[0mrenderer\u001b[0m\u001b[0;34m)\u001b[0m\u001b[0;34m\u001b[0m\u001b[0;34m\u001b[0m\u001b[0m\n\u001b[0m\u001b[1;32m    403\u001b[0m             \u001b[0;31m# A GUI class may be need to update a window using this draw, so\u001b[0m\u001b[0;34m\u001b[0m\u001b[0;34m\u001b[0m\u001b[0;34m\u001b[0m\u001b[0m\n\u001b[1;32m    404\u001b[0m             \u001b[0;31m# don't forget to call the superclass.\u001b[0m\u001b[0;34m\u001b[0m\u001b[0;34m\u001b[0m\u001b[0;34m\u001b[0m\u001b[0m\n",
      "\u001b[0;32m~/.local/lib/python3.6/site-packages/matplotlib/artist.py\u001b[0m in \u001b[0;36mdraw_wrapper\u001b[0;34m(artist, renderer, *args, **kwargs)\u001b[0m\n\u001b[1;32m     48\u001b[0m                 \u001b[0mrenderer\u001b[0m\u001b[0;34m.\u001b[0m\u001b[0mstart_filter\u001b[0m\u001b[0;34m(\u001b[0m\u001b[0;34m)\u001b[0m\u001b[0;34m\u001b[0m\u001b[0;34m\u001b[0m\u001b[0m\n\u001b[1;32m     49\u001b[0m \u001b[0;34m\u001b[0m\u001b[0m\n\u001b[0;32m---> 50\u001b[0;31m             \u001b[0;32mreturn\u001b[0m \u001b[0mdraw\u001b[0m\u001b[0;34m(\u001b[0m\u001b[0martist\u001b[0m\u001b[0;34m,\u001b[0m \u001b[0mrenderer\u001b[0m\u001b[0;34m,\u001b[0m \u001b[0;34m*\u001b[0m\u001b[0margs\u001b[0m\u001b[0;34m,\u001b[0m \u001b[0;34m**\u001b[0m\u001b[0mkwargs\u001b[0m\u001b[0;34m)\u001b[0m\u001b[0;34m\u001b[0m\u001b[0;34m\u001b[0m\u001b[0m\n\u001b[0m\u001b[1;32m     51\u001b[0m         \u001b[0;32mfinally\u001b[0m\u001b[0;34m:\u001b[0m\u001b[0;34m\u001b[0m\u001b[0;34m\u001b[0m\u001b[0m\n\u001b[1;32m     52\u001b[0m             \u001b[0;32mif\u001b[0m \u001b[0martist\u001b[0m\u001b[0;34m.\u001b[0m\u001b[0mget_agg_filter\u001b[0m\u001b[0;34m(\u001b[0m\u001b[0;34m)\u001b[0m \u001b[0;32mis\u001b[0m \u001b[0;32mnot\u001b[0m \u001b[0;32mNone\u001b[0m\u001b[0;34m:\u001b[0m\u001b[0;34m\u001b[0m\u001b[0;34m\u001b[0m\u001b[0m\n",
      "\u001b[0;32m~/.local/lib/python3.6/site-packages/matplotlib/figure.py\u001b[0m in \u001b[0;36mdraw\u001b[0;34m(self, renderer)\u001b[0m\n\u001b[1;32m   1647\u001b[0m \u001b[0;34m\u001b[0m\u001b[0m\n\u001b[1;32m   1648\u001b[0m             mimage._draw_list_compositing_images(\n\u001b[0;32m-> 1649\u001b[0;31m                 renderer, self, artists, self.suppressComposite)\n\u001b[0m\u001b[1;32m   1650\u001b[0m \u001b[0;34m\u001b[0m\u001b[0m\n\u001b[1;32m   1651\u001b[0m             \u001b[0mrenderer\u001b[0m\u001b[0;34m.\u001b[0m\u001b[0mclose_group\u001b[0m\u001b[0;34m(\u001b[0m\u001b[0;34m'figure'\u001b[0m\u001b[0;34m)\u001b[0m\u001b[0;34m\u001b[0m\u001b[0;34m\u001b[0m\u001b[0m\n",
      "\u001b[0;32m~/.local/lib/python3.6/site-packages/matplotlib/image.py\u001b[0m in \u001b[0;36m_draw_list_compositing_images\u001b[0;34m(renderer, parent, artists, suppress_composite)\u001b[0m\n\u001b[1;32m    136\u001b[0m     \u001b[0;32mif\u001b[0m \u001b[0mnot_composite\u001b[0m \u001b[0;32mor\u001b[0m \u001b[0;32mnot\u001b[0m \u001b[0mhas_images\u001b[0m\u001b[0;34m:\u001b[0m\u001b[0;34m\u001b[0m\u001b[0;34m\u001b[0m\u001b[0m\n\u001b[1;32m    137\u001b[0m         \u001b[0;32mfor\u001b[0m \u001b[0ma\u001b[0m \u001b[0;32min\u001b[0m \u001b[0martists\u001b[0m\u001b[0;34m:\u001b[0m\u001b[0;34m\u001b[0m\u001b[0;34m\u001b[0m\u001b[0m\n\u001b[0;32m--> 138\u001b[0;31m             \u001b[0ma\u001b[0m\u001b[0;34m.\u001b[0m\u001b[0mdraw\u001b[0m\u001b[0;34m(\u001b[0m\u001b[0mrenderer\u001b[0m\u001b[0;34m)\u001b[0m\u001b[0;34m\u001b[0m\u001b[0;34m\u001b[0m\u001b[0m\n\u001b[0m\u001b[1;32m    139\u001b[0m     \u001b[0;32melse\u001b[0m\u001b[0;34m:\u001b[0m\u001b[0;34m\u001b[0m\u001b[0;34m\u001b[0m\u001b[0m\n\u001b[1;32m    140\u001b[0m         \u001b[0;31m# Composite any adjacent images together\u001b[0m\u001b[0;34m\u001b[0m\u001b[0;34m\u001b[0m\u001b[0;34m\u001b[0m\u001b[0m\n",
      "\u001b[0;32m~/.local/lib/python3.6/site-packages/matplotlib/artist.py\u001b[0m in \u001b[0;36mdraw_wrapper\u001b[0;34m(artist, renderer, *args, **kwargs)\u001b[0m\n\u001b[1;32m     48\u001b[0m                 \u001b[0mrenderer\u001b[0m\u001b[0;34m.\u001b[0m\u001b[0mstart_filter\u001b[0m\u001b[0;34m(\u001b[0m\u001b[0;34m)\u001b[0m\u001b[0;34m\u001b[0m\u001b[0;34m\u001b[0m\u001b[0m\n\u001b[1;32m     49\u001b[0m \u001b[0;34m\u001b[0m\u001b[0m\n\u001b[0;32m---> 50\u001b[0;31m             \u001b[0;32mreturn\u001b[0m \u001b[0mdraw\u001b[0m\u001b[0;34m(\u001b[0m\u001b[0martist\u001b[0m\u001b[0;34m,\u001b[0m \u001b[0mrenderer\u001b[0m\u001b[0;34m,\u001b[0m \u001b[0;34m*\u001b[0m\u001b[0margs\u001b[0m\u001b[0;34m,\u001b[0m \u001b[0;34m**\u001b[0m\u001b[0mkwargs\u001b[0m\u001b[0;34m)\u001b[0m\u001b[0;34m\u001b[0m\u001b[0;34m\u001b[0m\u001b[0m\n\u001b[0m\u001b[1;32m     51\u001b[0m         \u001b[0;32mfinally\u001b[0m\u001b[0;34m:\u001b[0m\u001b[0;34m\u001b[0m\u001b[0;34m\u001b[0m\u001b[0m\n\u001b[1;32m     52\u001b[0m             \u001b[0;32mif\u001b[0m \u001b[0martist\u001b[0m\u001b[0;34m.\u001b[0m\u001b[0mget_agg_filter\u001b[0m\u001b[0;34m(\u001b[0m\u001b[0;34m)\u001b[0m \u001b[0;32mis\u001b[0m \u001b[0;32mnot\u001b[0m \u001b[0;32mNone\u001b[0m\u001b[0;34m:\u001b[0m\u001b[0;34m\u001b[0m\u001b[0;34m\u001b[0m\u001b[0m\n",
      "\u001b[0;32m~/.local/lib/python3.6/site-packages/matplotlib/axes/_base.py\u001b[0m in \u001b[0;36mdraw\u001b[0;34m(self, renderer, inframe)\u001b[0m\n\u001b[1;32m   2626\u001b[0m             \u001b[0mrenderer\u001b[0m\u001b[0;34m.\u001b[0m\u001b[0mstop_rasterizing\u001b[0m\u001b[0;34m(\u001b[0m\u001b[0;34m)\u001b[0m\u001b[0;34m\u001b[0m\u001b[0;34m\u001b[0m\u001b[0m\n\u001b[1;32m   2627\u001b[0m \u001b[0;34m\u001b[0m\u001b[0m\n\u001b[0;32m-> 2628\u001b[0;31m         \u001b[0mmimage\u001b[0m\u001b[0;34m.\u001b[0m\u001b[0m_draw_list_compositing_images\u001b[0m\u001b[0;34m(\u001b[0m\u001b[0mrenderer\u001b[0m\u001b[0;34m,\u001b[0m \u001b[0mself\u001b[0m\u001b[0;34m,\u001b[0m \u001b[0martists\u001b[0m\u001b[0;34m)\u001b[0m\u001b[0;34m\u001b[0m\u001b[0;34m\u001b[0m\u001b[0m\n\u001b[0m\u001b[1;32m   2629\u001b[0m \u001b[0;34m\u001b[0m\u001b[0m\n\u001b[1;32m   2630\u001b[0m         \u001b[0mrenderer\u001b[0m\u001b[0;34m.\u001b[0m\u001b[0mclose_group\u001b[0m\u001b[0;34m(\u001b[0m\u001b[0;34m'axes'\u001b[0m\u001b[0;34m)\u001b[0m\u001b[0;34m\u001b[0m\u001b[0;34m\u001b[0m\u001b[0m\n",
      "\u001b[0;32m~/.local/lib/python3.6/site-packages/matplotlib/image.py\u001b[0m in \u001b[0;36m_draw_list_compositing_images\u001b[0;34m(renderer, parent, artists, suppress_composite)\u001b[0m\n\u001b[1;32m    136\u001b[0m     \u001b[0;32mif\u001b[0m \u001b[0mnot_composite\u001b[0m \u001b[0;32mor\u001b[0m \u001b[0;32mnot\u001b[0m \u001b[0mhas_images\u001b[0m\u001b[0;34m:\u001b[0m\u001b[0;34m\u001b[0m\u001b[0;34m\u001b[0m\u001b[0m\n\u001b[1;32m    137\u001b[0m         \u001b[0;32mfor\u001b[0m \u001b[0ma\u001b[0m \u001b[0;32min\u001b[0m \u001b[0martists\u001b[0m\u001b[0;34m:\u001b[0m\u001b[0;34m\u001b[0m\u001b[0;34m\u001b[0m\u001b[0m\n\u001b[0;32m--> 138\u001b[0;31m             \u001b[0ma\u001b[0m\u001b[0;34m.\u001b[0m\u001b[0mdraw\u001b[0m\u001b[0;34m(\u001b[0m\u001b[0mrenderer\u001b[0m\u001b[0;34m)\u001b[0m\u001b[0;34m\u001b[0m\u001b[0;34m\u001b[0m\u001b[0m\n\u001b[0m\u001b[1;32m    139\u001b[0m     \u001b[0;32melse\u001b[0m\u001b[0;34m:\u001b[0m\u001b[0;34m\u001b[0m\u001b[0;34m\u001b[0m\u001b[0m\n\u001b[1;32m    140\u001b[0m         \u001b[0;31m# Composite any adjacent images together\u001b[0m\u001b[0;34m\u001b[0m\u001b[0;34m\u001b[0m\u001b[0;34m\u001b[0m\u001b[0m\n",
      "\u001b[0;32m~/.local/lib/python3.6/site-packages/matplotlib/artist.py\u001b[0m in \u001b[0;36mdraw_wrapper\u001b[0;34m(artist, renderer, *args, **kwargs)\u001b[0m\n\u001b[1;32m     48\u001b[0m                 \u001b[0mrenderer\u001b[0m\u001b[0;34m.\u001b[0m\u001b[0mstart_filter\u001b[0m\u001b[0;34m(\u001b[0m\u001b[0;34m)\u001b[0m\u001b[0;34m\u001b[0m\u001b[0;34m\u001b[0m\u001b[0m\n\u001b[1;32m     49\u001b[0m \u001b[0;34m\u001b[0m\u001b[0m\n\u001b[0;32m---> 50\u001b[0;31m             \u001b[0;32mreturn\u001b[0m \u001b[0mdraw\u001b[0m\u001b[0;34m(\u001b[0m\u001b[0martist\u001b[0m\u001b[0;34m,\u001b[0m \u001b[0mrenderer\u001b[0m\u001b[0;34m,\u001b[0m \u001b[0;34m*\u001b[0m\u001b[0margs\u001b[0m\u001b[0;34m,\u001b[0m \u001b[0;34m**\u001b[0m\u001b[0mkwargs\u001b[0m\u001b[0;34m)\u001b[0m\u001b[0;34m\u001b[0m\u001b[0;34m\u001b[0m\u001b[0m\n\u001b[0m\u001b[1;32m     51\u001b[0m         \u001b[0;32mfinally\u001b[0m\u001b[0;34m:\u001b[0m\u001b[0;34m\u001b[0m\u001b[0;34m\u001b[0m\u001b[0m\n\u001b[1;32m     52\u001b[0m             \u001b[0;32mif\u001b[0m \u001b[0martist\u001b[0m\u001b[0;34m.\u001b[0m\u001b[0mget_agg_filter\u001b[0m\u001b[0;34m(\u001b[0m\u001b[0;34m)\u001b[0m \u001b[0;32mis\u001b[0m \u001b[0;32mnot\u001b[0m \u001b[0;32mNone\u001b[0m\u001b[0;34m:\u001b[0m\u001b[0;34m\u001b[0m\u001b[0;34m\u001b[0m\u001b[0m\n",
      "\u001b[0;32m~/.local/lib/python3.6/site-packages/matplotlib/axis.py\u001b[0m in \u001b[0;36mdraw\u001b[0;34m(self, renderer, *args, **kwargs)\u001b[0m\n\u001b[1;32m   1188\u001b[0m \u001b[0;34m\u001b[0m\u001b[0m\n\u001b[1;32m   1189\u001b[0m         \u001b[0;32mfor\u001b[0m \u001b[0mtick\u001b[0m \u001b[0;32min\u001b[0m \u001b[0mticks_to_draw\u001b[0m\u001b[0;34m:\u001b[0m\u001b[0;34m\u001b[0m\u001b[0;34m\u001b[0m\u001b[0m\n\u001b[0;32m-> 1190\u001b[0;31m             \u001b[0mtick\u001b[0m\u001b[0;34m.\u001b[0m\u001b[0mdraw\u001b[0m\u001b[0;34m(\u001b[0m\u001b[0mrenderer\u001b[0m\u001b[0;34m)\u001b[0m\u001b[0;34m\u001b[0m\u001b[0;34m\u001b[0m\u001b[0m\n\u001b[0m\u001b[1;32m   1191\u001b[0m \u001b[0;34m\u001b[0m\u001b[0m\n\u001b[1;32m   1192\u001b[0m         \u001b[0;31m# scale up the axis label box to also find the neighbors, not\u001b[0m\u001b[0;34m\u001b[0m\u001b[0;34m\u001b[0m\u001b[0;34m\u001b[0m\u001b[0m\n",
      "\u001b[0;32m~/.local/lib/python3.6/site-packages/matplotlib/artist.py\u001b[0m in \u001b[0;36mdraw_wrapper\u001b[0;34m(artist, renderer, *args, **kwargs)\u001b[0m\n\u001b[1;32m     48\u001b[0m                 \u001b[0mrenderer\u001b[0m\u001b[0;34m.\u001b[0m\u001b[0mstart_filter\u001b[0m\u001b[0;34m(\u001b[0m\u001b[0;34m)\u001b[0m\u001b[0;34m\u001b[0m\u001b[0;34m\u001b[0m\u001b[0m\n\u001b[1;32m     49\u001b[0m \u001b[0;34m\u001b[0m\u001b[0m\n\u001b[0;32m---> 50\u001b[0;31m             \u001b[0;32mreturn\u001b[0m \u001b[0mdraw\u001b[0m\u001b[0;34m(\u001b[0m\u001b[0martist\u001b[0m\u001b[0;34m,\u001b[0m \u001b[0mrenderer\u001b[0m\u001b[0;34m,\u001b[0m \u001b[0;34m*\u001b[0m\u001b[0margs\u001b[0m\u001b[0;34m,\u001b[0m \u001b[0;34m**\u001b[0m\u001b[0mkwargs\u001b[0m\u001b[0;34m)\u001b[0m\u001b[0;34m\u001b[0m\u001b[0;34m\u001b[0m\u001b[0m\n\u001b[0m\u001b[1;32m     51\u001b[0m         \u001b[0;32mfinally\u001b[0m\u001b[0;34m:\u001b[0m\u001b[0;34m\u001b[0m\u001b[0;34m\u001b[0m\u001b[0m\n\u001b[1;32m     52\u001b[0m             \u001b[0;32mif\u001b[0m \u001b[0martist\u001b[0m\u001b[0;34m.\u001b[0m\u001b[0mget_agg_filter\u001b[0m\u001b[0;34m(\u001b[0m\u001b[0;34m)\u001b[0m \u001b[0;32mis\u001b[0m \u001b[0;32mnot\u001b[0m \u001b[0;32mNone\u001b[0m\u001b[0;34m:\u001b[0m\u001b[0;34m\u001b[0m\u001b[0;34m\u001b[0m\u001b[0m\n",
      "\u001b[0;32m~/.local/lib/python3.6/site-packages/matplotlib/axis.py\u001b[0m in \u001b[0;36mdraw\u001b[0;34m(self, renderer)\u001b[0m\n\u001b[1;32m    297\u001b[0m             \u001b[0mself\u001b[0m\u001b[0;34m.\u001b[0m\u001b[0mgridline\u001b[0m\u001b[0;34m.\u001b[0m\u001b[0mdraw\u001b[0m\u001b[0;34m(\u001b[0m\u001b[0mrenderer\u001b[0m\u001b[0;34m)\u001b[0m\u001b[0;34m\u001b[0m\u001b[0;34m\u001b[0m\u001b[0m\n\u001b[1;32m    298\u001b[0m         \u001b[0;32mif\u001b[0m \u001b[0mself\u001b[0m\u001b[0;34m.\u001b[0m\u001b[0mtick1On\u001b[0m\u001b[0;34m:\u001b[0m\u001b[0;34m\u001b[0m\u001b[0;34m\u001b[0m\u001b[0m\n\u001b[0;32m--> 299\u001b[0;31m             \u001b[0mself\u001b[0m\u001b[0;34m.\u001b[0m\u001b[0mtick1line\u001b[0m\u001b[0;34m.\u001b[0m\u001b[0mdraw\u001b[0m\u001b[0;34m(\u001b[0m\u001b[0mrenderer\u001b[0m\u001b[0;34m)\u001b[0m\u001b[0;34m\u001b[0m\u001b[0;34m\u001b[0m\u001b[0m\n\u001b[0m\u001b[1;32m    300\u001b[0m         \u001b[0;32mif\u001b[0m \u001b[0mself\u001b[0m\u001b[0;34m.\u001b[0m\u001b[0mtick2On\u001b[0m\u001b[0;34m:\u001b[0m\u001b[0;34m\u001b[0m\u001b[0;34m\u001b[0m\u001b[0m\n\u001b[1;32m    301\u001b[0m             \u001b[0mself\u001b[0m\u001b[0;34m.\u001b[0m\u001b[0mtick2line\u001b[0m\u001b[0;34m.\u001b[0m\u001b[0mdraw\u001b[0m\u001b[0;34m(\u001b[0m\u001b[0mrenderer\u001b[0m\u001b[0;34m)\u001b[0m\u001b[0;34m\u001b[0m\u001b[0;34m\u001b[0m\u001b[0m\n",
      "\u001b[0;32m~/.local/lib/python3.6/site-packages/matplotlib/artist.py\u001b[0m in \u001b[0;36mdraw_wrapper\u001b[0;34m(artist, renderer, *args, **kwargs)\u001b[0m\n\u001b[1;32m     48\u001b[0m                 \u001b[0mrenderer\u001b[0m\u001b[0;34m.\u001b[0m\u001b[0mstart_filter\u001b[0m\u001b[0;34m(\u001b[0m\u001b[0;34m)\u001b[0m\u001b[0;34m\u001b[0m\u001b[0;34m\u001b[0m\u001b[0m\n\u001b[1;32m     49\u001b[0m \u001b[0;34m\u001b[0m\u001b[0m\n\u001b[0;32m---> 50\u001b[0;31m             \u001b[0;32mreturn\u001b[0m \u001b[0mdraw\u001b[0m\u001b[0;34m(\u001b[0m\u001b[0martist\u001b[0m\u001b[0;34m,\u001b[0m \u001b[0mrenderer\u001b[0m\u001b[0;34m,\u001b[0m \u001b[0;34m*\u001b[0m\u001b[0margs\u001b[0m\u001b[0;34m,\u001b[0m \u001b[0;34m**\u001b[0m\u001b[0mkwargs\u001b[0m\u001b[0;34m)\u001b[0m\u001b[0;34m\u001b[0m\u001b[0;34m\u001b[0m\u001b[0m\n\u001b[0m\u001b[1;32m     51\u001b[0m         \u001b[0;32mfinally\u001b[0m\u001b[0;34m:\u001b[0m\u001b[0;34m\u001b[0m\u001b[0;34m\u001b[0m\u001b[0m\n\u001b[1;32m     52\u001b[0m             \u001b[0;32mif\u001b[0m \u001b[0martist\u001b[0m\u001b[0;34m.\u001b[0m\u001b[0mget_agg_filter\u001b[0m\u001b[0;34m(\u001b[0m\u001b[0;34m)\u001b[0m \u001b[0;32mis\u001b[0m \u001b[0;32mnot\u001b[0m \u001b[0;32mNone\u001b[0m\u001b[0;34m:\u001b[0m\u001b[0;34m\u001b[0m\u001b[0;34m\u001b[0m\u001b[0m\n",
      "\u001b[0;32m~/.local/lib/python3.6/site-packages/matplotlib/lines.py\u001b[0m in \u001b[0;36mdraw\u001b[0;34m(self, renderer)\u001b[0m\n\u001b[1;32m    833\u001b[0m                 \u001b[0;32melse\u001b[0m\u001b[0;34m:\u001b[0m\u001b[0;34m\u001b[0m\u001b[0;34m\u001b[0m\u001b[0m\n\u001b[1;32m    834\u001b[0m                     \u001b[0;31m# Don't scale for pixels, and don't stroke them\u001b[0m\u001b[0;34m\u001b[0m\u001b[0;34m\u001b[0m\u001b[0;34m\u001b[0m\u001b[0m\n\u001b[0;32m--> 835\u001b[0;31m                     \u001b[0mmarker_trans\u001b[0m \u001b[0;34m=\u001b[0m \u001b[0mmarker_trans\u001b[0m\u001b[0;34m.\u001b[0m\u001b[0mscale\u001b[0m\u001b[0;34m(\u001b[0m\u001b[0mw\u001b[0m\u001b[0;34m)\u001b[0m\u001b[0;34m\u001b[0m\u001b[0;34m\u001b[0m\u001b[0m\n\u001b[0m\u001b[1;32m    836\u001b[0m                 renderer.draw_markers(gc, marker_path, marker_trans,\n\u001b[1;32m    837\u001b[0m                                       \u001b[0msubsampled\u001b[0m\u001b[0;34m,\u001b[0m \u001b[0maffine\u001b[0m\u001b[0;34m.\u001b[0m\u001b[0mfrozen\u001b[0m\u001b[0;34m(\u001b[0m\u001b[0;34m)\u001b[0m\u001b[0;34m,\u001b[0m\u001b[0;34m\u001b[0m\u001b[0;34m\u001b[0m\u001b[0m\n",
      "\u001b[0;32m~/.local/lib/python3.6/site-packages/matplotlib/transforms.py\u001b[0m in \u001b[0;36mscale\u001b[0;34m(self, sx, sy)\u001b[0m\n\u001b[1;32m   2040\u001b[0m         scale_mtx = np.array(\n\u001b[1;32m   2041\u001b[0m             [[sx, 0.0, 0.0], [0.0, sy, 0.0], [0.0, 0.0, 1.0]], float)\n\u001b[0;32m-> 2042\u001b[0;31m         \u001b[0mself\u001b[0m\u001b[0;34m.\u001b[0m\u001b[0m_mtx\u001b[0m \u001b[0;34m=\u001b[0m \u001b[0mnp\u001b[0m\u001b[0;34m.\u001b[0m\u001b[0mdot\u001b[0m\u001b[0;34m(\u001b[0m\u001b[0mscale_mtx\u001b[0m\u001b[0;34m,\u001b[0m \u001b[0mself\u001b[0m\u001b[0;34m.\u001b[0m\u001b[0m_mtx\u001b[0m\u001b[0;34m)\u001b[0m\u001b[0;34m\u001b[0m\u001b[0;34m\u001b[0m\u001b[0m\n\u001b[0m\u001b[1;32m   2043\u001b[0m         \u001b[0mself\u001b[0m\u001b[0;34m.\u001b[0m\u001b[0minvalidate\u001b[0m\u001b[0;34m(\u001b[0m\u001b[0;34m)\u001b[0m\u001b[0;34m\u001b[0m\u001b[0;34m\u001b[0m\u001b[0m\n\u001b[1;32m   2044\u001b[0m         \u001b[0;32mreturn\u001b[0m \u001b[0mself\u001b[0m\u001b[0;34m\u001b[0m\u001b[0;34m\u001b[0m\u001b[0m\n",
      "\u001b[0;31mKeyboardInterrupt\u001b[0m: "
     ]
    },
    {
     "name": "stdout",
     "output_type": "stream",
     "text": [
      "Error in callback <function flush_figures at 0x7f70437e6f28> (for post_execute):\n"
     ]
    },
    {
     "ename": "KeyboardInterrupt",
     "evalue": "",
     "output_type": "error",
     "traceback": [
      "\u001b[0;31m---------------------------------------------------------------------------\u001b[0m",
      "\u001b[0;31mKeyboardInterrupt\u001b[0m                         Traceback (most recent call last)",
      "\u001b[0;32m~/.local/lib/python3.6/site-packages/ipykernel/pylab/backend_inline.py\u001b[0m in \u001b[0;36mflush_figures\u001b[0;34m()\u001b[0m\n\u001b[1;32m    115\u001b[0m         \u001b[0;31m# ignore the tracking, just draw and close all figures\u001b[0m\u001b[0;34m\u001b[0m\u001b[0;34m\u001b[0m\u001b[0;34m\u001b[0m\u001b[0m\n\u001b[1;32m    116\u001b[0m         \u001b[0;32mtry\u001b[0m\u001b[0;34m:\u001b[0m\u001b[0;34m\u001b[0m\u001b[0;34m\u001b[0m\u001b[0m\n\u001b[0;32m--> 117\u001b[0;31m             \u001b[0;32mreturn\u001b[0m \u001b[0mshow\u001b[0m\u001b[0;34m(\u001b[0m\u001b[0;32mTrue\u001b[0m\u001b[0;34m)\u001b[0m\u001b[0;34m\u001b[0m\u001b[0;34m\u001b[0m\u001b[0m\n\u001b[0m\u001b[1;32m    118\u001b[0m         \u001b[0;32mexcept\u001b[0m \u001b[0mException\u001b[0m \u001b[0;32mas\u001b[0m \u001b[0me\u001b[0m\u001b[0;34m:\u001b[0m\u001b[0;34m\u001b[0m\u001b[0;34m\u001b[0m\u001b[0m\n\u001b[1;32m    119\u001b[0m             \u001b[0;31m# safely show traceback if in IPython, else raise\u001b[0m\u001b[0;34m\u001b[0m\u001b[0;34m\u001b[0m\u001b[0;34m\u001b[0m\u001b[0m\n",
      "\u001b[0;32m~/.local/lib/python3.6/site-packages/ipykernel/pylab/backend_inline.py\u001b[0m in \u001b[0;36mshow\u001b[0;34m(close, block)\u001b[0m\n\u001b[1;32m     37\u001b[0m             display(\n\u001b[1;32m     38\u001b[0m                 \u001b[0mfigure_manager\u001b[0m\u001b[0;34m.\u001b[0m\u001b[0mcanvas\u001b[0m\u001b[0;34m.\u001b[0m\u001b[0mfigure\u001b[0m\u001b[0;34m,\u001b[0m\u001b[0;34m\u001b[0m\u001b[0;34m\u001b[0m\u001b[0m\n\u001b[0;32m---> 39\u001b[0;31m                 \u001b[0mmetadata\u001b[0m\u001b[0;34m=\u001b[0m\u001b[0m_fetch_figure_metadata\u001b[0m\u001b[0;34m(\u001b[0m\u001b[0mfigure_manager\u001b[0m\u001b[0;34m.\u001b[0m\u001b[0mcanvas\u001b[0m\u001b[0;34m.\u001b[0m\u001b[0mfigure\u001b[0m\u001b[0;34m)\u001b[0m\u001b[0;34m\u001b[0m\u001b[0;34m\u001b[0m\u001b[0m\n\u001b[0m\u001b[1;32m     40\u001b[0m             )\n\u001b[1;32m     41\u001b[0m     \u001b[0;32mfinally\u001b[0m\u001b[0;34m:\u001b[0m\u001b[0;34m\u001b[0m\u001b[0;34m\u001b[0m\u001b[0m\n",
      "\u001b[0;32m~/.local/lib/python3.6/site-packages/ipykernel/pylab/backend_inline.py\u001b[0m in \u001b[0;36m_fetch_figure_metadata\u001b[0;34m(fig)\u001b[0m\n\u001b[1;32m    175\u001b[0m         \u001b[0;31m# the background is transparent\u001b[0m\u001b[0;34m\u001b[0m\u001b[0;34m\u001b[0m\u001b[0;34m\u001b[0m\u001b[0m\n\u001b[1;32m    176\u001b[0m         ticksLight = _is_light([label.get_color()\n\u001b[0;32m--> 177\u001b[0;31m                                 \u001b[0;32mfor\u001b[0m \u001b[0maxes\u001b[0m \u001b[0;32min\u001b[0m \u001b[0mfig\u001b[0m\u001b[0;34m.\u001b[0m\u001b[0maxes\u001b[0m\u001b[0;34m\u001b[0m\u001b[0;34m\u001b[0m\u001b[0m\n\u001b[0m\u001b[1;32m    178\u001b[0m                                 \u001b[0;32mfor\u001b[0m \u001b[0maxis\u001b[0m \u001b[0;32min\u001b[0m \u001b[0;34m(\u001b[0m\u001b[0maxes\u001b[0m\u001b[0;34m.\u001b[0m\u001b[0mxaxis\u001b[0m\u001b[0;34m,\u001b[0m \u001b[0maxes\u001b[0m\u001b[0;34m.\u001b[0m\u001b[0myaxis\u001b[0m\u001b[0;34m)\u001b[0m\u001b[0;34m\u001b[0m\u001b[0;34m\u001b[0m\u001b[0m\n\u001b[1;32m    179\u001b[0m                                 for label in axis.get_ticklabels()])\n",
      "\u001b[0;32m~/.local/lib/python3.6/site-packages/ipykernel/pylab/backend_inline.py\u001b[0m in \u001b[0;36m<listcomp>\u001b[0;34m(.0)\u001b[0m\n\u001b[1;32m    177\u001b[0m                                 \u001b[0;32mfor\u001b[0m \u001b[0maxes\u001b[0m \u001b[0;32min\u001b[0m \u001b[0mfig\u001b[0m\u001b[0;34m.\u001b[0m\u001b[0maxes\u001b[0m\u001b[0;34m\u001b[0m\u001b[0;34m\u001b[0m\u001b[0m\n\u001b[1;32m    178\u001b[0m                                 \u001b[0;32mfor\u001b[0m \u001b[0maxis\u001b[0m \u001b[0;32min\u001b[0m \u001b[0;34m(\u001b[0m\u001b[0maxes\u001b[0m\u001b[0;34m.\u001b[0m\u001b[0mxaxis\u001b[0m\u001b[0;34m,\u001b[0m \u001b[0maxes\u001b[0m\u001b[0;34m.\u001b[0m\u001b[0myaxis\u001b[0m\u001b[0;34m)\u001b[0m\u001b[0;34m\u001b[0m\u001b[0;34m\u001b[0m\u001b[0m\n\u001b[0;32m--> 179\u001b[0;31m                                 for label in axis.get_ticklabels()])\n\u001b[0m\u001b[1;32m    180\u001b[0m         \u001b[0;32mif\u001b[0m \u001b[0mticksLight\u001b[0m\u001b[0;34m.\u001b[0m\u001b[0msize\u001b[0m \u001b[0;32mand\u001b[0m \u001b[0;34m(\u001b[0m\u001b[0mticksLight\u001b[0m \u001b[0;34m==\u001b[0m \u001b[0mticksLight\u001b[0m\u001b[0;34m[\u001b[0m\u001b[0;36m0\u001b[0m\u001b[0;34m]\u001b[0m\u001b[0;34m)\u001b[0m\u001b[0;34m.\u001b[0m\u001b[0mall\u001b[0m\u001b[0;34m(\u001b[0m\u001b[0;34m)\u001b[0m\u001b[0;34m:\u001b[0m\u001b[0;34m\u001b[0m\u001b[0;34m\u001b[0m\u001b[0m\n\u001b[1;32m    181\u001b[0m             \u001b[0;31m# there are one or more tick labels, all with the same lightness\u001b[0m\u001b[0;34m\u001b[0m\u001b[0;34m\u001b[0m\u001b[0;34m\u001b[0m\u001b[0m\n",
      "\u001b[0;32m~/.local/lib/python3.6/site-packages/matplotlib/axis.py\u001b[0m in \u001b[0;36mget_ticklabels\u001b[0;34m(self, minor, which)\u001b[0m\n\u001b[1;32m   1284\u001b[0m         \u001b[0;32mif\u001b[0m \u001b[0mminor\u001b[0m\u001b[0;34m:\u001b[0m\u001b[0;34m\u001b[0m\u001b[0;34m\u001b[0m\u001b[0m\n\u001b[1;32m   1285\u001b[0m             \u001b[0;32mreturn\u001b[0m \u001b[0mself\u001b[0m\u001b[0;34m.\u001b[0m\u001b[0mget_minorticklabels\u001b[0m\u001b[0;34m(\u001b[0m\u001b[0;34m)\u001b[0m\u001b[0;34m\u001b[0m\u001b[0;34m\u001b[0m\u001b[0m\n\u001b[0;32m-> 1286\u001b[0;31m         \u001b[0;32mreturn\u001b[0m \u001b[0mself\u001b[0m\u001b[0;34m.\u001b[0m\u001b[0mget_majorticklabels\u001b[0m\u001b[0;34m(\u001b[0m\u001b[0;34m)\u001b[0m\u001b[0;34m\u001b[0m\u001b[0;34m\u001b[0m\u001b[0m\n\u001b[0m\u001b[1;32m   1287\u001b[0m \u001b[0;34m\u001b[0m\u001b[0m\n\u001b[1;32m   1288\u001b[0m     \u001b[0;32mdef\u001b[0m \u001b[0mget_majorticklines\u001b[0m\u001b[0;34m(\u001b[0m\u001b[0mself\u001b[0m\u001b[0;34m)\u001b[0m\u001b[0;34m:\u001b[0m\u001b[0;34m\u001b[0m\u001b[0;34m\u001b[0m\u001b[0m\n",
      "\u001b[0;32m~/.local/lib/python3.6/site-packages/matplotlib/axis.py\u001b[0m in \u001b[0;36mget_majorticklabels\u001b[0;34m(self)\u001b[0m\n\u001b[1;32m   1238\u001b[0m     \u001b[0;32mdef\u001b[0m \u001b[0mget_majorticklabels\u001b[0m\u001b[0;34m(\u001b[0m\u001b[0mself\u001b[0m\u001b[0;34m)\u001b[0m\u001b[0;34m:\u001b[0m\u001b[0;34m\u001b[0m\u001b[0;34m\u001b[0m\u001b[0m\n\u001b[1;32m   1239\u001b[0m         \u001b[0;34m'Return a list of Text instances for the major ticklabels'\u001b[0m\u001b[0;34m\u001b[0m\u001b[0;34m\u001b[0m\u001b[0m\n\u001b[0;32m-> 1240\u001b[0;31m         \u001b[0mticks\u001b[0m \u001b[0;34m=\u001b[0m \u001b[0mself\u001b[0m\u001b[0;34m.\u001b[0m\u001b[0mget_major_ticks\u001b[0m\u001b[0;34m(\u001b[0m\u001b[0;34m)\u001b[0m\u001b[0;34m\u001b[0m\u001b[0;34m\u001b[0m\u001b[0m\n\u001b[0m\u001b[1;32m   1241\u001b[0m         \u001b[0mlabels1\u001b[0m \u001b[0;34m=\u001b[0m \u001b[0;34m[\u001b[0m\u001b[0mtick\u001b[0m\u001b[0;34m.\u001b[0m\u001b[0mlabel1\u001b[0m \u001b[0;32mfor\u001b[0m \u001b[0mtick\u001b[0m \u001b[0;32min\u001b[0m \u001b[0mticks\u001b[0m \u001b[0;32mif\u001b[0m \u001b[0mtick\u001b[0m\u001b[0;34m.\u001b[0m\u001b[0mlabel1On\u001b[0m\u001b[0;34m]\u001b[0m\u001b[0;34m\u001b[0m\u001b[0;34m\u001b[0m\u001b[0m\n\u001b[1;32m   1242\u001b[0m         \u001b[0mlabels2\u001b[0m \u001b[0;34m=\u001b[0m \u001b[0;34m[\u001b[0m\u001b[0mtick\u001b[0m\u001b[0;34m.\u001b[0m\u001b[0mlabel2\u001b[0m \u001b[0;32mfor\u001b[0m \u001b[0mtick\u001b[0m \u001b[0;32min\u001b[0m \u001b[0mticks\u001b[0m \u001b[0;32mif\u001b[0m \u001b[0mtick\u001b[0m\u001b[0;34m.\u001b[0m\u001b[0mlabel2On\u001b[0m\u001b[0;34m]\u001b[0m\u001b[0;34m\u001b[0m\u001b[0;34m\u001b[0m\u001b[0m\n",
      "\u001b[0;32m~/.local/lib/python3.6/site-packages/matplotlib/axis.py\u001b[0m in \u001b[0;36mget_major_ticks\u001b[0;34m(self, numticks)\u001b[0m\n\u001b[1;32m   1389\u001b[0m         \u001b[0;34m'get the tick instances; grow as necessary'\u001b[0m\u001b[0;34m\u001b[0m\u001b[0;34m\u001b[0m\u001b[0m\n\u001b[1;32m   1390\u001b[0m         \u001b[0;32mif\u001b[0m \u001b[0mnumticks\u001b[0m \u001b[0;32mis\u001b[0m \u001b[0;32mNone\u001b[0m\u001b[0;34m:\u001b[0m\u001b[0;34m\u001b[0m\u001b[0;34m\u001b[0m\u001b[0m\n\u001b[0;32m-> 1391\u001b[0;31m             \u001b[0mnumticks\u001b[0m \u001b[0;34m=\u001b[0m \u001b[0mlen\u001b[0m\u001b[0;34m(\u001b[0m\u001b[0mself\u001b[0m\u001b[0;34m.\u001b[0m\u001b[0mget_major_locator\u001b[0m\u001b[0;34m(\u001b[0m\u001b[0;34m)\u001b[0m\u001b[0;34m(\u001b[0m\u001b[0;34m)\u001b[0m\u001b[0;34m)\u001b[0m\u001b[0;34m\u001b[0m\u001b[0;34m\u001b[0m\u001b[0m\n\u001b[0m\u001b[1;32m   1392\u001b[0m \u001b[0;34m\u001b[0m\u001b[0m\n\u001b[1;32m   1393\u001b[0m         \u001b[0;32mwhile\u001b[0m \u001b[0mlen\u001b[0m\u001b[0;34m(\u001b[0m\u001b[0mself\u001b[0m\u001b[0;34m.\u001b[0m\u001b[0mmajorTicks\u001b[0m\u001b[0;34m)\u001b[0m \u001b[0;34m<\u001b[0m \u001b[0mnumticks\u001b[0m\u001b[0;34m:\u001b[0m\u001b[0;34m\u001b[0m\u001b[0;34m\u001b[0m\u001b[0m\n",
      "\u001b[0;32m~/.local/lib/python3.6/site-packages/matplotlib/ticker.py\u001b[0m in \u001b[0;36m__call__\u001b[0;34m(self)\u001b[0m\n\u001b[1;32m   1983\u001b[0m     \u001b[0;32mdef\u001b[0m \u001b[0m__call__\u001b[0m\u001b[0;34m(\u001b[0m\u001b[0mself\u001b[0m\u001b[0;34m)\u001b[0m\u001b[0;34m:\u001b[0m\u001b[0;34m\u001b[0m\u001b[0;34m\u001b[0m\u001b[0m\n\u001b[1;32m   1984\u001b[0m         \u001b[0mvmin\u001b[0m\u001b[0;34m,\u001b[0m \u001b[0mvmax\u001b[0m \u001b[0;34m=\u001b[0m \u001b[0mself\u001b[0m\u001b[0;34m.\u001b[0m\u001b[0maxis\u001b[0m\u001b[0;34m.\u001b[0m\u001b[0mget_view_interval\u001b[0m\u001b[0;34m(\u001b[0m\u001b[0;34m)\u001b[0m\u001b[0;34m\u001b[0m\u001b[0;34m\u001b[0m\u001b[0m\n\u001b[0;32m-> 1985\u001b[0;31m         \u001b[0;32mreturn\u001b[0m \u001b[0mself\u001b[0m\u001b[0;34m.\u001b[0m\u001b[0mtick_values\u001b[0m\u001b[0;34m(\u001b[0m\u001b[0mvmin\u001b[0m\u001b[0;34m,\u001b[0m \u001b[0mvmax\u001b[0m\u001b[0;34m)\u001b[0m\u001b[0;34m\u001b[0m\u001b[0;34m\u001b[0m\u001b[0m\n\u001b[0m\u001b[1;32m   1986\u001b[0m \u001b[0;34m\u001b[0m\u001b[0m\n\u001b[1;32m   1987\u001b[0m     \u001b[0;32mdef\u001b[0m \u001b[0mtick_values\u001b[0m\u001b[0;34m(\u001b[0m\u001b[0mself\u001b[0m\u001b[0;34m,\u001b[0m \u001b[0mvmin\u001b[0m\u001b[0;34m,\u001b[0m \u001b[0mvmax\u001b[0m\u001b[0;34m)\u001b[0m\u001b[0;34m:\u001b[0m\u001b[0;34m\u001b[0m\u001b[0;34m\u001b[0m\u001b[0m\n",
      "\u001b[0;32m~/.local/lib/python3.6/site-packages/matplotlib/ticker.py\u001b[0m in \u001b[0;36mtick_values\u001b[0;34m(self, vmin, vmax)\u001b[0m\n\u001b[1;32m   1991\u001b[0m         vmin, vmax = mtransforms.nonsingular(\n\u001b[1;32m   1992\u001b[0m             vmin, vmax, expander=1e-13, tiny=1e-14)\n\u001b[0;32m-> 1993\u001b[0;31m         \u001b[0mlocs\u001b[0m \u001b[0;34m=\u001b[0m \u001b[0mself\u001b[0m\u001b[0;34m.\u001b[0m\u001b[0m_raw_ticks\u001b[0m\u001b[0;34m(\u001b[0m\u001b[0mvmin\u001b[0m\u001b[0;34m,\u001b[0m \u001b[0mvmax\u001b[0m\u001b[0;34m)\u001b[0m\u001b[0;34m\u001b[0m\u001b[0;34m\u001b[0m\u001b[0m\n\u001b[0m\u001b[1;32m   1994\u001b[0m \u001b[0;34m\u001b[0m\u001b[0m\n\u001b[1;32m   1995\u001b[0m         \u001b[0mprune\u001b[0m \u001b[0;34m=\u001b[0m \u001b[0mself\u001b[0m\u001b[0;34m.\u001b[0m\u001b[0m_prune\u001b[0m\u001b[0;34m\u001b[0m\u001b[0;34m\u001b[0m\u001b[0m\n",
      "\u001b[0;32m~/.local/lib/python3.6/site-packages/matplotlib/ticker.py\u001b[0m in \u001b[0;36m_raw_ticks\u001b[0;34m(self, vmin, vmax)\u001b[0m\n\u001b[1;32m   1930\u001b[0m         \u001b[0;32mif\u001b[0m \u001b[0mself\u001b[0m\u001b[0;34m.\u001b[0m\u001b[0m_nbins\u001b[0m \u001b[0;34m==\u001b[0m \u001b[0;34m'auto'\u001b[0m\u001b[0;34m:\u001b[0m\u001b[0;34m\u001b[0m\u001b[0;34m\u001b[0m\u001b[0m\n\u001b[1;32m   1931\u001b[0m             \u001b[0;32mif\u001b[0m \u001b[0mself\u001b[0m\u001b[0;34m.\u001b[0m\u001b[0maxis\u001b[0m \u001b[0;32mis\u001b[0m \u001b[0;32mnot\u001b[0m \u001b[0;32mNone\u001b[0m\u001b[0;34m:\u001b[0m\u001b[0;34m\u001b[0m\u001b[0;34m\u001b[0m\u001b[0m\n\u001b[0;32m-> 1932\u001b[0;31m                 nbins = np.clip(self.axis.get_tick_space(),\n\u001b[0m\u001b[1;32m   1933\u001b[0m                                 max(1, self._min_n_ticks - 1), 9)\n\u001b[1;32m   1934\u001b[0m             \u001b[0;32melse\u001b[0m\u001b[0;34m:\u001b[0m\u001b[0;34m\u001b[0m\u001b[0;34m\u001b[0m\u001b[0m\n",
      "\u001b[0;31mKeyboardInterrupt\u001b[0m: "
     ]
    }
   ],
   "source": [
    "snsplot = sns.pairplot(cdf, hue='Gender')\n",
    "fig = snsplot.get_figure()\n",
    "fig.saveFig('../data/PairPlots.png')"
   ]
  },
  {
   "cell_type": "code",
   "execution_count": 298,
   "metadata": {},
   "outputs": [
    {
     "name": "stderr",
     "output_type": "stream",
     "text": [
      "/home/binoy/.local/lib/python3.6/site-packages/ipykernel_launcher.py:6: SettingWithCopyWarning: \n",
      "A value is trying to be set on a copy of a slice from a DataFrame.\n",
      "Try using .loc[row_indexer,col_indexer] = value instead\n",
      "\n",
      "See the caveats in the documentation: http://pandas.pydata.org/pandas-docs/stable/indexing.html#indexing-view-versus-copy\n",
      "  \n",
      "/home/binoy/.local/lib/python3.6/site-packages/ipykernel_launcher.py:7: SettingWithCopyWarning: \n",
      "A value is trying to be set on a copy of a slice from a DataFrame.\n",
      "Try using .loc[row_indexer,col_indexer] = value instead\n",
      "\n",
      "See the caveats in the documentation: http://pandas.pydata.org/pandas-docs/stable/indexing.html#indexing-view-versus-copy\n",
      "  import sys\n"
     ]
    }
   ],
   "source": [
    "mdf = cdf[cdf.Gender == 'M']\n",
    "fdf = cdf[cdf.Gender == 'F']\n",
    "\n",
    "# df['Fruit Total']= df.iloc[:, -4:-1].sum(axis=1)\n",
    "\n",
    "mdf['TotalSum'] = mdf.iloc[:, -44:].sum(axis=1)\n",
    "fdf['TotalSum'] = fdf.iloc[:, -44:].sum(axis=1)"
   ]
  },
  {
   "cell_type": "code",
   "execution_count": 300,
   "metadata": {},
   "outputs": [
    {
     "name": "stdout",
     "output_type": "stream",
     "text": [
      "3144.6648556083383 2944.3162188087117\n"
     ]
    }
   ],
   "source": [
    "print(mdf.TotalSum.values.mean(), fdf.TotalSum.values.mean())"
   ]
  },
  {
   "cell_type": "code",
   "execution_count": 301,
   "metadata": {},
   "outputs": [
    {
     "name": "stdout",
     "output_type": "stream",
     "text": [
      "1541.590909090909 1468.9\n"
     ]
    }
   ],
   "source": [
    "print(np.median(mdf.TotalSum.values), np.median(fdf.TotalSum.values))"
   ]
  },
  {
   "cell_type": "code",
   "execution_count": 304,
   "metadata": {},
   "outputs": [
    {
     "data": {
      "text/plain": [
       "<matplotlib.legend.Legend at 0x7f701a637b70>"
      ]
     },
     "execution_count": 304,
     "metadata": {},
     "output_type": "execute_result"
    },
    {
     "data": {
      "image/png": "[encoded data removed]",
      "text/plain": [
       "<Figure size 432x288 with 1 Axes>"
      ]
     },
     "metadata": {
      "needs_background": "light"
     },
     "output_type": "display_data"
    }
   ],
   "source": [
    "plt.hist(mdf.TotalSum.values, alpha=0.5, label='Males')\n",
    "plt.hist(fdf.TotalSum.values, alpha=0.5, label='Females')\n",
    "plt.legend(loc='upper right')"
   ]
  },
  {
   "cell_type": "code",
   "execution_count": 305,
   "metadata": {},
   "outputs": [
    {
     "data": {
      "text/plain": [
       "array(['Gender', 'FMeasure', 'CharLength', 'TFPunctuation', 'TFStopWords',\n",
       "       'f1', 'f2', 'f3', 'f4', 'f5', 'f6', 'f7', 'f8', 'f9', 'f10', 'f11',\n",
       "       'ConversationCount', 'AtHomeCount', 'FamilyCount', 'TimeCount',\n",
       "       'WorkCount', 'PastActionsCount', 'GamesCount', 'InternetCount',\n",
       "       'LocationCount', 'FunCount', 'Food/ClothesCount', 'PoeticCount',\n",
       "       'Books/MoviesCount', 'ReligionCount', 'RomanceCount',\n",
       "       'SwearingCount', 'PoliticsCount', 'MusicCount', 'SchoolCount',\n",
       "       'BusinessCount', 'PositiveCount', 'NegativeCount', 'EmotionCount',\n",
       "       'ProperNounCount', 'SentenceCount', 'AvgSentLength',\n",
       "       'UpperCaseChars', 'UpperCaseWords', 'TitleCaseWords'], dtype=object)"
      ]
     },
     "execution_count": 305,
     "metadata": {},
     "output_type": "execute_result"
    }
   ],
   "source": [
    "cdf.columns.values"
   ]
  },
  {
   "cell_type": "code",
   "execution_count": 344,
   "metadata": {},
   "outputs": [
    {
     "name": "stderr",
     "output_type": "stream",
     "text": [
      "/home/binoy/.local/lib/python3.6/site-packages/ipykernel_launcher.py:1: SettingWithCopyWarning: \n",
      "A value is trying to be set on a copy of a slice from a DataFrame.\n",
      "Try using .loc[row_indexer,col_indexer] = value instead\n",
      "\n",
      "See the caveats in the documentation: http://pandas.pydata.org/pandas-docs/stable/indexing.html#indexing-view-versus-copy\n",
      "  \"\"\"Entry point for launching an IPython kernel.\n"
     ]
    }
   ],
   "source": [
    "cdf['TotalProduct'] = (cdf['FMeasure'] * cdf['CharLength'] * cdf['TFPunctuation'] * cdf['TFStopWords'] * cdf['ProperNounCount'] * cdf['SentenceCount'] * cdf['AvgSentLength'] * cdf['UpperCaseChars'] * cdf['UpperCaseWords'] * cdf['TitleCaseWords']) / 1e30"
   ]
  },
  {
   "cell_type": "code",
   "execution_count": 345,
   "metadata": {},
   "outputs": [],
   "source": [
    "mdfp = cdf[cdf.Gender == 'M']\n",
    "fdfp = cdf[cdf.Gender == 'F']"
   ]
  },
  {
   "cell_type": "code",
   "execution_count": 361,
   "metadata": {},
   "outputs": [
    {
     "data": {
      "text/plain": [
       "<matplotlib.legend.Legend at 0x7f701ba7d5c0>"
      ]
     },
     "execution_count": 361,
     "metadata": {},
     "output_type": "execute_result"
    },
    {
     "data": {
      "image/png": "[encoded data removed]",
      "text/plain": [
       "<Figure size 1152x432 with 1 Axes>"
      ]
     },
     "metadata": {
      "needs_background": "light"
     },
     "output_type": "display_data"
    }
   ],
   "source": [
    "bins = np.linspace(0, 1, 100)\n",
    "plt.figure(figsize=(16,6))\n",
    "plt.hist(mdfp.TotalProduct.values, bins=bins, alpha=0.5, label='Males')\n",
    "plt.hist(fdfp.TotalProduct.values, bins=bins, alpha=0.5, label='Females')\n",
    "plt.legend(loc='upper right')"
   ]
  },
  {
   "cell_type": "code",
   "execution_count": 348,
   "metadata": {},
   "outputs": [
    {
     "name": "stdout",
     "output_type": "stream",
     "text": [
      "0.001912498131147689 0.004367096285593612\n",
      "4.608391051240703e-15 4.13859987405111e-15\n"
     ]
    }
   ],
   "source": [
    "print(mdfp.TotalProduct.values.mean(), fdfp.TotalProduct.values.mean())\n",
    "print(np.median(mdfp.TotalProduct.values), np.median(fdfp.TotalProduct.values))"
   ]
  },
  {
   "cell_type": "code",
   "execution_count": 349,
   "metadata": {},
   "outputs": [
    {
     "data": {
      "text/plain": [
       "(array([1.661e+03, 5.000e+00, 1.000e+00, 2.000e+00, 0.000e+00, 0.000e+00,\n",
       "        0.000e+00, 1.000e+00, 0.000e+00, 1.000e+00]),\n",
       " array([0.        , 0.08015101, 0.16030201, 0.24045302, 0.32060403,\n",
       "        0.40075503, 0.48090604, 0.56105705, 0.64120805, 0.72135906,\n",
       "        0.80151007]),\n",
       " <a list of 10 Patch objects>)"
      ]
     },
     "execution_count": 349,
     "metadata": {},
     "output_type": "execute_result"
    },
    {
     "data": {
      "image/png": "[encoded data removed]",
      "text/plain": [
       "<Figure size 432x288 with 1 Axes>"
      ]
     },
     "metadata": {
      "needs_background": "light"
     },
     "output_type": "display_data"
    }
   ],
   "source": [
    "plt.hist(mdfp.TotalProduct.values, label='Males')"
   ]
  },
  {
   "cell_type": "code",
   "execution_count": 350,
   "metadata": {},
   "outputs": [
    {
     "data": {
      "text/plain": [
       "(array([1.54e+03, 0.00e+00, 0.00e+00, 0.00e+00, 0.00e+00, 0.00e+00,\n",
       "        0.00e+00, 0.00e+00, 0.00e+00, 1.00e+00]),\n",
       " array([0.        , 0.44693947, 0.89387893, 1.3408184 , 1.78775787,\n",
       "        2.23469734, 2.6816368 , 3.12857627, 3.57551574, 4.0224552 ,\n",
       "        4.46939467]),\n",
       " <a list of 10 Patch objects>)"
      ]
     },
     "execution_count": 350,
     "metadata": {},
     "output_type": "execute_result"
    },
    {
     "data": {
      "image/png": "[encoded data removed]",
      "text/plain": [
       "<Figure size 432x288 with 1 Axes>"
      ]
     },
     "metadata": {
      "needs_background": "light"
     },
     "output_type": "display_data"
    }
   ],
   "source": [
    "bins = np.linspace(0, 10, 100)\n",
    "plt.hist(fdfp.TotalProduct.values, label='Females')"
   ]
  },
  {
   "cell_type": "code",
   "execution_count": 351,
   "metadata": {},
   "outputs": [
    {
     "name": "stdout",
     "output_type": "stream",
     "text": [
      "4.469394671672698 0.0\n"
     ]
    }
   ],
   "source": [
    "print(fdfp.TotalProduct.values.max(), fdfp.TotalProduct.values.min())"
   ]
  },
  {
   "cell_type": "code",
   "execution_count": 352,
   "metadata": {},
   "outputs": [
    {
     "name": "stdout",
     "output_type": "stream",
     "text": [
      "0.8015100668337026 0.0\n"
     ]
    }
   ],
   "source": [
    "print(mdfp.TotalProduct.values.max(), mdfp.TotalProduct.values.min())"
   ]
  },
  {
   "cell_type": "code",
   "execution_count": null,
   "metadata": {},
   "outputs": [],
   "source": []
  }
 ],
 "metadata": {
  "kernelspec": {
   "display_name": "Python 3",
   "language": "python",
   "name": "python3"
  },
  "language_info": {
   "codemirror_mode": {
    "name": "ipython",
    "version": 3
   },
   "file_extension": ".py",
   "mimetype": "text/x-python",
   "name": "python",
   "nbconvert_exporter": "python",
   "pygments_lexer": "ipython3",
   "version": "3.6.7"
  }
 },
 "nbformat": 4,
 "nbformat_minor": 2
}
