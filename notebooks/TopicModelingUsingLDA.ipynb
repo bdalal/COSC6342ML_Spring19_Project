{
 "cells": [
  {
   "cell_type": "code",
   "execution_count": 17,
   "metadata": {},
   "outputs": [],
   "source": [
    "import pandas as pd\n",
    "import numpy as np\n",
    "from sklearn.feature_extraction.text import CountVectorizer\n",
    "from sklearn.decomposition import LatentDirichletAllocation"
   ]
  },
  {
   "cell_type": "code",
   "execution_count": 12,
   "metadata": {},
   "outputs": [],
   "source": [
    "features = pd.read_pickle('../data/feature_dumps/features.pkl')"
   ]
  },
  {
   "cell_type": "code",
   "execution_count": 13,
   "metadata": {},
   "outputs": [],
   "source": [
    "blogsM = features[features.Gender == 'M'].Blog.values.astype(str)\n",
    "blogsF = features[features.Gender == 'F'].Blog.values.astype(str)"
   ]
  },
  {
   "cell_type": "code",
   "execution_count": 25,
   "metadata": {},
   "outputs": [],
   "source": [
    "no_features = 20000\n",
    "no_topics = 20"
   ]
  },
  {
   "cell_type": "code",
   "execution_count": 26,
   "metadata": {},
   "outputs": [],
   "source": [
    "vectorizerM = CountVectorizer(max_df=0.5, min_df=2, max_features=no_features, stop_words='english')\n",
    "vectorizerF = CountVectorizer(max_df=0.5, max_features=no_features, min_df=2, stop_words='english')"
   ]
  },
  {
   "cell_type": "code",
   "execution_count": 27,
   "metadata": {},
   "outputs": [],
   "source": [
    "XM = vectorizerM.fit_transform(blogsM)\n",
    "XF = vectorizerF.fit_transform(blogsF)\n",
    "featureNamesM = vectorizerM.get_feature_names()\n",
    "featureNamesF = vectorizerF.get_feature_names()"
   ]
  },
  {
   "cell_type": "code",
   "execution_count": 28,
   "metadata": {},
   "outputs": [],
   "source": [
    "ldaM = LatentDirichletAllocation(n_topics=no_topics, max_iter=5, learning_method='online', \n",
    "                                 learning_offset=50.,random_state=0).fit(XM)\n",
    "ldaF = LatentDirichletAllocation(n_topics=no_topics, max_iter=5, learning_method='online', \n",
    "                                 learning_offset=50.,random_state=0).fit(XF)"
   ]
  },
  {
   "cell_type": "code",
   "execution_count": 29,
   "metadata": {},
   "outputs": [
    {
     "name": "stdout",
     "output_type": "stream",
     "text": [
      "Males:\n",
      "Topic 0: cheese haw cake chamber maze guinness rodents frosting change pour\n",
      "Topic 1: honduran horizons pluto irrigation drip 1b ide campesino wavering probe\n",
      "Topic 2: surya dutt vk murthy genius roommate moon chick ace mantra\n",
      "Topic 3: metroid ds rs liverpool raman chelsea jus rahul tat benitez\n",
      "Topic 4: europe choice rules law religion pokey time browser faithful need\n",
      "Topic 5: people soap marketing hex orangutan gcc time best reducing world\n",
      "Topic 6: que um para em se os ao mas como ou\n",
      "Topic 7: guy person abt ur para la da mso que click\n",
      "Topic 8: bawa numpy python guruji om simla ported peace unpleasant whiff\n",
      "Topic 9: objects checkpoint foo scavenger object broadband checkpoints pod heap kosovo\n",
      "Topic 10: like just time good people new know don way life\n",
      "Topic 11: reservation feat des belugas remix club pokey amp buddha telltale\n",
      "Topic 12: reid stirling sc nova alexander lieutenant scottish clan pol affidavit\n",
      "Topic 13: nbsp billed genus woodpecker campephilus ivory birds photos especially site\n",
      "Topic 14: homosexuality eric equality battle marry women viejo men puerto costa\n",
      "Topic 15: constraints dreamers lawrence timetable porter limitations que constraint recesses ethos\n",
      "Topic 16: wifi bt fon crist mccain charlie governor florida 3gs uk\n",
      "Topic 17: temperature cooking low vacuum vide temp sous cooked japanese directx\n",
      "Topic 18: pune masks yemen tigers train eu karan every1 fb youths\n",
      "Topic 19: siddharth inspite ruskin dehra complimenting irritate ode forgets day good\n",
      "\n",
      "Females:\n",
      "Topic 0: marketing woody classmates pettigrew elf firms lawsuit legal firm residency\n",
      "Topic 1: sudan darfur government peace said al 2010 sudanese african war\n",
      "Topic 2: dsn anandji guruji jays sri jhakkas ashram ordination naughtiest participating\n",
      "Topic 3: ventilators cdc patients public guidance document pandemic committee health meeting\n",
      "Topic 4: hair temple hatch 2009 marie chambers straightener straighten links acne\n",
      "Topic 5: la les et le vous une en abt ur dans\n",
      "Topic 6: diarrhoea gastroenteritis obligation vomiting acute holiest hangover astronomical soldiers milder\n",
      "Topic 7: replying lightning infinitely wary snake ipods blackberries smses iphones like\n",
      "Topic 8: ms vehicle jack mr geisha bimal tyler residence falcon discovery\n",
      "Topic 9: business disputes delaware arbitration principles chancery litigation court firms associates\n",
      "Topic 10: axelrod dealings favorably intrigue emanuel aired reporter stories discount reputation\n",
      "Topic 11: recommendations reviewers user emmanuel differ anthropologist endowment deals specifics principle\n",
      "Topic 12: like time just nbsp know ve day really people don\n",
      "Topic 13: zune hd bold blackberry rim inch wide reducing inches device\n",
      "Topic 14: poll hive mcqueen queen bees heels men swarm hives lighting\n",
      "Topic 15: rain showers prisoner rhythm chennai units conditioning cottages despise investors\n",
      "Topic 16: fort saga hyderabad panting chuckled prosperous aurangzeb reimbursement bhajans revisited\n",
      "Topic 17: ryan mr tamanna sunset north ashok campbelltown colouring region measurement\n",
      "Topic 18: vivek yu auto maruti bimal chai noe agency sooooo indiranagar\n",
      "Topic 19: guinea cheung wax ek pigs kong hong flu pikachu swine\n"
     ]
    }
   ],
   "source": [
    "no_top_words = 10\n",
    "print(\"Males:\")\n",
    "for topic_idx, topic in enumerate(ldaM.components_):\n",
    "        print(\"Topic %d:\" % (topic_idx), \" \".join([featureNamesM[i]\n",
    "                        for i in topic.argsort()[:-no_top_words - 1:-1]]))\n",
    "print(\"\\nFemales:\")\n",
    "for topic_idx, topic in enumerate(ldaF.components_):\n",
    "        print(\"Topic %d:\" % (topic_idx), \" \".join([featureNamesF[i]\n",
    "                        for i in topic.argsort()[:-no_top_words - 1:-1]]))"
   ]
  },
  {
   "cell_type": "code",
   "execution_count": null,
   "metadata": {},
   "outputs": [],
   "source": []
  }
 ],
 "metadata": {
  "kernelspec": {
   "display_name": "Python 3",
   "language": "python",
   "name": "python3"
  },
  "language_info": {
   "codemirror_mode": {
    "name": "ipython",
    "version": 3
   },
   "file_extension": ".py",
   "mimetype": "text/x-python",
   "name": "python",
   "nbconvert_exporter": "python",
   "pygments_lexer": "ipython3",
   "version": "3.6.7"
  }
 },
 "nbformat": 4,
 "nbformat_minor": 2
}
