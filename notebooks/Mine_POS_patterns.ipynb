{
 "cells": [
  {
   "cell_type": "code",
   "execution_count": 1,
   "metadata": {},
   "outputs": [],
   "source": [
    "from collections import Counter\n",
    "from itertools import tee, islice\n",
    "import pandas as pd\n",
    "import numpy as np"
   ]
  },
  {
   "cell_type": "code",
   "execution_count": 2,
   "metadata": {},
   "outputs": [],
   "source": [
    "tagset = {'NN', 'NNS', 'NNP', 'NNPS', 'JJ', 'JJR', 'JJS', 'WDT', 'IN', 'DET', 'DT', 'PRP', 'PRP$', 'WP', 'WP$',\n",
    "              'RB', 'RBR', 'RBS', 'EX', 'UH', 'VB', 'VBD', 'VBG', 'VBN', 'VBP', 'VBZ', 'MD'}"
   ]
  },
  {
   "cell_type": "code",
   "execution_count": 3,
   "metadata": {},
   "outputs": [],
   "source": [
    "blogs_tags = pd.read_pickle('../data/blog_pos_tags.pkl')"
   ]
  },
  {
   "cell_type": "code",
   "execution_count": 4,
   "metadata": {},
   "outputs": [],
   "source": [
    "n = blogs_tags.count"
   ]
  },
  {
   "cell_type": "code",
   "execution_count": 5,
   "metadata": {},
   "outputs": [],
   "source": [
    "tag_dict = {'NN': 147426, 'RBS': 519, 'NNPS': 973, 'VBD': 28665, 'VBZ': 17264, 'MD': 6556, 'WP$': 95, 'EX': 1456,\n",
    "                'UH': 854, 'IN': 46408, 'VB': 41655, 'JJR': 3063, 'JJS': 2555, 'PRP': 19567, 'WDT': 2653, 'JJ': 76267,\n",
    "                'VBP': 25877, 'NNS': 47102, 'VBN': 20522, 'DT': 22888, 'RB': 47863, 'WP': 3115, 'VBG': 25179,\n",
    "                'NNP': 69860, 'DET': 0, 'RBR': 1539, 'PRP$': 7978}\n",
    "f1 = ['NN', 'NNPS', 'VBD', 'VBZ', 'MD', 'EX', 'IN', 'VB', 'JJR', 'JJS', 'PRP', 'WDT', 'JJ', 'VBP', 'NNS', 'VBN',\n",
    "          'DT', 'RB', 'WP', 'VBG', 'NNP', 'RBR', 'PRP$']"
   ]
  },
  {
   "cell_type": "code",
   "execution_count": 6,
   "metadata": {},
   "outputs": [],
   "source": [
    "sp1 = [sp for sp in f1]\n",
    "f = [f1]"
   ]
  },
  {
   "cell_type": "code",
   "execution_count": 7,
   "metadata": {},
   "outputs": [],
   "source": [
    "def ngrams(lst, n):\n",
    "    tlst = lst\n",
    "    while True:\n",
    "        a, b = tee(tlst)\n",
    "        l = tuple(islice(a, n))\n",
    "        if len(l) == n:\n",
    "            yield l\n",
    "            next(b)\n",
    "            tlst = b\n",
    "        else:\n",
    "            break"
   ]
  },
  {
   "cell_type": "code",
   "execution_count": 8,
   "metadata": {},
   "outputs": [],
   "source": [
    "ngram_counter = Counter(dict.fromkeys(set(f1), 0))"
   ]
  },
  {
   "cell_type": "code",
   "execution_count": 9,
   "metadata": {},
   "outputs": [],
   "source": [
    "# for fair scp i need probabilities of ngrams of lengths between 1 and MAX_LENGTH (7 in our case)\n",
    "# for this, I need the counts of each ngram of lengths as above and the total count of ngrams of that length\n",
    "# By this both the numerator and the denominator will be taken care of. If I have the above,\n",
    "# the problem will simply boil down to finding the right count from the dictionary\n",
    "\n",
    "# blogs_tags is a sequence of pos tags found for each document\n",
    "# for each document, store count for each distinct n-gram and every possible sequence for n-grams greater than 1"
   ]
  },
  {
   "cell_type": "code",
   "execution_count": 10,
   "metadata": {},
   "outputs": [],
   "source": [
    "tags = blogs_tags.POS.values\n",
    "MAX_LEN = 7"
   ]
  },
  {
   "cell_type": "code",
   "execution_count": 40,
   "metadata": {},
   "outputs": [],
   "source": [
    "for tag_seq in tags:\n",
    "    tag_list = tag_seq.split()\n",
    "    tag_list = [tag for tag in tag_list if tag in set(f1)]\n",
    "    tag_len = len(tag_list)\n",
    "    for i in range(1, MAX_LEN + 1):\n",
    "        ngram_counter += Counter(ngrams(tag_list, i))"
   ]
  },
  {
   "cell_type": "code",
   "execution_count": 41,
   "metadata": {},
   "outputs": [],
   "source": [
    "import pickle\n",
    "with open('../data/corpora_seq_counts', 'wb') as pkldump:\n",
    "    pickle.dump(ngram_counter, pkldump)"
   ]
  },
  {
   "cell_type": "code",
   "execution_count": 42,
   "metadata": {},
   "outputs": [],
   "source": [
    "# from the above dict, find total counts of all uni-grams, bi-grams, so on until MAX_LEN-grams\n",
    "# this means summing up all counts from the dictionary where key length is 1, 2, and so on"
   ]
  },
  {
   "cell_type": "code",
   "execution_count": 49,
   "metadata": {},
   "outputs": [
    {
     "data": {
      "text/plain": [
       "('VBD', 'DT')"
      ]
     },
     "execution_count": 49,
     "metadata": {},
     "output_type": "execute_result"
    }
   ],
   "source": [
    "list(ngram_counter.keys())[129]"
   ]
  },
  {
   "cell_type": "code",
   "execution_count": 52,
   "metadata": {},
   "outputs": [
    {
     "data": {
      "text/plain": [
       "2716"
      ]
     },
     "execution_count": 52,
     "metadata": {},
     "output_type": "execute_result"
    }
   ],
   "source": [
    "ngram_counter[('VBD', 'DT', 'JJ')]"
   ]
  },
  {
   "cell_type": "code",
   "execution_count": 53,
   "metadata": {},
   "outputs": [],
   "source": [
    "gram_counts = np.zeros(MAX_LEN)"
   ]
  },
  {
   "cell_type": "code",
   "execution_count": 59,
   "metadata": {},
   "outputs": [],
   "source": [
    "for n_gram in ngram_counter.keys():\n",
    "    gram_counts[len(n_gram) - 1] += ngram_counter[n_gram]"
   ]
  },
  {
   "cell_type": "code",
   "execution_count": 60,
   "metadata": {},
   "outputs": [
    {
     "data": {
      "text/plain": [
       "array([3757772., 2499230., 1253985., 1304275., 1486943., 1803153.,\n",
       "       2105964.])"
      ]
     },
     "execution_count": 60,
     "metadata": {},
     "output_type": "execute_result"
    }
   ],
   "source": [
    "gram_counts"
   ]
  },
  {
   "cell_type": "code",
   "execution_count": 61,
   "metadata": {},
   "outputs": [],
   "source": [
    "gram_probs = Counter(dict.fromkeys(ngram_counter, 0))"
   ]
  },
  {
   "cell_type": "code",
   "execution_count": 64,
   "metadata": {},
   "outputs": [],
   "source": [
    "for ngram in gram_probs.keys():\n",
    "    gram_probs[ngram] = ngram_counter[ngram] / gram_counts[len(ngram) - 1]"
   ]
  },
  {
   "cell_type": "code",
   "execution_count": 81,
   "metadata": {},
   "outputs": [
    {
     "data": {
      "text/plain": [
       "0.0014370187841162374"
      ]
     },
     "execution_count": 81,
     "metadata": {},
     "output_type": "execute_result"
    }
   ],
   "source": [
    "seq = ('DT','NN','JJ')\n",
    "gram_probs[seq]"
   ]
  },
  {
   "cell_type": "code",
   "execution_count": 83,
   "metadata": {},
   "outputs": [],
   "source": [
    "numerator = (len(seq) - 1) * gram_probs[seq] ** 2"
   ]
  },
  {
   "cell_type": "code",
   "execution_count": 84,
   "metadata": {},
   "outputs": [
    {
     "data": {
      "text/plain": [
       "4.130045971805818e-06"
      ]
     },
     "execution_count": 84,
     "metadata": {},
     "output_type": "execute_result"
    }
   ],
   "source": [
    "numerator"
   ]
  },
  {
   "cell_type": "code",
   "execution_count": 86,
   "metadata": {},
   "outputs": [],
   "source": [
    "denominator = 0\n",
    "for i in range(len(seq) - 1):\n",
    "    denominator += gram_probs[seq[:i + 1]] * gram_probs[seq[i + 1:]]"
   ]
  },
  {
   "cell_type": "code",
   "execution_count": 87,
   "metadata": {},
   "outputs": [
    {
     "data": {
      "text/plain": [
       "0.0008627387961255472"
      ]
     },
     "execution_count": 87,
     "metadata": {},
     "output_type": "execute_result"
    }
   ],
   "source": [
    "numerator / denominator"
   ]
  },
  {
   "cell_type": "code",
   "execution_count": 49,
   "metadata": {},
   "outputs": [],
   "source": [
    "def fairSCP(seq):\n",
    "    print(\"Sequence\", seq)\n",
    "    print(\"Sequence length\", len(seq))\n",
    "    print(\"Probability for\", seq, gram_probs[seq])\n",
    "    numerator = (len(seq) - 1) * gram_probs[seq] ** 2\n",
    "    print(\"Numerator\", numerator)\n",
    "    denominator = 0\n",
    "    print(\"Initial denominator\", denominator)\n",
    "    for i in range(1, len(seq)):\n",
    "        print(\"Sequence substrings\", seq[:i], seq[i:])\n",
    "        print(\"Sequence substring probabilities\", gram_probs[seq[:i]], gram_probs[seq[i:]])\n",
    "        denominator += gram_probs[seq[:i]] * gram_probs[seq[i:]]\n",
    "        print()\n",
    "        print(\"Denominator for\", i, denominator)\n",
    "    return numerator / denominator"
   ]
  },
  {
   "cell_type": "code",
   "execution_count": 56,
   "metadata": {},
   "outputs": [],
   "source": [
    "def count_corpora_pos_sequences(blogs_tags):\n",
    "    ngram_counter = Counter(dict.fromkeys(set(f1), 0))\n",
    "    print(\"Initial Counter\", ngram_counter)\n",
    "#     tags = blogs_tags.POS.values\n",
    "    tags = blogs_tags\n",
    "    print(\"Tags\", tags)\n",
    "    for tag_seq in tags.split():\n",
    "        print(\"Tag Seq\", tag_seq)\n",
    "        tag_list = tag_seq.split()\n",
    "        print(\"Tag List\", tag_list)\n",
    "        tag_list = [tag for tag in tag_list if tag in set(f1)]\n",
    "        print(\"Updated Tag List\", tag_list)\n",
    "        tag_len = len(tag_list)\n",
    "        for i in range(1, 4):\n",
    "            ngram_counter += Counter(ngrams(tag_list, i))\n",
    "            print(\"Counter for length\", i, ngram_counter)\n",
    "    gram_counts = np.zeros(MAX_LEN)\n",
    "    print(\"Initial Gram Counts\", gram_counts)\n",
    "    for n_gram in ngram_counter.keys():\n",
    "        gram_counts[len(n_gram) - 1] += ngram_counter[n_gram]\n",
    "        print(\"Gram Count for \", n_gram, gram_counts[len(n_gram) - 1])\n",
    "    gram_probs = Counter(dict.fromkeys(ngram_counter, 0))\n",
    "    print(\"Initial Gram Probability\", gram_probs)\n",
    "    for ngram in gram_probs.keys():\n",
    "        gram_probs[ngram] = ngram_counter[ngram] / gram_counts[len(ngram) - 1]\n",
    "        print(\"Gram probability for\", ngram, gram_probs[ngram], \"\\n\")\n",
    "    return gram_probs"
   ]
  },
  {
   "cell_type": "code",
   "execution_count": 57,
   "metadata": {},
   "outputs": [],
   "source": [
    "data = ['DT NN VBZ VBN IN NN',\n",
    "        'RB PRP VBP IN VBG DT NN']\n",
    "\n",
    "bt = pd.Series(name='POS', data=data)"
   ]
  },
  {
   "cell_type": "code",
   "execution_count": 60,
   "metadata": {},
   "outputs": [],
   "source": [
    "f1 = ['DT', 'NN', 'VBZ', 'VBN', 'IN', 'RB', 'PRP', 'VBP', 'VBG']\n",
    "MAX_LEN = 3"
   ]
  },
  {
   "cell_type": "code",
   "execution_count": 16,
   "metadata": {},
   "outputs": [],
   "source": [
    "t = pd.DataFrame(bt)"
   ]
  },
  {
   "cell_type": "code",
   "execution_count": 129,
   "metadata": {},
   "outputs": [
    {
     "name": "stdout",
     "output_type": "stream",
     "text": [
      "Initial Counter Counter({'VBP': 0, 'IN': 0, 'DT': 0, 'NN': 0, 'PRP': 0, 'VBG': 0, 'VBZ': 0, 'VBN': 0, 'RB': 0})\n",
      "Tags ['DT NN VBZ VBN IN NN' 'RB PRP VBP IN VBG DT NN']\n",
      "Tag Seq DT NN VBZ VBN IN NN\n",
      "Tag List ['DT', 'NN', 'VBZ', 'VBN', 'IN', 'NN']\n",
      "Updated Tag List ['DT', 'NN', 'VBZ', 'VBN', 'IN', 'NN']\n",
      "Counter for length 1 Counter({('NN',): 2, ('DT',): 1, ('VBZ',): 1, ('VBN',): 1, ('IN',): 1})\n",
      "Counter for length 2 Counter({('NN',): 2, ('DT',): 1, ('VBZ',): 1, ('VBN',): 1, ('IN',): 1, ('DT', 'NN'): 1, ('NN', 'VBZ'): 1, ('VBZ', 'VBN'): 1, ('VBN', 'IN'): 1, ('IN', 'NN'): 1})\n",
      "Counter for length 3 Counter({('NN',): 2, ('DT',): 1, ('VBZ',): 1, ('VBN',): 1, ('IN',): 1, ('DT', 'NN'): 1, ('NN', 'VBZ'): 1, ('VBZ', 'VBN'): 1, ('VBN', 'IN'): 1, ('IN', 'NN'): 1, ('DT', 'NN', 'VBZ'): 1, ('NN', 'VBZ', 'VBN'): 1, ('VBZ', 'VBN', 'IN'): 1, ('VBN', 'IN', 'NN'): 1})\n",
      "Tag Seq RB PRP VBP IN VBG DT NN\n",
      "Tag List ['RB', 'PRP', 'VBP', 'IN', 'VBG', 'DT', 'NN']\n",
      "Updated Tag List ['RB', 'PRP', 'VBP', 'IN', 'VBG', 'DT', 'NN']\n",
      "Counter for length 1 Counter({('NN',): 3, ('DT',): 2, ('IN',): 2, ('VBZ',): 1, ('VBN',): 1, ('DT', 'NN'): 1, ('NN', 'VBZ'): 1, ('VBZ', 'VBN'): 1, ('VBN', 'IN'): 1, ('IN', 'NN'): 1, ('DT', 'NN', 'VBZ'): 1, ('NN', 'VBZ', 'VBN'): 1, ('VBZ', 'VBN', 'IN'): 1, ('VBN', 'IN', 'NN'): 1, ('RB',): 1, ('PRP',): 1, ('VBP',): 1, ('VBG',): 1})\n",
      "Counter for length 2 Counter({('NN',): 3, ('DT',): 2, ('IN',): 2, ('DT', 'NN'): 2, ('VBZ',): 1, ('VBN',): 1, ('NN', 'VBZ'): 1, ('VBZ', 'VBN'): 1, ('VBN', 'IN'): 1, ('IN', 'NN'): 1, ('DT', 'NN', 'VBZ'): 1, ('NN', 'VBZ', 'VBN'): 1, ('VBZ', 'VBN', 'IN'): 1, ('VBN', 'IN', 'NN'): 1, ('RB',): 1, ('PRP',): 1, ('VBP',): 1, ('VBG',): 1, ('RB', 'PRP'): 1, ('PRP', 'VBP'): 1, ('VBP', 'IN'): 1, ('IN', 'VBG'): 1, ('VBG', 'DT'): 1})\n",
      "Counter for length 3 Counter({('NN',): 3, ('DT',): 2, ('IN',): 2, ('DT', 'NN'): 2, ('VBZ',): 1, ('VBN',): 1, ('NN', 'VBZ'): 1, ('VBZ', 'VBN'): 1, ('VBN', 'IN'): 1, ('IN', 'NN'): 1, ('DT', 'NN', 'VBZ'): 1, ('NN', 'VBZ', 'VBN'): 1, ('VBZ', 'VBN', 'IN'): 1, ('VBN', 'IN', 'NN'): 1, ('RB',): 1, ('PRP',): 1, ('VBP',): 1, ('VBG',): 1, ('RB', 'PRP'): 1, ('PRP', 'VBP'): 1, ('VBP', 'IN'): 1, ('IN', 'VBG'): 1, ('VBG', 'DT'): 1, ('RB', 'PRP', 'VBP'): 1, ('PRP', 'VBP', 'IN'): 1, ('VBP', 'IN', 'VBG'): 1, ('IN', 'VBG', 'DT'): 1, ('VBG', 'DT', 'NN'): 1})\n",
      "Initial Gram Counts [0. 0. 0.]\n",
      "Gram Count for  ('DT',) [2. 0. 0.]\n",
      "Gram Count for  ('NN',) [5. 0. 0.]\n",
      "Gram Count for  ('VBZ',) [6. 0. 0.]\n",
      "Gram Count for  ('VBN',) [7. 0. 0.]\n",
      "Gram Count for  ('IN',) [9. 0. 0.]\n",
      "Gram Count for  ('DT', 'NN') [9. 2. 0.]\n",
      "Gram Count for  ('NN', 'VBZ') [9. 3. 0.]\n",
      "Gram Count for  ('VBZ', 'VBN') [9. 4. 0.]\n",
      "Gram Count for  ('VBN', 'IN') [9. 5. 0.]\n",
      "Gram Count for  ('IN', 'NN') [9. 6. 0.]\n",
      "Gram Count for  ('DT', 'NN', 'VBZ') [9. 6. 1.]\n",
      "Gram Count for  ('NN', 'VBZ', 'VBN') [9. 6. 2.]\n",
      "Gram Count for  ('VBZ', 'VBN', 'IN') [9. 6. 3.]\n",
      "Gram Count for  ('VBN', 'IN', 'NN') [9. 6. 4.]\n",
      "Gram Count for  ('RB',) [10.  6.  4.]\n",
      "Gram Count for  ('PRP',) [11.  6.  4.]\n",
      "Gram Count for  ('VBP',) [12.  6.  4.]\n",
      "Gram Count for  ('VBG',) [13.  6.  4.]\n",
      "Gram Count for  ('RB', 'PRP') [13.  7.  4.]\n",
      "Gram Count for  ('PRP', 'VBP') [13.  8.  4.]\n",
      "Gram Count for  ('VBP', 'IN') [13.  9.  4.]\n",
      "Gram Count for  ('IN', 'VBG') [13. 10.  4.]\n",
      "Gram Count for  ('VBG', 'DT') [13. 11.  4.]\n",
      "Gram Count for  ('RB', 'PRP', 'VBP') [13. 11.  5.]\n",
      "Gram Count for  ('PRP', 'VBP', 'IN') [13. 11.  6.]\n",
      "Gram Count for  ('VBP', 'IN', 'VBG') [13. 11.  7.]\n",
      "Gram Count for  ('IN', 'VBG', 'DT') [13. 11.  8.]\n",
      "Gram Count for  ('VBG', 'DT', 'NN') [13. 11.  9.]\n",
      "Initial Gram Probability Counter({('DT',): 0, ('NN',): 0, ('VBZ',): 0, ('VBN',): 0, ('IN',): 0, ('DT', 'NN'): 0, ('NN', 'VBZ'): 0, ('VBZ', 'VBN'): 0, ('VBN', 'IN'): 0, ('IN', 'NN'): 0, ('DT', 'NN', 'VBZ'): 0, ('NN', 'VBZ', 'VBN'): 0, ('VBZ', 'VBN', 'IN'): 0, ('VBN', 'IN', 'NN'): 0, ('RB',): 0, ('PRP',): 0, ('VBP',): 0, ('VBG',): 0, ('RB', 'PRP'): 0, ('PRP', 'VBP'): 0, ('VBP', 'IN'): 0, ('IN', 'VBG'): 0, ('VBG', 'DT'): 0, ('RB', 'PRP', 'VBP'): 0, ('PRP', 'VBP', 'IN'): 0, ('VBP', 'IN', 'VBG'): 0, ('IN', 'VBG', 'DT'): 0, ('VBG', 'DT', 'NN'): 0})\n",
      "Gram probability for ('DT',) Counter({('DT',): 0.15384615384615385, ('NN',): 0, ('VBZ',): 0, ('VBN',): 0, ('IN',): 0, ('DT', 'NN'): 0, ('NN', 'VBZ'): 0, ('VBZ', 'VBN'): 0, ('VBN', 'IN'): 0, ('IN', 'NN'): 0, ('DT', 'NN', 'VBZ'): 0, ('NN', 'VBZ', 'VBN'): 0, ('VBZ', 'VBN', 'IN'): 0, ('VBN', 'IN', 'NN'): 0, ('RB',): 0, ('PRP',): 0, ('VBP',): 0, ('VBG',): 0, ('RB', 'PRP'): 0, ('PRP', 'VBP'): 0, ('VBP', 'IN'): 0, ('IN', 'VBG'): 0, ('VBG', 'DT'): 0, ('RB', 'PRP', 'VBP'): 0, ('PRP', 'VBP', 'IN'): 0, ('VBP', 'IN', 'VBG'): 0, ('IN', 'VBG', 'DT'): 0, ('VBG', 'DT', 'NN'): 0}) \n",
      "\n",
      "Gram probability for ('NN',) Counter({('NN',): 0.23076923076923078, ('DT',): 0.15384615384615385, ('VBZ',): 0, ('VBN',): 0, ('IN',): 0, ('DT', 'NN'): 0, ('NN', 'VBZ'): 0, ('VBZ', 'VBN'): 0, ('VBN', 'IN'): 0, ('IN', 'NN'): 0, ('DT', 'NN', 'VBZ'): 0, ('NN', 'VBZ', 'VBN'): 0, ('VBZ', 'VBN', 'IN'): 0, ('VBN', 'IN', 'NN'): 0, ('RB',): 0, ('PRP',): 0, ('VBP',): 0, ('VBG',): 0, ('RB', 'PRP'): 0, ('PRP', 'VBP'): 0, ('VBP', 'IN'): 0, ('IN', 'VBG'): 0, ('VBG', 'DT'): 0, ('RB', 'PRP', 'VBP'): 0, ('PRP', 'VBP', 'IN'): 0, ('VBP', 'IN', 'VBG'): 0, ('IN', 'VBG', 'DT'): 0, ('VBG', 'DT', 'NN'): 0}) \n",
      "\n",
      "Gram probability for ('VBZ',) Counter({('NN',): 0.23076923076923078, ('DT',): 0.15384615384615385, ('VBZ',): 0.07692307692307693, ('VBN',): 0, ('IN',): 0, ('DT', 'NN'): 0, ('NN', 'VBZ'): 0, ('VBZ', 'VBN'): 0, ('VBN', 'IN'): 0, ('IN', 'NN'): 0, ('DT', 'NN', 'VBZ'): 0, ('NN', 'VBZ', 'VBN'): 0, ('VBZ', 'VBN', 'IN'): 0, ('VBN', 'IN', 'NN'): 0, ('RB',): 0, ('PRP',): 0, ('VBP',): 0, ('VBG',): 0, ('RB', 'PRP'): 0, ('PRP', 'VBP'): 0, ('VBP', 'IN'): 0, ('IN', 'VBG'): 0, ('VBG', 'DT'): 0, ('RB', 'PRP', 'VBP'): 0, ('PRP', 'VBP', 'IN'): 0, ('VBP', 'IN', 'VBG'): 0, ('IN', 'VBG', 'DT'): 0, ('VBG', 'DT', 'NN'): 0}) \n",
      "\n",
      "Gram probability for ('VBN',) Counter({('NN',): 0.23076923076923078, ('DT',): 0.15384615384615385, ('VBZ',): 0.07692307692307693, ('VBN',): 0.07692307692307693, ('IN',): 0, ('DT', 'NN'): 0, ('NN', 'VBZ'): 0, ('VBZ', 'VBN'): 0, ('VBN', 'IN'): 0, ('IN', 'NN'): 0, ('DT', 'NN', 'VBZ'): 0, ('NN', 'VBZ', 'VBN'): 0, ('VBZ', 'VBN', 'IN'): 0, ('VBN', 'IN', 'NN'): 0, ('RB',): 0, ('PRP',): 0, ('VBP',): 0, ('VBG',): 0, ('RB', 'PRP'): 0, ('PRP', 'VBP'): 0, ('VBP', 'IN'): 0, ('IN', 'VBG'): 0, ('VBG', 'DT'): 0, ('RB', 'PRP', 'VBP'): 0, ('PRP', 'VBP', 'IN'): 0, ('VBP', 'IN', 'VBG'): 0, ('IN', 'VBG', 'DT'): 0, ('VBG', 'DT', 'NN'): 0}) \n",
      "\n",
      "Gram probability for ('IN',) Counter({('NN',): 0.23076923076923078, ('DT',): 0.15384615384615385, ('IN',): 0.15384615384615385, ('VBZ',): 0.07692307692307693, ('VBN',): 0.07692307692307693, ('DT', 'NN'): 0, ('NN', 'VBZ'): 0, ('VBZ', 'VBN'): 0, ('VBN', 'IN'): 0, ('IN', 'NN'): 0, ('DT', 'NN', 'VBZ'): 0, ('NN', 'VBZ', 'VBN'): 0, ('VBZ', 'VBN', 'IN'): 0, ('VBN', 'IN', 'NN'): 0, ('RB',): 0, ('PRP',): 0, ('VBP',): 0, ('VBG',): 0, ('RB', 'PRP'): 0, ('PRP', 'VBP'): 0, ('VBP', 'IN'): 0, ('IN', 'VBG'): 0, ('VBG', 'DT'): 0, ('RB', 'PRP', 'VBP'): 0, ('PRP', 'VBP', 'IN'): 0, ('VBP', 'IN', 'VBG'): 0, ('IN', 'VBG', 'DT'): 0, ('VBG', 'DT', 'NN'): 0}) \n",
      "\n",
      "Gram probability for ('DT', 'NN') Counter({('NN',): 0.23076923076923078, ('DT', 'NN'): 0.18181818181818182, ('DT',): 0.15384615384615385, ('IN',): 0.15384615384615385, ('VBZ',): 0.07692307692307693, ('VBN',): 0.07692307692307693, ('NN', 'VBZ'): 0, ('VBZ', 'VBN'): 0, ('VBN', 'IN'): 0, ('IN', 'NN'): 0, ('DT', 'NN', 'VBZ'): 0, ('NN', 'VBZ', 'VBN'): 0, ('VBZ', 'VBN', 'IN'): 0, ('VBN', 'IN', 'NN'): 0, ('RB',): 0, ('PRP',): 0, ('VBP',): 0, ('VBG',): 0, ('RB', 'PRP'): 0, ('PRP', 'VBP'): 0, ('VBP', 'IN'): 0, ('IN', 'VBG'): 0, ('VBG', 'DT'): 0, ('RB', 'PRP', 'VBP'): 0, ('PRP', 'VBP', 'IN'): 0, ('VBP', 'IN', 'VBG'): 0, ('IN', 'VBG', 'DT'): 0, ('VBG', 'DT', 'NN'): 0}) \n",
      "\n",
      "Gram probability for ('NN', 'VBZ') Counter({('NN',): 0.23076923076923078, ('DT', 'NN'): 0.18181818181818182, ('DT',): 0.15384615384615385, ('IN',): 0.15384615384615385, ('NN', 'VBZ'): 0.09090909090909091, ('VBZ',): 0.07692307692307693, ('VBN',): 0.07692307692307693, ('VBZ', 'VBN'): 0, ('VBN', 'IN'): 0, ('IN', 'NN'): 0, ('DT', 'NN', 'VBZ'): 0, ('NN', 'VBZ', 'VBN'): 0, ('VBZ', 'VBN', 'IN'): 0, ('VBN', 'IN', 'NN'): 0, ('RB',): 0, ('PRP',): 0, ('VBP',): 0, ('VBG',): 0, ('RB', 'PRP'): 0, ('PRP', 'VBP'): 0, ('VBP', 'IN'): 0, ('IN', 'VBG'): 0, ('VBG', 'DT'): 0, ('RB', 'PRP', 'VBP'): 0, ('PRP', 'VBP', 'IN'): 0, ('VBP', 'IN', 'VBG'): 0, ('IN', 'VBG', 'DT'): 0, ('VBG', 'DT', 'NN'): 0}) \n",
      "\n",
      "Gram probability for ('VBZ', 'VBN') Counter({('NN',): 0.23076923076923078, ('DT', 'NN'): 0.18181818181818182, ('DT',): 0.15384615384615385, ('IN',): 0.15384615384615385, ('NN', 'VBZ'): 0.09090909090909091, ('VBZ', 'VBN'): 0.09090909090909091, ('VBZ',): 0.07692307692307693, ('VBN',): 0.07692307692307693, ('VBN', 'IN'): 0, ('IN', 'NN'): 0, ('DT', 'NN', 'VBZ'): 0, ('NN', 'VBZ', 'VBN'): 0, ('VBZ', 'VBN', 'IN'): 0, ('VBN', 'IN', 'NN'): 0, ('RB',): 0, ('PRP',): 0, ('VBP',): 0, ('VBG',): 0, ('RB', 'PRP'): 0, ('PRP', 'VBP'): 0, ('VBP', 'IN'): 0, ('IN', 'VBG'): 0, ('VBG', 'DT'): 0, ('RB', 'PRP', 'VBP'): 0, ('PRP', 'VBP', 'IN'): 0, ('VBP', 'IN', 'VBG'): 0, ('IN', 'VBG', 'DT'): 0, ('VBG', 'DT', 'NN'): 0}) \n",
      "\n",
      "Gram probability for ('VBN', 'IN') Counter({('NN',): 0.23076923076923078, ('DT', 'NN'): 0.18181818181818182, ('DT',): 0.15384615384615385, ('IN',): 0.15384615384615385, ('NN', 'VBZ'): 0.09090909090909091, ('VBZ', 'VBN'): 0.09090909090909091, ('VBN', 'IN'): 0.09090909090909091, ('VBZ',): 0.07692307692307693, ('VBN',): 0.07692307692307693, ('IN', 'NN'): 0, ('DT', 'NN', 'VBZ'): 0, ('NN', 'VBZ', 'VBN'): 0, ('VBZ', 'VBN', 'IN'): 0, ('VBN', 'IN', 'NN'): 0, ('RB',): 0, ('PRP',): 0, ('VBP',): 0, ('VBG',): 0, ('RB', 'PRP'): 0, ('PRP', 'VBP'): 0, ('VBP', 'IN'): 0, ('IN', 'VBG'): 0, ('VBG', 'DT'): 0, ('RB', 'PRP', 'VBP'): 0, ('PRP', 'VBP', 'IN'): 0, ('VBP', 'IN', 'VBG'): 0, ('IN', 'VBG', 'DT'): 0, ('VBG', 'DT', 'NN'): 0}) \n",
      "\n",
      "Gram probability for ('IN', 'NN') Counter({('NN',): 0.23076923076923078, ('DT', 'NN'): 0.18181818181818182, ('DT',): 0.15384615384615385, ('IN',): 0.15384615384615385, ('NN', 'VBZ'): 0.09090909090909091, ('VBZ', 'VBN'): 0.09090909090909091, ('VBN', 'IN'): 0.09090909090909091, ('IN', 'NN'): 0.09090909090909091, ('VBZ',): 0.07692307692307693, ('VBN',): 0.07692307692307693, ('DT', 'NN', 'VBZ'): 0, ('NN', 'VBZ', 'VBN'): 0, ('VBZ', 'VBN', 'IN'): 0, ('VBN', 'IN', 'NN'): 0, ('RB',): 0, ('PRP',): 0, ('VBP',): 0, ('VBG',): 0, ('RB', 'PRP'): 0, ('PRP', 'VBP'): 0, ('VBP', 'IN'): 0, ('IN', 'VBG'): 0, ('VBG', 'DT'): 0, ('RB', 'PRP', 'VBP'): 0, ('PRP', 'VBP', 'IN'): 0, ('VBP', 'IN', 'VBG'): 0, ('IN', 'VBG', 'DT'): 0, ('VBG', 'DT', 'NN'): 0}) \n",
      "\n",
      "Gram probability for ('DT', 'NN', 'VBZ') Counter({('NN',): 0.23076923076923078, ('DT', 'NN'): 0.18181818181818182, ('DT',): 0.15384615384615385, ('IN',): 0.15384615384615385, ('DT', 'NN', 'VBZ'): 0.1111111111111111, ('NN', 'VBZ'): 0.09090909090909091, ('VBZ', 'VBN'): 0.09090909090909091, ('VBN', 'IN'): 0.09090909090909091, ('IN', 'NN'): 0.09090909090909091, ('VBZ',): 0.07692307692307693, ('VBN',): 0.07692307692307693, ('NN', 'VBZ', 'VBN'): 0, ('VBZ', 'VBN', 'IN'): 0, ('VBN', 'IN', 'NN'): 0, ('RB',): 0, ('PRP',): 0, ('VBP',): 0, ('VBG',): 0, ('RB', 'PRP'): 0, ('PRP', 'VBP'): 0, ('VBP', 'IN'): 0, ('IN', 'VBG'): 0, ('VBG', 'DT'): 0, ('RB', 'PRP', 'VBP'): 0, ('PRP', 'VBP', 'IN'): 0, ('VBP', 'IN', 'VBG'): 0, ('IN', 'VBG', 'DT'): 0, ('VBG', 'DT', 'NN'): 0}) \n",
      "\n",
      "Gram probability for ('NN', 'VBZ', 'VBN') Counter({('NN',): 0.23076923076923078, ('DT', 'NN'): 0.18181818181818182, ('DT',): 0.15384615384615385, ('IN',): 0.15384615384615385, ('DT', 'NN', 'VBZ'): 0.1111111111111111, ('NN', 'VBZ', 'VBN'): 0.1111111111111111, ('NN', 'VBZ'): 0.09090909090909091, ('VBZ', 'VBN'): 0.09090909090909091, ('VBN', 'IN'): 0.09090909090909091, ('IN', 'NN'): 0.09090909090909091, ('VBZ',): 0.07692307692307693, ('VBN',): 0.07692307692307693, ('VBZ', 'VBN', 'IN'): 0, ('VBN', 'IN', 'NN'): 0, ('RB',): 0, ('PRP',): 0, ('VBP',): 0, ('VBG',): 0, ('RB', 'PRP'): 0, ('PRP', 'VBP'): 0, ('VBP', 'IN'): 0, ('IN', 'VBG'): 0, ('VBG', 'DT'): 0, ('RB', 'PRP', 'VBP'): 0, ('PRP', 'VBP', 'IN'): 0, ('VBP', 'IN', 'VBG'): 0, ('IN', 'VBG', 'DT'): 0, ('VBG', 'DT', 'NN'): 0}) \n",
      "\n",
      "Gram probability for ('VBZ', 'VBN', 'IN') Counter({('NN',): 0.23076923076923078, ('DT', 'NN'): 0.18181818181818182, ('DT',): 0.15384615384615385, ('IN',): 0.15384615384615385, ('DT', 'NN', 'VBZ'): 0.1111111111111111, ('NN', 'VBZ', 'VBN'): 0.1111111111111111, ('VBZ', 'VBN', 'IN'): 0.1111111111111111, ('NN', 'VBZ'): 0.09090909090909091, ('VBZ', 'VBN'): 0.09090909090909091, ('VBN', 'IN'): 0.09090909090909091, ('IN', 'NN'): 0.09090909090909091, ('VBZ',): 0.07692307692307693, ('VBN',): 0.07692307692307693, ('VBN', 'IN', 'NN'): 0, ('RB',): 0, ('PRP',): 0, ('VBP',): 0, ('VBG',): 0, ('RB', 'PRP'): 0, ('PRP', 'VBP'): 0, ('VBP', 'IN'): 0, ('IN', 'VBG'): 0, ('VBG', 'DT'): 0, ('RB', 'PRP', 'VBP'): 0, ('PRP', 'VBP', 'IN'): 0, ('VBP', 'IN', 'VBG'): 0, ('IN', 'VBG', 'DT'): 0, ('VBG', 'DT', 'NN'): 0}) \n",
      "\n",
      "Gram probability for ('VBN', 'IN', 'NN') Counter({('NN',): 0.23076923076923078, ('DT', 'NN'): 0.18181818181818182, ('DT',): 0.15384615384615385, ('IN',): 0.15384615384615385, ('DT', 'NN', 'VBZ'): 0.1111111111111111, ('NN', 'VBZ', 'VBN'): 0.1111111111111111, ('VBZ', 'VBN', 'IN'): 0.1111111111111111, ('VBN', 'IN', 'NN'): 0.1111111111111111, ('NN', 'VBZ'): 0.09090909090909091, ('VBZ', 'VBN'): 0.09090909090909091, ('VBN', 'IN'): 0.09090909090909091, ('IN', 'NN'): 0.09090909090909091, ('VBZ',): 0.07692307692307693, ('VBN',): 0.07692307692307693, ('RB',): 0, ('PRP',): 0, ('VBP',): 0, ('VBG',): 0, ('RB', 'PRP'): 0, ('PRP', 'VBP'): 0, ('VBP', 'IN'): 0, ('IN', 'VBG'): 0, ('VBG', 'DT'): 0, ('RB', 'PRP', 'VBP'): 0, ('PRP', 'VBP', 'IN'): 0, ('VBP', 'IN', 'VBG'): 0, ('IN', 'VBG', 'DT'): 0, ('VBG', 'DT', 'NN'): 0}) \n",
      "\n",
      "Gram probability for ('RB',) Counter({('NN',): 0.23076923076923078, ('DT', 'NN'): 0.18181818181818182, ('DT',): 0.15384615384615385, ('IN',): 0.15384615384615385, ('DT', 'NN', 'VBZ'): 0.1111111111111111, ('NN', 'VBZ', 'VBN'): 0.1111111111111111, ('VBZ', 'VBN', 'IN'): 0.1111111111111111, ('VBN', 'IN', 'NN'): 0.1111111111111111, ('NN', 'VBZ'): 0.09090909090909091, ('VBZ', 'VBN'): 0.09090909090909091, ('VBN', 'IN'): 0.09090909090909091, ('IN', 'NN'): 0.09090909090909091, ('VBZ',): 0.07692307692307693, ('VBN',): 0.07692307692307693, ('RB',): 0.07692307692307693, ('PRP',): 0, ('VBP',): 0, ('VBG',): 0, ('RB', 'PRP'): 0, ('PRP', 'VBP'): 0, ('VBP', 'IN'): 0, ('IN', 'VBG'): 0, ('VBG', 'DT'): 0, ('RB', 'PRP', 'VBP'): 0, ('PRP', 'VBP', 'IN'): 0, ('VBP', 'IN', 'VBG'): 0, ('IN', 'VBG', 'DT'): 0, ('VBG', 'DT', 'NN'): 0}) \n",
      "\n",
      "Gram probability for ('PRP',) Counter({('NN',): 0.23076923076923078, ('DT', 'NN'): 0.18181818181818182, ('DT',): 0.15384615384615385, ('IN',): 0.15384615384615385, ('DT', 'NN', 'VBZ'): 0.1111111111111111, ('NN', 'VBZ', 'VBN'): 0.1111111111111111, ('VBZ', 'VBN', 'IN'): 0.1111111111111111, ('VBN', 'IN', 'NN'): 0.1111111111111111, ('NN', 'VBZ'): 0.09090909090909091, ('VBZ', 'VBN'): 0.09090909090909091, ('VBN', 'IN'): 0.09090909090909091, ('IN', 'NN'): 0.09090909090909091, ('VBZ',): 0.07692307692307693, ('VBN',): 0.07692307692307693, ('RB',): 0.07692307692307693, ('PRP',): 0.07692307692307693, ('VBP',): 0, ('VBG',): 0, ('RB', 'PRP'): 0, ('PRP', 'VBP'): 0, ('VBP', 'IN'): 0, ('IN', 'VBG'): 0, ('VBG', 'DT'): 0, ('RB', 'PRP', 'VBP'): 0, ('PRP', 'VBP', 'IN'): 0, ('VBP', 'IN', 'VBG'): 0, ('IN', 'VBG', 'DT'): 0, ('VBG', 'DT', 'NN'): 0}) \n",
      "\n",
      "Gram probability for ('VBP',) Counter({('NN',): 0.23076923076923078, ('DT', 'NN'): 0.18181818181818182, ('DT',): 0.15384615384615385, ('IN',): 0.15384615384615385, ('DT', 'NN', 'VBZ'): 0.1111111111111111, ('NN', 'VBZ', 'VBN'): 0.1111111111111111, ('VBZ', 'VBN', 'IN'): 0.1111111111111111, ('VBN', 'IN', 'NN'): 0.1111111111111111, ('NN', 'VBZ'): 0.09090909090909091, ('VBZ', 'VBN'): 0.09090909090909091, ('VBN', 'IN'): 0.09090909090909091, ('IN', 'NN'): 0.09090909090909091, ('VBZ',): 0.07692307692307693, ('VBN',): 0.07692307692307693, ('RB',): 0.07692307692307693, ('PRP',): 0.07692307692307693, ('VBP',): 0.07692307692307693, ('VBG',): 0, ('RB', 'PRP'): 0, ('PRP', 'VBP'): 0, ('VBP', 'IN'): 0, ('IN', 'VBG'): 0, ('VBG', 'DT'): 0, ('RB', 'PRP', 'VBP'): 0, ('PRP', 'VBP', 'IN'): 0, ('VBP', 'IN', 'VBG'): 0, ('IN', 'VBG', 'DT'): 0, ('VBG', 'DT', 'NN'): 0}) \n",
      "\n",
      "Gram probability for ('VBG',) Counter({('NN',): 0.23076923076923078, ('DT', 'NN'): 0.18181818181818182, ('DT',): 0.15384615384615385, ('IN',): 0.15384615384615385, ('DT', 'NN', 'VBZ'): 0.1111111111111111, ('NN', 'VBZ', 'VBN'): 0.1111111111111111, ('VBZ', 'VBN', 'IN'): 0.1111111111111111, ('VBN', 'IN', 'NN'): 0.1111111111111111, ('NN', 'VBZ'): 0.09090909090909091, ('VBZ', 'VBN'): 0.09090909090909091, ('VBN', 'IN'): 0.09090909090909091, ('IN', 'NN'): 0.09090909090909091, ('VBZ',): 0.07692307692307693, ('VBN',): 0.07692307692307693, ('RB',): 0.07692307692307693, ('PRP',): 0.07692307692307693, ('VBP',): 0.07692307692307693, ('VBG',): 0.07692307692307693, ('RB', 'PRP'): 0, ('PRP', 'VBP'): 0, ('VBP', 'IN'): 0, ('IN', 'VBG'): 0, ('VBG', 'DT'): 0, ('RB', 'PRP', 'VBP'): 0, ('PRP', 'VBP', 'IN'): 0, ('VBP', 'IN', 'VBG'): 0, ('IN', 'VBG', 'DT'): 0, ('VBG', 'DT', 'NN'): 0}) \n",
      "\n",
      "Gram probability for ('RB', 'PRP') Counter({('NN',): 0.23076923076923078, ('DT', 'NN'): 0.18181818181818182, ('DT',): 0.15384615384615385, ('IN',): 0.15384615384615385, ('DT', 'NN', 'VBZ'): 0.1111111111111111, ('NN', 'VBZ', 'VBN'): 0.1111111111111111, ('VBZ', 'VBN', 'IN'): 0.1111111111111111, ('VBN', 'IN', 'NN'): 0.1111111111111111, ('NN', 'VBZ'): 0.09090909090909091, ('VBZ', 'VBN'): 0.09090909090909091, ('VBN', 'IN'): 0.09090909090909091, ('IN', 'NN'): 0.09090909090909091, ('RB', 'PRP'): 0.09090909090909091, ('VBZ',): 0.07692307692307693, ('VBN',): 0.07692307692307693, ('RB',): 0.07692307692307693, ('PRP',): 0.07692307692307693, ('VBP',): 0.07692307692307693, ('VBG',): 0.07692307692307693, ('PRP', 'VBP'): 0, ('VBP', 'IN'): 0, ('IN', 'VBG'): 0, ('VBG', 'DT'): 0, ('RB', 'PRP', 'VBP'): 0, ('PRP', 'VBP', 'IN'): 0, ('VBP', 'IN', 'VBG'): 0, ('IN', 'VBG', 'DT'): 0, ('VBG', 'DT', 'NN'): 0}) \n",
      "\n",
      "Gram probability for ('PRP', 'VBP') Counter({('NN',): 0.23076923076923078, ('DT', 'NN'): 0.18181818181818182, ('DT',): 0.15384615384615385, ('IN',): 0.15384615384615385, ('DT', 'NN', 'VBZ'): 0.1111111111111111, ('NN', 'VBZ', 'VBN'): 0.1111111111111111, ('VBZ', 'VBN', 'IN'): 0.1111111111111111, ('VBN', 'IN', 'NN'): 0.1111111111111111, ('NN', 'VBZ'): 0.09090909090909091, ('VBZ', 'VBN'): 0.09090909090909091, ('VBN', 'IN'): 0.09090909090909091, ('IN', 'NN'): 0.09090909090909091, ('RB', 'PRP'): 0.09090909090909091, ('PRP', 'VBP'): 0.09090909090909091, ('VBZ',): 0.07692307692307693, ('VBN',): 0.07692307692307693, ('RB',): 0.07692307692307693, ('PRP',): 0.07692307692307693, ('VBP',): 0.07692307692307693, ('VBG',): 0.07692307692307693, ('VBP', 'IN'): 0, ('IN', 'VBG'): 0, ('VBG', 'DT'): 0, ('RB', 'PRP', 'VBP'): 0, ('PRP', 'VBP', 'IN'): 0, ('VBP', 'IN', 'VBG'): 0, ('IN', 'VBG', 'DT'): 0, ('VBG', 'DT', 'NN'): 0}) \n",
      "\n",
      "Gram probability for ('VBP', 'IN') Counter({('NN',): 0.23076923076923078, ('DT', 'NN'): 0.18181818181818182, ('DT',): 0.15384615384615385, ('IN',): 0.15384615384615385, ('DT', 'NN', 'VBZ'): 0.1111111111111111, ('NN', 'VBZ', 'VBN'): 0.1111111111111111, ('VBZ', 'VBN', 'IN'): 0.1111111111111111, ('VBN', 'IN', 'NN'): 0.1111111111111111, ('NN', 'VBZ'): 0.09090909090909091, ('VBZ', 'VBN'): 0.09090909090909091, ('VBN', 'IN'): 0.09090909090909091, ('IN', 'NN'): 0.09090909090909091, ('RB', 'PRP'): 0.09090909090909091, ('PRP', 'VBP'): 0.09090909090909091, ('VBP', 'IN'): 0.09090909090909091, ('VBZ',): 0.07692307692307693, ('VBN',): 0.07692307692307693, ('RB',): 0.07692307692307693, ('PRP',): 0.07692307692307693, ('VBP',): 0.07692307692307693, ('VBG',): 0.07692307692307693, ('IN', 'VBG'): 0, ('VBG', 'DT'): 0, ('RB', 'PRP', 'VBP'): 0, ('PRP', 'VBP', 'IN'): 0, ('VBP', 'IN', 'VBG'): 0, ('IN', 'VBG', 'DT'): 0, ('VBG', 'DT', 'NN'): 0}) \n",
      "\n",
      "Gram probability for ('IN', 'VBG') Counter({('NN',): 0.23076923076923078, ('DT', 'NN'): 0.18181818181818182, ('DT',): 0.15384615384615385, ('IN',): 0.15384615384615385, ('DT', 'NN', 'VBZ'): 0.1111111111111111, ('NN', 'VBZ', 'VBN'): 0.1111111111111111, ('VBZ', 'VBN', 'IN'): 0.1111111111111111, ('VBN', 'IN', 'NN'): 0.1111111111111111, ('NN', 'VBZ'): 0.09090909090909091, ('VBZ', 'VBN'): 0.09090909090909091, ('VBN', 'IN'): 0.09090909090909091, ('IN', 'NN'): 0.09090909090909091, ('RB', 'PRP'): 0.09090909090909091, ('PRP', 'VBP'): 0.09090909090909091, ('VBP', 'IN'): 0.09090909090909091, ('IN', 'VBG'): 0.09090909090909091, ('VBZ',): 0.07692307692307693, ('VBN',): 0.07692307692307693, ('RB',): 0.07692307692307693, ('PRP',): 0.07692307692307693, ('VBP',): 0.07692307692307693, ('VBG',): 0.07692307692307693, ('VBG', 'DT'): 0, ('RB', 'PRP', 'VBP'): 0, ('PRP', 'VBP', 'IN'): 0, ('VBP', 'IN', 'VBG'): 0, ('IN', 'VBG', 'DT'): 0, ('VBG', 'DT', 'NN'): 0}) \n",
      "\n",
      "Gram probability for ('VBG', 'DT') Counter({('NN',): 0.23076923076923078, ('DT', 'NN'): 0.18181818181818182, ('DT',): 0.15384615384615385, ('IN',): 0.15384615384615385, ('DT', 'NN', 'VBZ'): 0.1111111111111111, ('NN', 'VBZ', 'VBN'): 0.1111111111111111, ('VBZ', 'VBN', 'IN'): 0.1111111111111111, ('VBN', 'IN', 'NN'): 0.1111111111111111, ('NN', 'VBZ'): 0.09090909090909091, ('VBZ', 'VBN'): 0.09090909090909091, ('VBN', 'IN'): 0.09090909090909091, ('IN', 'NN'): 0.09090909090909091, ('RB', 'PRP'): 0.09090909090909091, ('PRP', 'VBP'): 0.09090909090909091, ('VBP', 'IN'): 0.09090909090909091, ('IN', 'VBG'): 0.09090909090909091, ('VBG', 'DT'): 0.09090909090909091, ('VBZ',): 0.07692307692307693, ('VBN',): 0.07692307692307693, ('RB',): 0.07692307692307693, ('PRP',): 0.07692307692307693, ('VBP',): 0.07692307692307693, ('VBG',): 0.07692307692307693, ('RB', 'PRP', 'VBP'): 0, ('PRP', 'VBP', 'IN'): 0, ('VBP', 'IN', 'VBG'): 0, ('IN', 'VBG', 'DT'): 0, ('VBG', 'DT', 'NN'): 0}) \n",
      "\n",
      "Gram probability for ('RB', 'PRP', 'VBP') Counter({('NN',): 0.23076923076923078, ('DT', 'NN'): 0.18181818181818182, ('DT',): 0.15384615384615385, ('IN',): 0.15384615384615385, ('DT', 'NN', 'VBZ'): 0.1111111111111111, ('NN', 'VBZ', 'VBN'): 0.1111111111111111, ('VBZ', 'VBN', 'IN'): 0.1111111111111111, ('VBN', 'IN', 'NN'): 0.1111111111111111, ('RB', 'PRP', 'VBP'): 0.1111111111111111, ('NN', 'VBZ'): 0.09090909090909091, ('VBZ', 'VBN'): 0.09090909090909091, ('VBN', 'IN'): 0.09090909090909091, ('IN', 'NN'): 0.09090909090909091, ('RB', 'PRP'): 0.09090909090909091, ('PRP', 'VBP'): 0.09090909090909091, ('VBP', 'IN'): 0.09090909090909091, ('IN', 'VBG'): 0.09090909090909091, ('VBG', 'DT'): 0.09090909090909091, ('VBZ',): 0.07692307692307693, ('VBN',): 0.07692307692307693, ('RB',): 0.07692307692307693, ('PRP',): 0.07692307692307693, ('VBP',): 0.07692307692307693, ('VBG',): 0.07692307692307693, ('PRP', 'VBP', 'IN'): 0, ('VBP', 'IN', 'VBG'): 0, ('IN', 'VBG', 'DT'): 0, ('VBG', 'DT', 'NN'): 0}) \n",
      "\n",
      "Gram probability for ('PRP', 'VBP', 'IN') Counter({('NN',): 0.23076923076923078, ('DT', 'NN'): 0.18181818181818182, ('DT',): 0.15384615384615385, ('IN',): 0.15384615384615385, ('DT', 'NN', 'VBZ'): 0.1111111111111111, ('NN', 'VBZ', 'VBN'): 0.1111111111111111, ('VBZ', 'VBN', 'IN'): 0.1111111111111111, ('VBN', 'IN', 'NN'): 0.1111111111111111, ('RB', 'PRP', 'VBP'): 0.1111111111111111, ('PRP', 'VBP', 'IN'): 0.1111111111111111, ('NN', 'VBZ'): 0.09090909090909091, ('VBZ', 'VBN'): 0.09090909090909091, ('VBN', 'IN'): 0.09090909090909091, ('IN', 'NN'): 0.09090909090909091, ('RB', 'PRP'): 0.09090909090909091, ('PRP', 'VBP'): 0.09090909090909091, ('VBP', 'IN'): 0.09090909090909091, ('IN', 'VBG'): 0.09090909090909091, ('VBG', 'DT'): 0.09090909090909091, ('VBZ',): 0.07692307692307693, ('VBN',): 0.07692307692307693, ('RB',): 0.07692307692307693, ('PRP',): 0.07692307692307693, ('VBP',): 0.07692307692307693, ('VBG',): 0.07692307692307693, ('VBP', 'IN', 'VBG'): 0, ('IN', 'VBG', 'DT'): 0, ('VBG', 'DT', 'NN'): 0}) \n",
      "\n",
      "Gram probability for ('VBP', 'IN', 'VBG') Counter({('NN',): 0.23076923076923078, ('DT', 'NN'): 0.18181818181818182, ('DT',): 0.15384615384615385, ('IN',): 0.15384615384615385, ('DT', 'NN', 'VBZ'): 0.1111111111111111, ('NN', 'VBZ', 'VBN'): 0.1111111111111111, ('VBZ', 'VBN', 'IN'): 0.1111111111111111, ('VBN', 'IN', 'NN'): 0.1111111111111111, ('RB', 'PRP', 'VBP'): 0.1111111111111111, ('PRP', 'VBP', 'IN'): 0.1111111111111111, ('VBP', 'IN', 'VBG'): 0.1111111111111111, ('NN', 'VBZ'): 0.09090909090909091, ('VBZ', 'VBN'): 0.09090909090909091, ('VBN', 'IN'): 0.09090909090909091, ('IN', 'NN'): 0.09090909090909091, ('RB', 'PRP'): 0.09090909090909091, ('PRP', 'VBP'): 0.09090909090909091, ('VBP', 'IN'): 0.09090909090909091, ('IN', 'VBG'): 0.09090909090909091, ('VBG', 'DT'): 0.09090909090909091, ('VBZ',): 0.07692307692307693, ('VBN',): 0.07692307692307693, ('RB',): 0.07692307692307693, ('PRP',): 0.07692307692307693, ('VBP',): 0.07692307692307693, ('VBG',): 0.07692307692307693, ('IN', 'VBG', 'DT'): 0, ('VBG', 'DT', 'NN'): 0}) \n",
      "\n",
      "Gram probability for ('IN', 'VBG', 'DT') Counter({('NN',): 0.23076923076923078, ('DT', 'NN'): 0.18181818181818182, ('DT',): 0.15384615384615385, ('IN',): 0.15384615384615385, ('DT', 'NN', 'VBZ'): 0.1111111111111111, ('NN', 'VBZ', 'VBN'): 0.1111111111111111, ('VBZ', 'VBN', 'IN'): 0.1111111111111111, ('VBN', 'IN', 'NN'): 0.1111111111111111, ('RB', 'PRP', 'VBP'): 0.1111111111111111, ('PRP', 'VBP', 'IN'): 0.1111111111111111, ('VBP', 'IN', 'VBG'): 0.1111111111111111, ('IN', 'VBG', 'DT'): 0.1111111111111111, ('NN', 'VBZ'): 0.09090909090909091, ('VBZ', 'VBN'): 0.09090909090909091, ('VBN', 'IN'): 0.09090909090909091, ('IN', 'NN'): 0.09090909090909091, ('RB', 'PRP'): 0.09090909090909091, ('PRP', 'VBP'): 0.09090909090909091, ('VBP', 'IN'): 0.09090909090909091, ('IN', 'VBG'): 0.09090909090909091, ('VBG', 'DT'): 0.09090909090909091, ('VBZ',): 0.07692307692307693, ('VBN',): 0.07692307692307693, ('RB',): 0.07692307692307693, ('PRP',): 0.07692307692307693, ('VBP',): 0.07692307692307693, ('VBG',): 0.07692307692307693, ('VBG', 'DT', 'NN'): 0}) \n",
      "\n",
      "Gram probability for ('VBG', 'DT', 'NN') Counter({('NN',): 0.23076923076923078, ('DT', 'NN'): 0.18181818181818182, ('DT',): 0.15384615384615385, ('IN',): 0.15384615384615385, ('DT', 'NN', 'VBZ'): 0.1111111111111111, ('NN', 'VBZ', 'VBN'): 0.1111111111111111, ('VBZ', 'VBN', 'IN'): 0.1111111111111111, ('VBN', 'IN', 'NN'): 0.1111111111111111, ('RB', 'PRP', 'VBP'): 0.1111111111111111, ('PRP', 'VBP', 'IN'): 0.1111111111111111, ('VBP', 'IN', 'VBG'): 0.1111111111111111, ('IN', 'VBG', 'DT'): 0.1111111111111111, ('VBG', 'DT', 'NN'): 0.1111111111111111, ('NN', 'VBZ'): 0.09090909090909091, ('VBZ', 'VBN'): 0.09090909090909091, ('VBN', 'IN'): 0.09090909090909091, ('IN', 'NN'): 0.09090909090909091, ('RB', 'PRP'): 0.09090909090909091, ('PRP', 'VBP'): 0.09090909090909091, ('VBP', 'IN'): 0.09090909090909091, ('IN', 'VBG'): 0.09090909090909091, ('VBG', 'DT'): 0.09090909090909091, ('VBZ',): 0.07692307692307693, ('VBN',): 0.07692307692307693, ('RB',): 0.07692307692307693, ('PRP',): 0.07692307692307693, ('VBP',): 0.07692307692307693, ('VBG',): 0.07692307692307693}) \n",
      "\n"
     ]
    }
   ],
   "source": [
    "gp = count_corpora_pos_sequences(t, pseq, 3)"
   ]
  },
  {
   "cell_type": "code",
   "execution_count": 132,
   "metadata": {},
   "outputs": [
    {
     "name": "stdout",
     "output_type": "stream",
     "text": [
      "Sequence ('IN', 'VBG', 'DT')\n",
      "Sequence length 3\n",
      "Probability for ('IN', 'VBG', 'DT') 0.0011307950254588373\n",
      "Numerator 2.557394779204905e-06\n",
      "Initial denominator 0\n",
      "Sequence substrings ('IN',) ('VBG', 'DT')\n",
      "Sequence substring probabilities 0.12440057566025826 0.004700647799522253\n",
      "\n",
      "Denominator for 1 0.0005847632922366946\n",
      "Sequence substrings ('IN', 'VBG') ('DT',)\n",
      "Sequence substring probabilities 0.004743861109221641 0.10340329322800851\n",
      "\n",
      "Denominator for 2 0.0010752941535464855\n"
     ]
    },
    {
     "data": {
      "text/plain": [
       "0.0023783211047602405"
      ]
     },
     "execution_count": 132,
     "metadata": {},
     "output_type": "execute_result"
    }
   ],
   "source": [
    "fairSCP(('IN', 'VBG', 'DT'))"
   ]
  },
  {
   "cell_type": "code",
   "execution_count": null,
   "metadata": {},
   "outputs": [],
   "source": []
  }
 ],
 "metadata": {
  "kernelspec": {
   "display_name": "Python 3",
   "language": "python",
   "name": "python3"
  },
  "language_info": {
   "codemirror_mode": {
    "name": "ipython",
    "version": 3
   },
   "file_extension": ".py",
   "mimetype": "text/x-python",
   "name": "python",
   "nbconvert_exporter": "python",
   "pygments_lexer": "ipython3",
   "version": "3.6.7"
  }
 },
 "nbformat": 4,
 "nbformat_minor": 2
}
